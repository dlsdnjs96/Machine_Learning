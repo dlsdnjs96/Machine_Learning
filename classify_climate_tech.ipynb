{
  "nbformat": 4,
  "nbformat_minor": 0,
  "metadata": {
    "colab": {
      "name": "classify_climate_tech.ipynb",
      "provenance": []
    },
    "kernelspec": {
      "display_name": "Python 3",
      "name": "python3"
    },
    "language_info": {
      "name": "python"
    }
  },
  "cells": [
    {
      "cell_type": "code",
      "metadata": {
        "id": "4kyZkwEDgEOU"
      },
      "source": [
        "import numpy as np\n",
        "import pandas as pd\n",
        "\n",
        "train = pd.read_csv('/content/drive/MyDrive/Colab Notebooks/provide_gas/train.csv', encoding='euc-kr')\n",
        "test = pd.read_csv('/content/drive/MyDrive/Colab Notebooks/provide_gas/test.csv')"
      ],
      "execution_count": null,
      "outputs": []
    },
    {
      "cell_type": "code",
      "metadata": {
        "colab": {
          "base_uri": "https://localhost:8080/",
          "height": 203
        },
        "id": "84AIlMWqJ2Ol",
        "outputId": "c94a14c3-2d08-4361-fa55-cbbe134e4e75"
      },
      "source": [
        "train.head()"
      ],
      "execution_count": null,
      "outputs": [
        {
          "output_type": "execute_result",
          "data": {
            "text/html": [
              "<div>\n",
              "<style scoped>\n",
              "    .dataframe tbody tr th:only-of-type {\n",
              "        vertical-align: middle;\n",
              "    }\n",
              "\n",
              "    .dataframe tbody tr th {\n",
              "        vertical-align: top;\n",
              "    }\n",
              "\n",
              "    .dataframe thead th {\n",
              "        text-align: right;\n",
              "    }\n",
              "</style>\n",
              "<table border=\"1\" class=\"dataframe\">\n",
              "  <thead>\n",
              "    <tr style=\"text-align: right;\">\n",
              "      <th></th>\n",
              "      <th>연월일</th>\n",
              "      <th>시간</th>\n",
              "      <th>구분</th>\n",
              "      <th>공급량</th>\n",
              "    </tr>\n",
              "  </thead>\n",
              "  <tbody>\n",
              "    <tr>\n",
              "      <th>0</th>\n",
              "      <td>2013-01-01</td>\n",
              "      <td>1</td>\n",
              "      <td>A</td>\n",
              "      <td>2497.129</td>\n",
              "    </tr>\n",
              "    <tr>\n",
              "      <th>1</th>\n",
              "      <td>2013-01-01</td>\n",
              "      <td>2</td>\n",
              "      <td>A</td>\n",
              "      <td>2363.265</td>\n",
              "    </tr>\n",
              "    <tr>\n",
              "      <th>2</th>\n",
              "      <td>2013-01-01</td>\n",
              "      <td>3</td>\n",
              "      <td>A</td>\n",
              "      <td>2258.505</td>\n",
              "    </tr>\n",
              "    <tr>\n",
              "      <th>3</th>\n",
              "      <td>2013-01-01</td>\n",
              "      <td>4</td>\n",
              "      <td>A</td>\n",
              "      <td>2243.969</td>\n",
              "    </tr>\n",
              "    <tr>\n",
              "      <th>4</th>\n",
              "      <td>2013-01-01</td>\n",
              "      <td>5</td>\n",
              "      <td>A</td>\n",
              "      <td>2344.105</td>\n",
              "    </tr>\n",
              "  </tbody>\n",
              "</table>\n",
              "</div>"
            ],
            "text/plain": [
              "          연월일  시간 구분       공급량\n",
              "0  2013-01-01   1  A  2497.129\n",
              "1  2013-01-01   2  A  2363.265\n",
              "2  2013-01-01   3  A  2258.505\n",
              "3  2013-01-01   4  A  2243.969\n",
              "4  2013-01-01   5  A  2344.105"
            ]
          },
          "metadata": {},
          "execution_count": 74
        }
      ]
    },
    {
      "cell_type": "code",
      "metadata": {
        "colab": {
          "base_uri": "https://localhost:8080/",
          "height": 203
        },
        "id": "WFZ-bbmdKXUz",
        "outputId": "5ef5d728-9dec-4b27-e633-3ceab386df3a"
      },
      "source": [
        "test.head()"
      ],
      "execution_count": null,
      "outputs": [
        {
          "output_type": "execute_result",
          "data": {
            "text/html": [
              "<div>\n",
              "<style scoped>\n",
              "    .dataframe tbody tr th:only-of-type {\n",
              "        vertical-align: middle;\n",
              "    }\n",
              "\n",
              "    .dataframe tbody tr th {\n",
              "        vertical-align: top;\n",
              "    }\n",
              "\n",
              "    .dataframe thead th {\n",
              "        text-align: right;\n",
              "    }\n",
              "</style>\n",
              "<table border=\"1\" class=\"dataframe\">\n",
              "  <thead>\n",
              "    <tr style=\"text-align: right;\">\n",
              "      <th></th>\n",
              "      <th>일자|시간|구분</th>\n",
              "    </tr>\n",
              "  </thead>\n",
              "  <tbody>\n",
              "    <tr>\n",
              "      <th>0</th>\n",
              "      <td>2019-01-01 01 A</td>\n",
              "    </tr>\n",
              "    <tr>\n",
              "      <th>1</th>\n",
              "      <td>2019-01-01 02 A</td>\n",
              "    </tr>\n",
              "    <tr>\n",
              "      <th>2</th>\n",
              "      <td>2019-01-01 03 A</td>\n",
              "    </tr>\n",
              "    <tr>\n",
              "      <th>3</th>\n",
              "      <td>2019-01-01 04 A</td>\n",
              "    </tr>\n",
              "    <tr>\n",
              "      <th>4</th>\n",
              "      <td>2019-01-01 05 A</td>\n",
              "    </tr>\n",
              "  </tbody>\n",
              "</table>\n",
              "</div>"
            ],
            "text/plain": [
              "          일자|시간|구분\n",
              "0  2019-01-01 01 A\n",
              "1  2019-01-01 02 A\n",
              "2  2019-01-01 03 A\n",
              "3  2019-01-01 04 A\n",
              "4  2019-01-01 05 A"
            ]
          },
          "metadata": {},
          "execution_count": 75
        }
      ]
    },
    {
      "cell_type": "code",
      "metadata": {
        "colab": {
          "base_uri": "https://localhost:8080/",
          "height": 203
        },
        "id": "iAcdsAOMK2bv",
        "outputId": "810831bb-8af6-4a4b-b713-d25661f58767"
      },
      "source": [
        "all_data = pd.concat([train, test], sort=False)\n",
        "all_data.head()"
      ],
      "execution_count": null,
      "outputs": [
        {
          "output_type": "execute_result",
          "data": {
            "text/html": [
              "<div>\n",
              "<style scoped>\n",
              "    .dataframe tbody tr th:only-of-type {\n",
              "        vertical-align: middle;\n",
              "    }\n",
              "\n",
              "    .dataframe tbody tr th {\n",
              "        vertical-align: top;\n",
              "    }\n",
              "\n",
              "    .dataframe thead th {\n",
              "        text-align: right;\n",
              "    }\n",
              "</style>\n",
              "<table border=\"1\" class=\"dataframe\">\n",
              "  <thead>\n",
              "    <tr style=\"text-align: right;\">\n",
              "      <th></th>\n",
              "      <th>연월일</th>\n",
              "      <th>시간</th>\n",
              "      <th>구분</th>\n",
              "      <th>공급량</th>\n",
              "      <th>일자|시간|구분</th>\n",
              "    </tr>\n",
              "  </thead>\n",
              "  <tbody>\n",
              "    <tr>\n",
              "      <th>0</th>\n",
              "      <td>2013-01-01</td>\n",
              "      <td>1.0</td>\n",
              "      <td>A</td>\n",
              "      <td>2497.129</td>\n",
              "      <td>NaN</td>\n",
              "    </tr>\n",
              "    <tr>\n",
              "      <th>1</th>\n",
              "      <td>2013-01-01</td>\n",
              "      <td>2.0</td>\n",
              "      <td>A</td>\n",
              "      <td>2363.265</td>\n",
              "      <td>NaN</td>\n",
              "    </tr>\n",
              "    <tr>\n",
              "      <th>2</th>\n",
              "      <td>2013-01-01</td>\n",
              "      <td>3.0</td>\n",
              "      <td>A</td>\n",
              "      <td>2258.505</td>\n",
              "      <td>NaN</td>\n",
              "    </tr>\n",
              "    <tr>\n",
              "      <th>3</th>\n",
              "      <td>2013-01-01</td>\n",
              "      <td>4.0</td>\n",
              "      <td>A</td>\n",
              "      <td>2243.969</td>\n",
              "      <td>NaN</td>\n",
              "    </tr>\n",
              "    <tr>\n",
              "      <th>4</th>\n",
              "      <td>2013-01-01</td>\n",
              "      <td>5.0</td>\n",
              "      <td>A</td>\n",
              "      <td>2344.105</td>\n",
              "      <td>NaN</td>\n",
              "    </tr>\n",
              "  </tbody>\n",
              "</table>\n",
              "</div>"
            ],
            "text/plain": [
              "          연월일   시간 구분       공급량 일자|시간|구분\n",
              "0  2013-01-01  1.0  A  2497.129      NaN\n",
              "1  2013-01-01  2.0  A  2363.265      NaN\n",
              "2  2013-01-01  3.0  A  2258.505      NaN\n",
              "3  2013-01-01  4.0  A  2243.969      NaN\n",
              "4  2013-01-01  5.0  A  2344.105      NaN"
            ]
          },
          "metadata": {},
          "execution_count": 83
        }
      ]
    },
    {
      "cell_type": "code",
      "metadata": {
        "colab": {
          "base_uri": "https://localhost:8080/",
          "height": 203
        },
        "id": "AnQrGJ3EK-5w",
        "outputId": "a747d4b9-0fd5-43fd-c0d0-a91e8714349a"
      },
      "source": [
        "train['year'] = pd.to_numeric(train['연월일'].str[:4])\n",
        "train['month'] = pd.to_numeric(train['연월일'].str[5:7])\n",
        "train['day'] = pd.to_numeric(train['연월일'].str[8:10])\n",
        "train['hour'] = train['시간']\n",
        "train['type'] = train['구분']\n",
        "train['gas'] = train['공급량']\n",
        "\n",
        "\n",
        "\n",
        "train.head()"
      ],
      "execution_count": null,
      "outputs": [
        {
          "output_type": "execute_result",
          "data": {
            "text/html": [
              "<div>\n",
              "<style scoped>\n",
              "    .dataframe tbody tr th:only-of-type {\n",
              "        vertical-align: middle;\n",
              "    }\n",
              "\n",
              "    .dataframe tbody tr th {\n",
              "        vertical-align: top;\n",
              "    }\n",
              "\n",
              "    .dataframe thead th {\n",
              "        text-align: right;\n",
              "    }\n",
              "</style>\n",
              "<table border=\"1\" class=\"dataframe\">\n",
              "  <thead>\n",
              "    <tr style=\"text-align: right;\">\n",
              "      <th></th>\n",
              "      <th>연월일</th>\n",
              "      <th>시간</th>\n",
              "      <th>구분</th>\n",
              "      <th>공급량</th>\n",
              "      <th>year</th>\n",
              "      <th>month</th>\n",
              "      <th>day</th>\n",
              "      <th>hour</th>\n",
              "      <th>type</th>\n",
              "      <th>gas</th>\n",
              "    </tr>\n",
              "  </thead>\n",
              "  <tbody>\n",
              "    <tr>\n",
              "      <th>0</th>\n",
              "      <td>2013-01-01</td>\n",
              "      <td>1</td>\n",
              "      <td>A</td>\n",
              "      <td>2497.129</td>\n",
              "      <td>2013</td>\n",
              "      <td>1</td>\n",
              "      <td>1</td>\n",
              "      <td>1</td>\n",
              "      <td>A</td>\n",
              "      <td>2497.129</td>\n",
              "    </tr>\n",
              "    <tr>\n",
              "      <th>1</th>\n",
              "      <td>2013-01-01</td>\n",
              "      <td>2</td>\n",
              "      <td>A</td>\n",
              "      <td>2363.265</td>\n",
              "      <td>2013</td>\n",
              "      <td>1</td>\n",
              "      <td>1</td>\n",
              "      <td>2</td>\n",
              "      <td>A</td>\n",
              "      <td>2363.265</td>\n",
              "    </tr>\n",
              "    <tr>\n",
              "      <th>2</th>\n",
              "      <td>2013-01-01</td>\n",
              "      <td>3</td>\n",
              "      <td>A</td>\n",
              "      <td>2258.505</td>\n",
              "      <td>2013</td>\n",
              "      <td>1</td>\n",
              "      <td>1</td>\n",
              "      <td>3</td>\n",
              "      <td>A</td>\n",
              "      <td>2258.505</td>\n",
              "    </tr>\n",
              "    <tr>\n",
              "      <th>3</th>\n",
              "      <td>2013-01-01</td>\n",
              "      <td>4</td>\n",
              "      <td>A</td>\n",
              "      <td>2243.969</td>\n",
              "      <td>2013</td>\n",
              "      <td>1</td>\n",
              "      <td>1</td>\n",
              "      <td>4</td>\n",
              "      <td>A</td>\n",
              "      <td>2243.969</td>\n",
              "    </tr>\n",
              "    <tr>\n",
              "      <th>4</th>\n",
              "      <td>2013-01-01</td>\n",
              "      <td>5</td>\n",
              "      <td>A</td>\n",
              "      <td>2344.105</td>\n",
              "      <td>2013</td>\n",
              "      <td>1</td>\n",
              "      <td>1</td>\n",
              "      <td>5</td>\n",
              "      <td>A</td>\n",
              "      <td>2344.105</td>\n",
              "    </tr>\n",
              "  </tbody>\n",
              "</table>\n",
              "</div>"
            ],
            "text/plain": [
              "          연월일  시간 구분       공급량  year  month  day  hour type       gas\n",
              "0  2013-01-01   1  A  2497.129  2013      1    1     1    A  2497.129\n",
              "1  2013-01-01   2  A  2363.265  2013      1    1     2    A  2363.265\n",
              "2  2013-01-01   3  A  2258.505  2013      1    1     3    A  2258.505\n",
              "3  2013-01-01   4  A  2243.969  2013      1    1     4    A  2243.969\n",
              "4  2013-01-01   5  A  2344.105  2013      1    1     5    A  2344.105"
            ]
          },
          "metadata": {},
          "execution_count": 117
        }
      ]
    },
    {
      "cell_type": "code",
      "metadata": {
        "colab": {
          "base_uri": "https://localhost:8080/",
          "height": 203
        },
        "id": "dftHZ3clPVau",
        "outputId": "3f259161-dbf7-4cbb-f0c7-04a46e38670a"
      },
      "source": [
        "types = train['구분'].unique()\n",
        "count = 1\n",
        "\n",
        "for i in types:\n",
        "  train.loc[train['구분'] == i, 'type'] = count\n",
        "  count += 1\n",
        "train.head()"
      ],
      "execution_count": null,
      "outputs": [
        {
          "output_type": "execute_result",
          "data": {
            "text/html": [
              "<div>\n",
              "<style scoped>\n",
              "    .dataframe tbody tr th:only-of-type {\n",
              "        vertical-align: middle;\n",
              "    }\n",
              "\n",
              "    .dataframe tbody tr th {\n",
              "        vertical-align: top;\n",
              "    }\n",
              "\n",
              "    .dataframe thead th {\n",
              "        text-align: right;\n",
              "    }\n",
              "</style>\n",
              "<table border=\"1\" class=\"dataframe\">\n",
              "  <thead>\n",
              "    <tr style=\"text-align: right;\">\n",
              "      <th></th>\n",
              "      <th>연월일</th>\n",
              "      <th>시간</th>\n",
              "      <th>구분</th>\n",
              "      <th>공급량</th>\n",
              "      <th>year</th>\n",
              "      <th>month</th>\n",
              "      <th>day</th>\n",
              "      <th>hour</th>\n",
              "      <th>type</th>\n",
              "      <th>gas</th>\n",
              "    </tr>\n",
              "  </thead>\n",
              "  <tbody>\n",
              "    <tr>\n",
              "      <th>0</th>\n",
              "      <td>2013-01-01</td>\n",
              "      <td>1</td>\n",
              "      <td>A</td>\n",
              "      <td>2497.129</td>\n",
              "      <td>2013</td>\n",
              "      <td>1</td>\n",
              "      <td>1</td>\n",
              "      <td>1</td>\n",
              "      <td>1</td>\n",
              "      <td>2497.129</td>\n",
              "    </tr>\n",
              "    <tr>\n",
              "      <th>1</th>\n",
              "      <td>2013-01-01</td>\n",
              "      <td>2</td>\n",
              "      <td>A</td>\n",
              "      <td>2363.265</td>\n",
              "      <td>2013</td>\n",
              "      <td>1</td>\n",
              "      <td>1</td>\n",
              "      <td>2</td>\n",
              "      <td>1</td>\n",
              "      <td>2363.265</td>\n",
              "    </tr>\n",
              "    <tr>\n",
              "      <th>2</th>\n",
              "      <td>2013-01-01</td>\n",
              "      <td>3</td>\n",
              "      <td>A</td>\n",
              "      <td>2258.505</td>\n",
              "      <td>2013</td>\n",
              "      <td>1</td>\n",
              "      <td>1</td>\n",
              "      <td>3</td>\n",
              "      <td>1</td>\n",
              "      <td>2258.505</td>\n",
              "    </tr>\n",
              "    <tr>\n",
              "      <th>3</th>\n",
              "      <td>2013-01-01</td>\n",
              "      <td>4</td>\n",
              "      <td>A</td>\n",
              "      <td>2243.969</td>\n",
              "      <td>2013</td>\n",
              "      <td>1</td>\n",
              "      <td>1</td>\n",
              "      <td>4</td>\n",
              "      <td>1</td>\n",
              "      <td>2243.969</td>\n",
              "    </tr>\n",
              "    <tr>\n",
              "      <th>4</th>\n",
              "      <td>2013-01-01</td>\n",
              "      <td>5</td>\n",
              "      <td>A</td>\n",
              "      <td>2344.105</td>\n",
              "      <td>2013</td>\n",
              "      <td>1</td>\n",
              "      <td>1</td>\n",
              "      <td>5</td>\n",
              "      <td>1</td>\n",
              "      <td>2344.105</td>\n",
              "    </tr>\n",
              "  </tbody>\n",
              "</table>\n",
              "</div>"
            ],
            "text/plain": [
              "          연월일  시간 구분       공급량  year  month  day  hour type       gas\n",
              "0  2013-01-01   1  A  2497.129  2013      1    1     1    1  2497.129\n",
              "1  2013-01-01   2  A  2363.265  2013      1    1     2    1  2363.265\n",
              "2  2013-01-01   3  A  2258.505  2013      1    1     3    1  2258.505\n",
              "3  2013-01-01   4  A  2243.969  2013      1    1     4    1  2243.969\n",
              "4  2013-01-01   5  A  2344.105  2013      1    1     5    1  2344.105"
            ]
          },
          "metadata": {},
          "execution_count": 122
        }
      ]
    },
    {
      "cell_type": "code",
      "metadata": {
        "colab": {
          "base_uri": "https://localhost:8080/",
          "height": 203
        },
        "id": "L6khbzmdNBRo",
        "outputId": "515bacca-0838-4a18-f98e-36bd1073307f"
      },
      "source": [
        "test['year'] = pd.to_numeric(test['일자|시간|구분'].str[:4])\n",
        "test['month'] = pd.to_numeric(test['일자|시간|구분'].str[5:7])\n",
        "test['day'] = pd.to_numeric(test['일자|시간|구분'].str[8:10])\n",
        "test['hour'] = pd.to_numeric(test['일자|시간|구분'].str[11:13])\n",
        "test['구분'] = test['일자|시간|구분'].str[14:15]\n",
        "\n",
        "\n",
        "test.head()"
      ],
      "execution_count": null,
      "outputs": [
        {
          "output_type": "execute_result",
          "data": {
            "text/html": [
              "<div>\n",
              "<style scoped>\n",
              "    .dataframe tbody tr th:only-of-type {\n",
              "        vertical-align: middle;\n",
              "    }\n",
              "\n",
              "    .dataframe tbody tr th {\n",
              "        vertical-align: top;\n",
              "    }\n",
              "\n",
              "    .dataframe thead th {\n",
              "        text-align: right;\n",
              "    }\n",
              "</style>\n",
              "<table border=\"1\" class=\"dataframe\">\n",
              "  <thead>\n",
              "    <tr style=\"text-align: right;\">\n",
              "      <th></th>\n",
              "      <th>일자|시간|구분</th>\n",
              "      <th>year</th>\n",
              "      <th>month</th>\n",
              "      <th>day</th>\n",
              "      <th>hour</th>\n",
              "      <th>type</th>\n",
              "      <th>구분</th>\n",
              "    </tr>\n",
              "  </thead>\n",
              "  <tbody>\n",
              "    <tr>\n",
              "      <th>0</th>\n",
              "      <td>2019-01-01 01 A</td>\n",
              "      <td>2019</td>\n",
              "      <td>1</td>\n",
              "      <td>1</td>\n",
              "      <td>1</td>\n",
              "      <td>A</td>\n",
              "      <td>A</td>\n",
              "    </tr>\n",
              "    <tr>\n",
              "      <th>1</th>\n",
              "      <td>2019-01-01 02 A</td>\n",
              "      <td>2019</td>\n",
              "      <td>1</td>\n",
              "      <td>1</td>\n",
              "      <td>2</td>\n",
              "      <td>A</td>\n",
              "      <td>A</td>\n",
              "    </tr>\n",
              "    <tr>\n",
              "      <th>2</th>\n",
              "      <td>2019-01-01 03 A</td>\n",
              "      <td>2019</td>\n",
              "      <td>1</td>\n",
              "      <td>1</td>\n",
              "      <td>3</td>\n",
              "      <td>A</td>\n",
              "      <td>A</td>\n",
              "    </tr>\n",
              "    <tr>\n",
              "      <th>3</th>\n",
              "      <td>2019-01-01 04 A</td>\n",
              "      <td>2019</td>\n",
              "      <td>1</td>\n",
              "      <td>1</td>\n",
              "      <td>4</td>\n",
              "      <td>A</td>\n",
              "      <td>A</td>\n",
              "    </tr>\n",
              "    <tr>\n",
              "      <th>4</th>\n",
              "      <td>2019-01-01 05 A</td>\n",
              "      <td>2019</td>\n",
              "      <td>1</td>\n",
              "      <td>1</td>\n",
              "      <td>5</td>\n",
              "      <td>A</td>\n",
              "      <td>A</td>\n",
              "    </tr>\n",
              "  </tbody>\n",
              "</table>\n",
              "</div>"
            ],
            "text/plain": [
              "          일자|시간|구분  year  month  day  hour type 구분\n",
              "0  2019-01-01 01 A  2019      1    1     1    A  A\n",
              "1  2019-01-01 02 A  2019      1    1     2    A  A\n",
              "2  2019-01-01 03 A  2019      1    1     3    A  A\n",
              "3  2019-01-01 04 A  2019      1    1     4    A  A\n",
              "4  2019-01-01 05 A  2019      1    1     5    A  A"
            ]
          },
          "metadata": {},
          "execution_count": 123
        }
      ]
    },
    {
      "cell_type": "code",
      "metadata": {
        "colab": {
          "base_uri": "https://localhost:8080/",
          "height": 203
        },
        "id": "Z_nJ5qVDPrgE",
        "outputId": "d61d18d6-3595-48a7-ce61-2c344a97fa88"
      },
      "source": [
        "types = test['구분'].unique()\n",
        "count = 1\n",
        "\n",
        "for i in types:\n",
        "  test.loc[test['구분'] == i, 'type'] = count\n",
        "  count += 1\n",
        "test.head()"
      ],
      "execution_count": null,
      "outputs": [
        {
          "output_type": "execute_result",
          "data": {
            "text/html": [
              "<div>\n",
              "<style scoped>\n",
              "    .dataframe tbody tr th:only-of-type {\n",
              "        vertical-align: middle;\n",
              "    }\n",
              "\n",
              "    .dataframe tbody tr th {\n",
              "        vertical-align: top;\n",
              "    }\n",
              "\n",
              "    .dataframe thead th {\n",
              "        text-align: right;\n",
              "    }\n",
              "</style>\n",
              "<table border=\"1\" class=\"dataframe\">\n",
              "  <thead>\n",
              "    <tr style=\"text-align: right;\">\n",
              "      <th></th>\n",
              "      <th>일자|시간|구분</th>\n",
              "      <th>year</th>\n",
              "      <th>month</th>\n",
              "      <th>day</th>\n",
              "      <th>hour</th>\n",
              "      <th>type</th>\n",
              "      <th>구분</th>\n",
              "    </tr>\n",
              "  </thead>\n",
              "  <tbody>\n",
              "    <tr>\n",
              "      <th>0</th>\n",
              "      <td>2019-01-01 01 A</td>\n",
              "      <td>2019</td>\n",
              "      <td>1</td>\n",
              "      <td>1</td>\n",
              "      <td>1</td>\n",
              "      <td>1</td>\n",
              "      <td>A</td>\n",
              "    </tr>\n",
              "    <tr>\n",
              "      <th>1</th>\n",
              "      <td>2019-01-01 02 A</td>\n",
              "      <td>2019</td>\n",
              "      <td>1</td>\n",
              "      <td>1</td>\n",
              "      <td>2</td>\n",
              "      <td>1</td>\n",
              "      <td>A</td>\n",
              "    </tr>\n",
              "    <tr>\n",
              "      <th>2</th>\n",
              "      <td>2019-01-01 03 A</td>\n",
              "      <td>2019</td>\n",
              "      <td>1</td>\n",
              "      <td>1</td>\n",
              "      <td>3</td>\n",
              "      <td>1</td>\n",
              "      <td>A</td>\n",
              "    </tr>\n",
              "    <tr>\n",
              "      <th>3</th>\n",
              "      <td>2019-01-01 04 A</td>\n",
              "      <td>2019</td>\n",
              "      <td>1</td>\n",
              "      <td>1</td>\n",
              "      <td>4</td>\n",
              "      <td>1</td>\n",
              "      <td>A</td>\n",
              "    </tr>\n",
              "    <tr>\n",
              "      <th>4</th>\n",
              "      <td>2019-01-01 05 A</td>\n",
              "      <td>2019</td>\n",
              "      <td>1</td>\n",
              "      <td>1</td>\n",
              "      <td>5</td>\n",
              "      <td>1</td>\n",
              "      <td>A</td>\n",
              "    </tr>\n",
              "  </tbody>\n",
              "</table>\n",
              "</div>"
            ],
            "text/plain": [
              "          일자|시간|구분  year  month  day  hour type 구분\n",
              "0  2019-01-01 01 A  2019      1    1     1    1  A\n",
              "1  2019-01-01 02 A  2019      1    1     2    1  A\n",
              "2  2019-01-01 03 A  2019      1    1     3    1  A\n",
              "3  2019-01-01 04 A  2019      1    1     4    1  A\n",
              "4  2019-01-01 05 A  2019      1    1     5    1  A"
            ]
          },
          "metadata": {},
          "execution_count": 124
        }
      ]
    },
    {
      "cell_type": "code",
      "metadata": {
        "colab": {
          "base_uri": "https://localhost:8080/"
        },
        "id": "GmLnqSORJ5Nt",
        "outputId": "f7294095-b0c7-4e1b-de33-ccfca84a6cc6"
      },
      "source": [
        "train.columns"
      ],
      "execution_count": null,
      "outputs": [
        {
          "output_type": "execute_result",
          "data": {
            "text/plain": [
              "Index(['연월일', '시간', '구분', '공급량', 'year', 'month', 'day', 'hour', 'type',\n",
              "       'gas'],\n",
              "      dtype='object')"
            ]
          },
          "metadata": {},
          "execution_count": 118
        }
      ]
    },
    {
      "cell_type": "code",
      "metadata": {
        "id": "lT2DLcEEKyX8"
      },
      "source": [
        "x_col = ['year', 'month', 'day', 'hour', 'type']\n",
        "y_col = ['gas']\n",
        "\n",
        "x_train = train[x_col]\n",
        "y_train = train['gas']\n",
        "\n",
        "x_test = test[x_col]"
      ],
      "execution_count": null,
      "outputs": []
    },
    {
      "cell_type": "code",
      "metadata": {
        "colab": {
          "base_uri": "https://localhost:8080/"
        },
        "id": "YkuvBNuSOwBB",
        "outputId": "19c30ab4-462f-445d-a5ed-fc1594d01b66"
      },
      "source": [
        "x_train.count()"
      ],
      "execution_count": null,
      "outputs": [
        {
          "output_type": "execute_result",
          "data": {
            "text/plain": [
              "year     368088\n",
              "month    368088\n",
              "day      368088\n",
              "hour     368088\n",
              "type     368088\n",
              "dtype: int64"
            ]
          },
          "metadata": {},
          "execution_count": 114
        }
      ]
    },
    {
      "cell_type": "code",
      "metadata": {
        "colab": {
          "base_uri": "https://localhost:8080/"
        },
        "id": "6yCkMbj3Odru",
        "outputId": "6057ebd1-5b00-4f4f-8bda-630b344a263e"
      },
      "source": [
        "from xgboost import XGBRegressor\n",
        "from sklearn.ensemble import GradientBoostingRegressor, RandomForestRegressor\n",
        "from sklearn.linear_model import LinearRegression\n",
        "from sklearn.metrics import mean_squared_error\n",
        "\n",
        "\n",
        "xgb = XGBRegressor(random_state=42)\n",
        "gbr = GradientBoostingRegressor(random_state=42)\n",
        "rfr = RandomForestRegressor(random_state=42)\n",
        "lr = LinearRegression()\n",
        "\n",
        "\n",
        "#model_names = ['XGBRegressor', 'GradientBoostingRegressor', 'RandomForestRegressor', 'LinearRegression']\n",
        "#models = [xgb, gbr, rfr, lr]\n",
        "model_names = ['GradientBoostingRegressor', 'RandomForestRegressor', 'LinearRegression']\n",
        "models = [gbr, rfr, lr]\n",
        "\n",
        "\n",
        "for ms, mn in zip(models, model_names):\n",
        "  print(mn)\n",
        "  ms.fit(x_train, y_train)\n",
        "  pred = ms.predict(x_test)\n",
        "\n",
        "  #print(mn+\" : \"+(str)(mean_squared_error(y_train, pred, squared=False))+\"\\r\\n\")"
      ],
      "execution_count": null,
      "outputs": [
        {
          "output_type": "stream",
          "name": "stdout",
          "text": [
            "GradientBoostingRegressor\n",
            "RandomForestRegressor\n",
            "LinearRegression\n"
          ]
        }
      ]
    },
    {
      "cell_type": "code",
      "metadata": {
        "id": "LEu6lJBZREV9"
      },
      "source": [
        "submission = pd.read_csv(\"/content/drive/MyDrive/Colab Notebooks/provide_gas/sample_submission.csv\")"
      ],
      "execution_count": null,
      "outputs": []
    },
    {
      "cell_type": "code",
      "metadata": {
        "colab": {
          "base_uri": "https://localhost:8080/",
          "height": 203
        },
        "id": "WN0PaaFwRMmB",
        "outputId": "8ba8533e-77a3-4b2b-ad92-83498cb24d5a"
      },
      "source": [
        "gbr.fit(x_train, y_train)\n",
        "pred = gbr.predict(x_test)\n",
        "\n",
        "submission['공급량'] = pred\n",
        "\n",
        "submission.head()"
      ],
      "execution_count": null,
      "outputs": [
        {
          "output_type": "execute_result",
          "data": {
            "text/html": [
              "<div>\n",
              "<style scoped>\n",
              "    .dataframe tbody tr th:only-of-type {\n",
              "        vertical-align: middle;\n",
              "    }\n",
              "\n",
              "    .dataframe tbody tr th {\n",
              "        vertical-align: top;\n",
              "    }\n",
              "\n",
              "    .dataframe thead th {\n",
              "        text-align: right;\n",
              "    }\n",
              "</style>\n",
              "<table border=\"1\" class=\"dataframe\">\n",
              "  <thead>\n",
              "    <tr style=\"text-align: right;\">\n",
              "      <th></th>\n",
              "      <th>일자|시간|구분</th>\n",
              "      <th>공급량</th>\n",
              "    </tr>\n",
              "  </thead>\n",
              "  <tbody>\n",
              "    <tr>\n",
              "      <th>0</th>\n",
              "      <td>2019-01-01 01 A</td>\n",
              "      <td>2044.939839</td>\n",
              "    </tr>\n",
              "    <tr>\n",
              "      <th>1</th>\n",
              "      <td>2019-01-01 02 A</td>\n",
              "      <td>1949.263729</td>\n",
              "    </tr>\n",
              "    <tr>\n",
              "      <th>2</th>\n",
              "      <td>2019-01-01 03 A</td>\n",
              "      <td>1918.394490</td>\n",
              "    </tr>\n",
              "    <tr>\n",
              "      <th>3</th>\n",
              "      <td>2019-01-01 04 A</td>\n",
              "      <td>1918.394490</td>\n",
              "    </tr>\n",
              "    <tr>\n",
              "      <th>4</th>\n",
              "      <td>2019-01-01 05 A</td>\n",
              "      <td>1985.517753</td>\n",
              "    </tr>\n",
              "  </tbody>\n",
              "</table>\n",
              "</div>"
            ],
            "text/plain": [
              "          일자|시간|구분          공급량\n",
              "0  2019-01-01 01 A  2044.939839\n",
              "1  2019-01-01 02 A  1949.263729\n",
              "2  2019-01-01 03 A  1918.394490\n",
              "3  2019-01-01 04 A  1918.394490\n",
              "4  2019-01-01 05 A  1985.517753"
            ]
          },
          "metadata": {},
          "execution_count": 155
        }
      ]
    },
    {
      "cell_type": "code",
      "metadata": {
        "id": "Hwo7JkDvRgtG"
      },
      "source": [
        "submission.to_csv(\"/content/drive/MyDrive/Colab Notebooks/provide_gas/submission.csv\", index=False)"
      ],
      "execution_count": null,
      "outputs": []
    }
  ]
}