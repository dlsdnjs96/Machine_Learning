{
  "nbformat": 4,
  "nbformat_minor": 0,
  "metadata": {
    "colab": {
      "name": "identify_Iris.ipynb",
      "provenance": [],
      "collapsed_sections": []
    },
    "kernelspec": {
      "name": "python3",
      "display_name": "Python 3"
    },
    "language_info": {
      "name": "python"
    }
  },
  "cells": [
    {
      "cell_type": "code",
      "metadata": {
        "colab": {
          "base_uri": "https://localhost:8080/",
          "height": 234
        },
        "id": "QpteaQMlFvUR",
        "outputId": "632d84b9-da2b-4e23-98cf-477b73e04893"
      },
      "source": [
        "import pandas as pd\n",
        "train = pd.read_csv(\"/content/drive/MyDrive/Colab Notebooks/identify_Iris/iris_train.csv\", index_col = 'id')\n",
        "test = pd.read_csv(\"/content/drive/MyDrive/Colab Notebooks/identify_Iris/iris_test.csv\", index_col = 'id')\n",
        "train.head()\n",
        "test.head()"
      ],
      "execution_count": 86,
      "outputs": [
        {
          "output_type": "execute_result",
          "data": {
            "text/html": [
              "<div>\n",
              "<style scoped>\n",
              "    .dataframe tbody tr th:only-of-type {\n",
              "        vertical-align: middle;\n",
              "    }\n",
              "\n",
              "    .dataframe tbody tr th {\n",
              "        vertical-align: top;\n",
              "    }\n",
              "\n",
              "    .dataframe thead th {\n",
              "        text-align: right;\n",
              "    }\n",
              "</style>\n",
              "<table border=\"1\" class=\"dataframe\">\n",
              "  <thead>\n",
              "    <tr style=\"text-align: right;\">\n",
              "      <th></th>\n",
              "      <th>species</th>\n",
              "      <th>sepal length (cm)</th>\n",
              "      <th>petal length (cm)</th>\n",
              "    </tr>\n",
              "    <tr>\n",
              "      <th>id</th>\n",
              "      <th></th>\n",
              "      <th></th>\n",
              "      <th></th>\n",
              "    </tr>\n",
              "  </thead>\n",
              "  <tbody>\n",
              "    <tr>\n",
              "      <th>0</th>\n",
              "      <td>setosa</td>\n",
              "      <td>5.4</td>\n",
              "      <td>1.7</td>\n",
              "    </tr>\n",
              "    <tr>\n",
              "      <th>1</th>\n",
              "      <td>setosa</td>\n",
              "      <td>5.7</td>\n",
              "      <td>1.5</td>\n",
              "    </tr>\n",
              "    <tr>\n",
              "      <th>2</th>\n",
              "      <td>setosa</td>\n",
              "      <td>5.3</td>\n",
              "      <td>1.5</td>\n",
              "    </tr>\n",
              "    <tr>\n",
              "      <th>3</th>\n",
              "      <td>setosa</td>\n",
              "      <td>5.1</td>\n",
              "      <td>1.9</td>\n",
              "    </tr>\n",
              "    <tr>\n",
              "      <th>4</th>\n",
              "      <td>virginica</td>\n",
              "      <td>6.0</td>\n",
              "      <td>4.8</td>\n",
              "    </tr>\n",
              "  </tbody>\n",
              "</table>\n",
              "</div>"
            ],
            "text/plain": [
              "      species  sepal length (cm)  petal length (cm)\n",
              "id                                                 \n",
              "0      setosa                5.4                1.7\n",
              "1      setosa                5.7                1.5\n",
              "2      setosa                5.3                1.5\n",
              "3      setosa                5.1                1.9\n",
              "4   virginica                6.0                4.8"
            ]
          },
          "metadata": {},
          "execution_count": 86
        }
      ]
    },
    {
      "cell_type": "code",
      "metadata": {
        "colab": {
          "base_uri": "https://localhost:8080/"
        },
        "id": "KGiWHd1oO5ch",
        "outputId": "1b6f1725-ca82-43f0-bb79-5a4cd597cd39"
      },
      "source": [
        "from google.colab import drive\n",
        "drive.mount('/content/drive')"
      ],
      "execution_count": 9,
      "outputs": [
        {
          "output_type": "stream",
          "name": "stdout",
          "text": [
            "Mounted at /content/drive\n"
          ]
        }
      ]
    },
    {
      "cell_type": "code",
      "metadata": {
        "colab": {
          "base_uri": "https://localhost:8080/"
        },
        "id": "V4IDmUAxOgdn",
        "outputId": "00c04ba8-96ec-4a4f-b5c1-1ed053200c8d"
      },
      "source": [
        "all_data = pd.concat([train, test], sort=False)\n",
        "\n",
        "all_data.count()"
      ],
      "execution_count": 87,
      "outputs": [
        {
          "output_type": "execute_result",
          "data": {
            "text/plain": [
              "species              150\n",
              "sepal length (cm)    150\n",
              "petal length (cm)    150\n",
              "sepal width (cm)      75\n",
              "petal width (cm)      75\n",
              "dtype: int64"
            ]
          },
          "metadata": {},
          "execution_count": 87
        }
      ]
    },
    {
      "cell_type": "code",
      "metadata": {
        "colab": {
          "base_uri": "https://localhost:8080/",
          "height": 234
        },
        "id": "lKh6zQQVQKnN",
        "outputId": "58fd5616-1061-4755-aa48-cdaa95b391ca"
      },
      "source": [
        "names = all_data['species'].unique()\n",
        "count = 1\n",
        "\n",
        "for n in names:\n",
        "  all_data.loc[all_data['species'] == n, 'species(status)'] = count\n",
        "  count += 1\n",
        "\n",
        "all_data.head()"
      ],
      "execution_count": 88,
      "outputs": [
        {
          "output_type": "execute_result",
          "data": {
            "text/html": [
              "<div>\n",
              "<style scoped>\n",
              "    .dataframe tbody tr th:only-of-type {\n",
              "        vertical-align: middle;\n",
              "    }\n",
              "\n",
              "    .dataframe tbody tr th {\n",
              "        vertical-align: top;\n",
              "    }\n",
              "\n",
              "    .dataframe thead th {\n",
              "        text-align: right;\n",
              "    }\n",
              "</style>\n",
              "<table border=\"1\" class=\"dataframe\">\n",
              "  <thead>\n",
              "    <tr style=\"text-align: right;\">\n",
              "      <th></th>\n",
              "      <th>species</th>\n",
              "      <th>sepal length (cm)</th>\n",
              "      <th>petal length (cm)</th>\n",
              "      <th>sepal width (cm)</th>\n",
              "      <th>petal width (cm)</th>\n",
              "      <th>species(status)</th>\n",
              "    </tr>\n",
              "    <tr>\n",
              "      <th>id</th>\n",
              "      <th></th>\n",
              "      <th></th>\n",
              "      <th></th>\n",
              "      <th></th>\n",
              "      <th></th>\n",
              "      <th></th>\n",
              "    </tr>\n",
              "  </thead>\n",
              "  <tbody>\n",
              "    <tr>\n",
              "      <th>0</th>\n",
              "      <td>setosa</td>\n",
              "      <td>4.4</td>\n",
              "      <td>1.4</td>\n",
              "      <td>2.9</td>\n",
              "      <td>0.2</td>\n",
              "      <td>1.0</td>\n",
              "    </tr>\n",
              "    <tr>\n",
              "      <th>1</th>\n",
              "      <td>versicolor</td>\n",
              "      <td>6.4</td>\n",
              "      <td>4.5</td>\n",
              "      <td>3.2</td>\n",
              "      <td>1.5</td>\n",
              "      <td>2.0</td>\n",
              "    </tr>\n",
              "    <tr>\n",
              "      <th>2</th>\n",
              "      <td>virginica</td>\n",
              "      <td>6.2</td>\n",
              "      <td>4.8</td>\n",
              "      <td>2.8</td>\n",
              "      <td>1.8</td>\n",
              "      <td>3.0</td>\n",
              "    </tr>\n",
              "    <tr>\n",
              "      <th>3</th>\n",
              "      <td>virginica</td>\n",
              "      <td>7.2</td>\n",
              "      <td>6.1</td>\n",
              "      <td>3.6</td>\n",
              "      <td>2.5</td>\n",
              "      <td>3.0</td>\n",
              "    </tr>\n",
              "    <tr>\n",
              "      <th>4</th>\n",
              "      <td>setosa</td>\n",
              "      <td>4.9</td>\n",
              "      <td>1.4</td>\n",
              "      <td>3.0</td>\n",
              "      <td>0.2</td>\n",
              "      <td>1.0</td>\n",
              "    </tr>\n",
              "  </tbody>\n",
              "</table>\n",
              "</div>"
            ],
            "text/plain": [
              "       species  sepal length (cm)  ...  petal width (cm)  species(status)\n",
              "id                                 ...                                   \n",
              "0       setosa                4.4  ...               0.2              1.0\n",
              "1   versicolor                6.4  ...               1.5              2.0\n",
              "2    virginica                6.2  ...               1.8              3.0\n",
              "3    virginica                7.2  ...               2.5              3.0\n",
              "4       setosa                4.9  ...               0.2              1.0\n",
              "\n",
              "[5 rows x 6 columns]"
            ]
          },
          "metadata": {},
          "execution_count": 88
        }
      ]
    },
    {
      "cell_type": "code",
      "metadata": {
        "colab": {
          "base_uri": "https://localhost:8080/",
          "height": 234
        },
        "id": "PiVfn5TmQ2dA",
        "outputId": "0481d1de-f922-4791-da90-65a47205807c"
      },
      "source": [
        "\n",
        "for n in names:\n",
        "  sum = all_data.loc[(all_data['sepal width (cm)'].notnull()) & (all_data['species'] == n), 'sepal width (cm)'].sum()\n",
        "  count = len(all_data.loc[(all_data['sepal width (cm)'].notnull()) & (all_data['species'] == n), 'sepal width (cm)'])\n",
        "  \n",
        "  all_data.loc[all_data['species'] == n, 'sepal width(ave)'] = sum/count\n",
        "\n",
        "\n",
        "  sum = all_data.loc[(all_data['petal width (cm)'].notnull()) & (all_data['species'] == n), 'petal width (cm)'].sum()\n",
        "  count = len(all_data.loc[(all_data['petal width (cm)'].notnull()) & (all_data['species'] == n), 'petal width (cm)'])\n",
        "  \n",
        "  all_data.loc[all_data['species'] == n, 'petal width(ave)'] = sum/count\n",
        "\n",
        "all_data.head()"
      ],
      "execution_count": 89,
      "outputs": [
        {
          "output_type": "execute_result",
          "data": {
            "text/html": [
              "<div>\n",
              "<style scoped>\n",
              "    .dataframe tbody tr th:only-of-type {\n",
              "        vertical-align: middle;\n",
              "    }\n",
              "\n",
              "    .dataframe tbody tr th {\n",
              "        vertical-align: top;\n",
              "    }\n",
              "\n",
              "    .dataframe thead th {\n",
              "        text-align: right;\n",
              "    }\n",
              "</style>\n",
              "<table border=\"1\" class=\"dataframe\">\n",
              "  <thead>\n",
              "    <tr style=\"text-align: right;\">\n",
              "      <th></th>\n",
              "      <th>species</th>\n",
              "      <th>sepal length (cm)</th>\n",
              "      <th>petal length (cm)</th>\n",
              "      <th>sepal width (cm)</th>\n",
              "      <th>petal width (cm)</th>\n",
              "      <th>species(status)</th>\n",
              "      <th>sepal width(ave)</th>\n",
              "      <th>petal width(ave)</th>\n",
              "    </tr>\n",
              "    <tr>\n",
              "      <th>id</th>\n",
              "      <th></th>\n",
              "      <th></th>\n",
              "      <th></th>\n",
              "      <th></th>\n",
              "      <th></th>\n",
              "      <th></th>\n",
              "      <th></th>\n",
              "      <th></th>\n",
              "    </tr>\n",
              "  </thead>\n",
              "  <tbody>\n",
              "    <tr>\n",
              "      <th>0</th>\n",
              "      <td>setosa</td>\n",
              "      <td>4.4</td>\n",
              "      <td>1.4</td>\n",
              "      <td>2.9</td>\n",
              "      <td>0.2</td>\n",
              "      <td>1.0</td>\n",
              "      <td>3.346667</td>\n",
              "      <td>0.200000</td>\n",
              "    </tr>\n",
              "    <tr>\n",
              "      <th>1</th>\n",
              "      <td>versicolor</td>\n",
              "      <td>6.4</td>\n",
              "      <td>4.5</td>\n",
              "      <td>3.2</td>\n",
              "      <td>1.5</td>\n",
              "      <td>2.0</td>\n",
              "      <td>2.790000</td>\n",
              "      <td>1.353333</td>\n",
              "    </tr>\n",
              "    <tr>\n",
              "      <th>2</th>\n",
              "      <td>virginica</td>\n",
              "      <td>6.2</td>\n",
              "      <td>4.8</td>\n",
              "      <td>2.8</td>\n",
              "      <td>1.8</td>\n",
              "      <td>3.0</td>\n",
              "      <td>2.933333</td>\n",
              "      <td>2.006667</td>\n",
              "    </tr>\n",
              "    <tr>\n",
              "      <th>3</th>\n",
              "      <td>virginica</td>\n",
              "      <td>7.2</td>\n",
              "      <td>6.1</td>\n",
              "      <td>3.6</td>\n",
              "      <td>2.5</td>\n",
              "      <td>3.0</td>\n",
              "      <td>2.933333</td>\n",
              "      <td>2.006667</td>\n",
              "    </tr>\n",
              "    <tr>\n",
              "      <th>4</th>\n",
              "      <td>setosa</td>\n",
              "      <td>4.9</td>\n",
              "      <td>1.4</td>\n",
              "      <td>3.0</td>\n",
              "      <td>0.2</td>\n",
              "      <td>1.0</td>\n",
              "      <td>3.346667</td>\n",
              "      <td>0.200000</td>\n",
              "    </tr>\n",
              "  </tbody>\n",
              "</table>\n",
              "</div>"
            ],
            "text/plain": [
              "       species  sepal length (cm)  ...  sepal width(ave)  petal width(ave)\n",
              "id                                 ...                                    \n",
              "0       setosa                4.4  ...          3.346667          0.200000\n",
              "1   versicolor                6.4  ...          2.790000          1.353333\n",
              "2    virginica                6.2  ...          2.933333          2.006667\n",
              "3    virginica                7.2  ...          2.933333          2.006667\n",
              "4       setosa                4.9  ...          3.346667          0.200000\n",
              "\n",
              "[5 rows x 8 columns]"
            ]
          },
          "metadata": {},
          "execution_count": 89
        }
      ]
    },
    {
      "cell_type": "code",
      "metadata": {
        "id": "5sXsRYNEacaU"
      },
      "source": [
        "all_data['sepal (rate)'] = all_data['sepal width(ave)'] / all_data['sepal length (cm)']\n",
        "all_data['petal (rate)'] = all_data['petal width(ave)'] / all_data['petal length (cm)']"
      ],
      "execution_count": 90,
      "outputs": []
    },
    {
      "cell_type": "code",
      "metadata": {
        "id": "Taz-Rye3R4Px"
      },
      "source": [
        "nTrain = len(train)\n",
        "train = all_data[:nTrain]\n",
        "test = all_data[nTrain:]"
      ],
      "execution_count": 91,
      "outputs": []
    },
    {
      "cell_type": "code",
      "metadata": {
        "colab": {
          "base_uri": "https://localhost:8080/",
          "height": 394
        },
        "id": "--RaswhmI3KC",
        "outputId": "9d50aa87-7d27-44dc-eabe-93aaa4927793"
      },
      "source": [
        "train.corr()"
      ],
      "execution_count": 92,
      "outputs": [
        {
          "output_type": "execute_result",
          "data": {
            "text/html": [
              "<div>\n",
              "<style scoped>\n",
              "    .dataframe tbody tr th:only-of-type {\n",
              "        vertical-align: middle;\n",
              "    }\n",
              "\n",
              "    .dataframe tbody tr th {\n",
              "        vertical-align: top;\n",
              "    }\n",
              "\n",
              "    .dataframe thead th {\n",
              "        text-align: right;\n",
              "    }\n",
              "</style>\n",
              "<table border=\"1\" class=\"dataframe\">\n",
              "  <thead>\n",
              "    <tr style=\"text-align: right;\">\n",
              "      <th></th>\n",
              "      <th>sepal length (cm)</th>\n",
              "      <th>petal length (cm)</th>\n",
              "      <th>sepal width (cm)</th>\n",
              "      <th>petal width (cm)</th>\n",
              "      <th>species(status)</th>\n",
              "      <th>sepal width(ave)</th>\n",
              "      <th>petal width(ave)</th>\n",
              "      <th>sepal (rate)</th>\n",
              "      <th>petal (rate)</th>\n",
              "    </tr>\n",
              "  </thead>\n",
              "  <tbody>\n",
              "    <tr>\n",
              "      <th>sepal length (cm)</th>\n",
              "      <td>1.000000</td>\n",
              "      <td>0.864852</td>\n",
              "      <td>0.027104</td>\n",
              "      <td>0.763597</td>\n",
              "      <td>0.705445</td>\n",
              "      <td>-0.555266</td>\n",
              "      <td>0.727051</td>\n",
              "      <td>-0.918102</td>\n",
              "      <td>0.451606</td>\n",
              "    </tr>\n",
              "    <tr>\n",
              "      <th>petal length (cm)</th>\n",
              "      <td>0.864852</td>\n",
              "      <td>1.000000</td>\n",
              "      <td>-0.274590</td>\n",
              "      <td>0.953549</td>\n",
              "      <td>0.920749</td>\n",
              "      <td>-0.728839</td>\n",
              "      <td>0.949857</td>\n",
              "      <td>-0.907358</td>\n",
              "      <td>0.755078</td>\n",
              "    </tr>\n",
              "    <tr>\n",
              "      <th>sepal width (cm)</th>\n",
              "      <td>0.027104</td>\n",
              "      <td>-0.274590</td>\n",
              "      <td>1.000000</td>\n",
              "      <td>-0.217103</td>\n",
              "      <td>-0.303901</td>\n",
              "      <td>0.529619</td>\n",
              "      <td>-0.377409</td>\n",
              "      <td>0.204403</td>\n",
              "      <td>-0.559515</td>\n",
              "    </tr>\n",
              "    <tr>\n",
              "      <th>petal width (cm)</th>\n",
              "      <td>0.763597</td>\n",
              "      <td>0.953549</td>\n",
              "      <td>-0.217103</td>\n",
              "      <td>1.000000</td>\n",
              "      <td>0.937646</td>\n",
              "      <td>-0.679398</td>\n",
              "      <td>0.953402</td>\n",
              "      <td>-0.828749</td>\n",
              "      <td>0.796922</td>\n",
              "    </tr>\n",
              "    <tr>\n",
              "      <th>species(status)</th>\n",
              "      <td>0.705445</td>\n",
              "      <td>0.920749</td>\n",
              "      <td>-0.303901</td>\n",
              "      <td>0.937646</td>\n",
              "      <td>1.000000</td>\n",
              "      <td>-0.573811</td>\n",
              "      <td>0.983474</td>\n",
              "      <td>-0.744990</td>\n",
              "      <td>0.854648</td>\n",
              "    </tr>\n",
              "    <tr>\n",
              "      <th>sepal width(ave)</th>\n",
              "      <td>-0.555266</td>\n",
              "      <td>-0.728839</td>\n",
              "      <td>0.529619</td>\n",
              "      <td>-0.679398</td>\n",
              "      <td>-0.573811</td>\n",
              "      <td>1.000000</td>\n",
              "      <td>-0.712604</td>\n",
              "      <td>0.825005</td>\n",
              "      <td>-0.772548</td>\n",
              "    </tr>\n",
              "    <tr>\n",
              "      <th>petal width(ave)</th>\n",
              "      <td>0.727051</td>\n",
              "      <td>0.949857</td>\n",
              "      <td>-0.377409</td>\n",
              "      <td>0.953402</td>\n",
              "      <td>0.983474</td>\n",
              "      <td>-0.712604</td>\n",
              "      <td>1.000000</td>\n",
              "      <td>-0.820556</td>\n",
              "      <td>0.902895</td>\n",
              "    </tr>\n",
              "    <tr>\n",
              "      <th>sepal (rate)</th>\n",
              "      <td>-0.918102</td>\n",
              "      <td>-0.907358</td>\n",
              "      <td>0.204403</td>\n",
              "      <td>-0.828749</td>\n",
              "      <td>-0.744990</td>\n",
              "      <td>0.825005</td>\n",
              "      <td>-0.820556</td>\n",
              "      <td>1.000000</td>\n",
              "      <td>-0.670939</td>\n",
              "    </tr>\n",
              "    <tr>\n",
              "      <th>petal (rate)</th>\n",
              "      <td>0.451606</td>\n",
              "      <td>0.755078</td>\n",
              "      <td>-0.559515</td>\n",
              "      <td>0.796922</td>\n",
              "      <td>0.854648</td>\n",
              "      <td>-0.772548</td>\n",
              "      <td>0.902895</td>\n",
              "      <td>-0.670939</td>\n",
              "      <td>1.000000</td>\n",
              "    </tr>\n",
              "  </tbody>\n",
              "</table>\n",
              "</div>"
            ],
            "text/plain": [
              "                   sepal length (cm)  ...  petal (rate)\n",
              "sepal length (cm)           1.000000  ...      0.451606\n",
              "petal length (cm)           0.864852  ...      0.755078\n",
              "sepal width (cm)            0.027104  ...     -0.559515\n",
              "petal width (cm)            0.763597  ...      0.796922\n",
              "species(status)             0.705445  ...      0.854648\n",
              "sepal width(ave)           -0.555266  ...     -0.772548\n",
              "petal width(ave)            0.727051  ...      0.902895\n",
              "sepal (rate)               -0.918102  ...     -0.670939\n",
              "petal (rate)                0.451606  ...      1.000000\n",
              "\n",
              "[9 rows x 9 columns]"
            ]
          },
          "metadata": {},
          "execution_count": 92
        }
      ]
    },
    {
      "cell_type": "code",
      "metadata": {
        "colab": {
          "base_uri": "https://localhost:8080/"
        },
        "id": "Ofo9KesjKf0C",
        "outputId": "eb059912-6e4e-486f-ec3f-4cc4aad35577"
      },
      "source": [
        "train.columns"
      ],
      "execution_count": 93,
      "outputs": [
        {
          "output_type": "execute_result",
          "data": {
            "text/plain": [
              "Index(['species', 'sepal length (cm)', 'petal length (cm)', 'sepal width (cm)',\n",
              "       'petal width (cm)', 'species(status)', 'sepal width(ave)',\n",
              "       'petal width(ave)', 'sepal (rate)', 'petal (rate)'],\n",
              "      dtype='object')"
            ]
          },
          "metadata": {},
          "execution_count": 93
        }
      ]
    },
    {
      "cell_type": "code",
      "metadata": {
        "colab": {
          "base_uri": "https://localhost:8080/",
          "height": 234
        },
        "id": "ST9ZMWsOL8o4",
        "outputId": "fab36aad-eb2f-4c91-a658-95430ab16f1b"
      },
      "source": [
        "\n",
        "train.loc[train['sepal length (cm)'] < 7.7, 'sepal_len'] = 4\n",
        "train.loc[train['sepal length (cm)'] < 6.6, 'sepal_len'] = 3\n",
        "train.loc[train['sepal length (cm)'] < 6.1, 'sepal_len'] = 2\n",
        "train.loc[train['sepal length (cm)'] < 5.55, 'sepal_len'] = 1\n",
        "\n",
        "test.loc[test['sepal length (cm)'] < 7.7, 'sepal_len'] = 4\n",
        "test.loc[test['sepal length (cm)'] < 6.6, 'sepal_len'] = 3\n",
        "test.loc[test['sepal length (cm)'] < 6.1, 'sepal_len'] = 2\n",
        "test.loc[test['sepal length (cm)'] < 5.55, 'sepal_len'] = 1\n",
        "\n",
        "train.head()"
      ],
      "execution_count": null,
      "outputs": [
        {
          "output_type": "execute_result",
          "data": {
            "text/html": [
              "<div>\n",
              "<style scoped>\n",
              "    .dataframe tbody tr th:only-of-type {\n",
              "        vertical-align: middle;\n",
              "    }\n",
              "\n",
              "    .dataframe tbody tr th {\n",
              "        vertical-align: top;\n",
              "    }\n",
              "\n",
              "    .dataframe thead th {\n",
              "        text-align: right;\n",
              "    }\n",
              "</style>\n",
              "<table border=\"1\" class=\"dataframe\">\n",
              "  <thead>\n",
              "    <tr style=\"text-align: right;\">\n",
              "      <th></th>\n",
              "      <th>species</th>\n",
              "      <th>sepal length (cm)</th>\n",
              "      <th>petal length (cm)</th>\n",
              "      <th>sepal width (cm)</th>\n",
              "      <th>petal width (cm)</th>\n",
              "      <th>sepal_len</th>\n",
              "    </tr>\n",
              "    <tr>\n",
              "      <th>id</th>\n",
              "      <th></th>\n",
              "      <th></th>\n",
              "      <th></th>\n",
              "      <th></th>\n",
              "      <th></th>\n",
              "      <th></th>\n",
              "    </tr>\n",
              "  </thead>\n",
              "  <tbody>\n",
              "    <tr>\n",
              "      <th>0</th>\n",
              "      <td>setosa</td>\n",
              "      <td>4.4</td>\n",
              "      <td>1.4</td>\n",
              "      <td>2.9</td>\n",
              "      <td>0.2</td>\n",
              "      <td>1.0</td>\n",
              "    </tr>\n",
              "    <tr>\n",
              "      <th>1</th>\n",
              "      <td>versicolor</td>\n",
              "      <td>6.4</td>\n",
              "      <td>4.5</td>\n",
              "      <td>3.2</td>\n",
              "      <td>1.5</td>\n",
              "      <td>3.0</td>\n",
              "    </tr>\n",
              "    <tr>\n",
              "      <th>2</th>\n",
              "      <td>virginica</td>\n",
              "      <td>6.2</td>\n",
              "      <td>4.8</td>\n",
              "      <td>2.8</td>\n",
              "      <td>1.8</td>\n",
              "      <td>3.0</td>\n",
              "    </tr>\n",
              "    <tr>\n",
              "      <th>3</th>\n",
              "      <td>virginica</td>\n",
              "      <td>7.2</td>\n",
              "      <td>6.1</td>\n",
              "      <td>3.6</td>\n",
              "      <td>2.5</td>\n",
              "      <td>4.0</td>\n",
              "    </tr>\n",
              "    <tr>\n",
              "      <th>4</th>\n",
              "      <td>setosa</td>\n",
              "      <td>4.9</td>\n",
              "      <td>1.4</td>\n",
              "      <td>3.0</td>\n",
              "      <td>0.2</td>\n",
              "      <td>1.0</td>\n",
              "    </tr>\n",
              "  </tbody>\n",
              "</table>\n",
              "</div>"
            ],
            "text/plain": [
              "       species  sepal length (cm)  ...  petal width (cm)  sepal_len\n",
              "id                                 ...                             \n",
              "0       setosa                4.4  ...               0.2        1.0\n",
              "1   versicolor                6.4  ...               1.5        3.0\n",
              "2    virginica                6.2  ...               1.8        3.0\n",
              "3    virginica                7.2  ...               2.5        4.0\n",
              "4       setosa                4.9  ...               0.2        1.0\n",
              "\n",
              "[5 rows x 6 columns]"
            ]
          },
          "metadata": {},
          "execution_count": 37
        }
      ]
    },
    {
      "cell_type": "code",
      "metadata": {
        "id": "0bPWvlIBVHoZ"
      },
      "source": [
        "x_col = ['sepal length (cm)', 'petal length (cm)', 'species(status)', 'sepal width(ave)', 'sepal (rate)', 'petal (rate)']\n",
        "y_col = ['sepal width (cm)', 'petal width (cm)']\n",
        "\n",
        "x_train = train[x_col]\n",
        "y_train = train[y_col]\n",
        "\n",
        "x_test = test[x_col]"
      ],
      "execution_count": 94,
      "outputs": []
    },
    {
      "cell_type": "code",
      "metadata": {
        "id": "swTTNWwrRVEY",
        "colab": {
          "base_uri": "https://localhost:8080/"
        },
        "outputId": "2cf4b9e7-a3b1-4aaa-9056-eb95d3150211"
      },
      "source": [
        "from xgboost import XGBRegressor\n",
        "from sklearn.ensemble import GradientBoostingRegressor, RandomForestRegressor\n",
        "from sklearn.linear_model import LinearRegression\n",
        "from sklearn.metrics import mean_squared_error\n",
        "\n",
        "\n",
        "xgb = XGBRegressor(random_state=42)\n",
        "gbr = GradientBoostingRegressor(random_state=42)\n",
        "rfr = RandomForestRegressor(random_state=42)\n",
        "lr = LinearRegression()\n",
        "\n",
        "\n",
        "#model_names = ['XGBRegressor', 'GradientBoostingRegressor', 'RandomForestRegressor', 'LinearRegression']\n",
        "#models = [xgb, gbr, rfr, lr]\n",
        "model_names = ['RandomForestRegressor', 'LinearRegression']\n",
        "models = [rfr, lr]\n",
        "\n",
        "\n",
        "for ms, mn in zip(models, model_names):\n",
        "  print(mn)\n",
        "  ms.fit(x_train, y_train)\n",
        "  pred = ms.predict(x_test)\n",
        "\n",
        "  print(mn+\" : \"+(str)(mean_squared_error(y_train, pred, squared=False))+\"\\r\\n\")"
      ],
      "execution_count": 64,
      "outputs": [
        {
          "output_type": "stream",
          "name": "stdout",
          "text": [
            "RandomForestRegressor\n",
            "RandomForestRegressor : 0.846552313519918\r\n",
            "\n",
            "LinearRegression\n",
            "LinearRegression : 0.8314230230129535\r\n",
            "\n"
          ]
        }
      ]
    },
    {
      "cell_type": "code",
      "metadata": {
        "id": "jqFd3RtgSqMf"
      },
      "source": [
        "submission = pd.read_csv(\"/content/drive/MyDrive/Colab Notebooks/identify_Iris/sample_submission.csv\", index_col = 'id')\n"
      ],
      "execution_count": 95,
      "outputs": []
    },
    {
      "cell_type": "code",
      "metadata": {
        "id": "j_LHiIl2WPuN"
      },
      "source": [
        "lr.fit(x_train, y_train)\n",
        "pred = lr.predict(x_test)"
      ],
      "execution_count": 96,
      "outputs": []
    },
    {
      "cell_type": "code",
      "metadata": {
        "id": "DTQAVzsBWwvG"
      },
      "source": [
        "submission[y_col] = pred"
      ],
      "execution_count": 97,
      "outputs": []
    },
    {
      "cell_type": "code",
      "metadata": {
        "id": "94sK5tebW9Mc"
      },
      "source": [
        "submission.to_csv(\"/content/drive/MyDrive/Colab Notebooks/identify_Iris/Iris.csv\", index=True)"
      ],
      "execution_count": 98,
      "outputs": []
    },
    {
      "cell_type": "markdown",
      "metadata": {
        "id": "uttMepYVGNk9"
      },
      "source": [
        "# New Section"
      ]
    }
  ]
}