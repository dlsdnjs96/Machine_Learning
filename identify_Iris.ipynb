{
  "nbformat": 4,
  "nbformat_minor": 0,
  "metadata": {
    "colab": {
      "name": "identify_Iris.ipynb",
      "provenance": [],
      "collapsed_sections": []
    },
    "kernelspec": {
      "name": "python3",
      "display_name": "Python 3"
    },
    "language_info": {
      "name": "python"
    }
  },
  "cells": [
    {
      "cell_type": "code",
      "metadata": {
        "colab": {
          "base_uri": "https://localhost:8080/",
          "height": 234
        },
        "id": "QpteaQMlFvUR",
        "outputId": "dd115c43-b02c-435b-98f4-4808e2f33b3c"
      },
      "source": [
        "import pandas as pd\n",
        "train = pd.read_csv(\"/content/drive/MyDrive/Colab Notebooks/identify_Iris/iris_train.csv\", index_col = 'id')\n",
        "test = pd.read_csv(\"/content/drive/MyDrive/Colab Notebooks/identify_Iris/iris_test.csv\", index_col = 'id')\n",
        "train.head()\n",
        "test.head()"
      ],
      "execution_count": 20,
      "outputs": [
        {
          "output_type": "execute_result",
          "data": {
            "text/html": [
              "<div>\n",
              "<style scoped>\n",
              "    .dataframe tbody tr th:only-of-type {\n",
              "        vertical-align: middle;\n",
              "    }\n",
              "\n",
              "    .dataframe tbody tr th {\n",
              "        vertical-align: top;\n",
              "    }\n",
              "\n",
              "    .dataframe thead th {\n",
              "        text-align: right;\n",
              "    }\n",
              "</style>\n",
              "<table border=\"1\" class=\"dataframe\">\n",
              "  <thead>\n",
              "    <tr style=\"text-align: right;\">\n",
              "      <th></th>\n",
              "      <th>species</th>\n",
              "      <th>sepal length (cm)</th>\n",
              "      <th>petal length (cm)</th>\n",
              "    </tr>\n",
              "    <tr>\n",
              "      <th>id</th>\n",
              "      <th></th>\n",
              "      <th></th>\n",
              "      <th></th>\n",
              "    </tr>\n",
              "  </thead>\n",
              "  <tbody>\n",
              "    <tr>\n",
              "      <th>0</th>\n",
              "      <td>setosa</td>\n",
              "      <td>5.4</td>\n",
              "      <td>1.7</td>\n",
              "    </tr>\n",
              "    <tr>\n",
              "      <th>1</th>\n",
              "      <td>setosa</td>\n",
              "      <td>5.7</td>\n",
              "      <td>1.5</td>\n",
              "    </tr>\n",
              "    <tr>\n",
              "      <th>2</th>\n",
              "      <td>setosa</td>\n",
              "      <td>5.3</td>\n",
              "      <td>1.5</td>\n",
              "    </tr>\n",
              "    <tr>\n",
              "      <th>3</th>\n",
              "      <td>setosa</td>\n",
              "      <td>5.1</td>\n",
              "      <td>1.9</td>\n",
              "    </tr>\n",
              "    <tr>\n",
              "      <th>4</th>\n",
              "      <td>virginica</td>\n",
              "      <td>6.0</td>\n",
              "      <td>4.8</td>\n",
              "    </tr>\n",
              "  </tbody>\n",
              "</table>\n",
              "</div>"
            ],
            "text/plain": [
              "      species  sepal length (cm)  petal length (cm)\n",
              "id                                                 \n",
              "0      setosa                5.4                1.7\n",
              "1      setosa                5.7                1.5\n",
              "2      setosa                5.3                1.5\n",
              "3      setosa                5.1                1.9\n",
              "4   virginica                6.0                4.8"
            ]
          },
          "metadata": {},
          "execution_count": 20
        }
      ]
    },
    {
      "cell_type": "code",
      "metadata": {
        "id": "KGiWHd1oO5ch",
        "colab": {
          "base_uri": "https://localhost:8080/"
        },
        "outputId": "8dc045c0-25b0-46d5-9c43-7bae46e47dee"
      },
      "source": [
        "from google.colab import drive\n",
        "drive.mount('/content/drive')"
      ],
      "execution_count": 2,
      "outputs": [
        {
          "output_type": "stream",
          "name": "stdout",
          "text": [
            "Mounted at /content/drive\n"
          ]
        }
      ]
    },
    {
      "cell_type": "code",
      "metadata": {
        "colab": {
          "base_uri": "https://localhost:8080/"
        },
        "id": "V4IDmUAxOgdn",
        "outputId": "d741b36a-c4e8-4338-d602-ffc710577128"
      },
      "source": [
        "all_data = pd.concat([train, test], sort=False)\n",
        "\n",
        "all_data.count()"
      ],
      "execution_count": 23,
      "outputs": [
        {
          "output_type": "execute_result",
          "data": {
            "text/plain": [
              "species              150\n",
              "sepal length (cm)    150\n",
              "petal length (cm)    150\n",
              "sepal width (cm)      75\n",
              "petal width (cm)      75\n",
              "dtype: int64"
            ]
          },
          "metadata": {},
          "execution_count": 23
        }
      ]
    },
    {
      "cell_type": "code",
      "metadata": {
        "id": "lKh6zQQVQKnN"
      },
      "source": [
        "from sklearn.preprocessing import StandardScaler, LabelEncoder"
      ],
      "execution_count": 5,
      "outputs": []
    },
    {
      "cell_type": "code",
      "metadata": {
        "id": "QE8HbcB_00Kb"
      },
      "source": [
        "x_col = ['species', 'sepal length (cm)', 'petal length (cm)']\n",
        "y_col = ['sepal width (cm)', 'petal width (cm)']"
      ],
      "execution_count": 7,
      "outputs": []
    },
    {
      "cell_type": "code",
      "metadata": {
        "id": "YyseT-lB1Q2u"
      },
      "source": [
        "le = LabelEncoder()\n",
        "\n",
        "all_data['species'] = le.fit_transform(all_data['species'])"
      ],
      "execution_count": 24,
      "outputs": []
    },
    {
      "cell_type": "code",
      "metadata": {
        "id": "iJFXvOOm0aCh"
      },
      "source": [
        "sc = StandardScaler()\n",
        "\n",
        "all_data[x_col] = sc.fit_transform(all_data[x_col])"
      ],
      "execution_count": 11,
      "outputs": []
    },
    {
      "cell_type": "code",
      "metadata": {
        "colab": {
          "base_uri": "https://localhost:8080/",
          "height": 234
        },
        "id": "Qjt7-XoT1jmx",
        "outputId": "0b4a1ecc-80b0-4354-fd84-e848824c315b"
      },
      "source": [
        "all_data.head()"
      ],
      "execution_count": 12,
      "outputs": [
        {
          "output_type": "execute_result",
          "data": {
            "text/html": [
              "<div>\n",
              "<style scoped>\n",
              "    .dataframe tbody tr th:only-of-type {\n",
              "        vertical-align: middle;\n",
              "    }\n",
              "\n",
              "    .dataframe tbody tr th {\n",
              "        vertical-align: top;\n",
              "    }\n",
              "\n",
              "    .dataframe thead th {\n",
              "        text-align: right;\n",
              "    }\n",
              "</style>\n",
              "<table border=\"1\" class=\"dataframe\">\n",
              "  <thead>\n",
              "    <tr style=\"text-align: right;\">\n",
              "      <th></th>\n",
              "      <th>species</th>\n",
              "      <th>sepal length (cm)</th>\n",
              "      <th>petal length (cm)</th>\n",
              "      <th>sepal width (cm)</th>\n",
              "      <th>petal width (cm)</th>\n",
              "    </tr>\n",
              "    <tr>\n",
              "      <th>id</th>\n",
              "      <th></th>\n",
              "      <th></th>\n",
              "      <th></th>\n",
              "      <th></th>\n",
              "      <th></th>\n",
              "    </tr>\n",
              "  </thead>\n",
              "  <tbody>\n",
              "    <tr>\n",
              "      <th>0</th>\n",
              "      <td>-1.224745</td>\n",
              "      <td>-1.748856</td>\n",
              "      <td>-1.340227</td>\n",
              "      <td>2.9</td>\n",
              "      <td>0.2</td>\n",
              "    </tr>\n",
              "    <tr>\n",
              "      <th>1</th>\n",
              "      <td>0.000000</td>\n",
              "      <td>0.674501</td>\n",
              "      <td>0.421734</td>\n",
              "      <td>3.2</td>\n",
              "      <td>1.5</td>\n",
              "    </tr>\n",
              "    <tr>\n",
              "      <th>2</th>\n",
              "      <td>1.224745</td>\n",
              "      <td>0.432165</td>\n",
              "      <td>0.592246</td>\n",
              "      <td>2.8</td>\n",
              "      <td>1.8</td>\n",
              "    </tr>\n",
              "    <tr>\n",
              "      <th>3</th>\n",
              "      <td>1.224745</td>\n",
              "      <td>1.643844</td>\n",
              "      <td>1.331133</td>\n",
              "      <td>3.6</td>\n",
              "      <td>2.5</td>\n",
              "    </tr>\n",
              "    <tr>\n",
              "      <th>4</th>\n",
              "      <td>-1.224745</td>\n",
              "      <td>-1.143017</td>\n",
              "      <td>-1.340227</td>\n",
              "      <td>3.0</td>\n",
              "      <td>0.2</td>\n",
              "    </tr>\n",
              "  </tbody>\n",
              "</table>\n",
              "</div>"
            ],
            "text/plain": [
              "     species  sepal length (cm)  ...  sepal width (cm)  petal width (cm)\n",
              "id                               ...                                    \n",
              "0  -1.224745          -1.748856  ...               2.9               0.2\n",
              "1   0.000000           0.674501  ...               3.2               1.5\n",
              "2   1.224745           0.432165  ...               2.8               1.8\n",
              "3   1.224745           1.643844  ...               3.6               2.5\n",
              "4  -1.224745          -1.143017  ...               3.0               0.2\n",
              "\n",
              "[5 rows x 5 columns]"
            ]
          },
          "metadata": {},
          "execution_count": 12
        }
      ]
    },
    {
      "cell_type": "code",
      "metadata": {
        "id": "PiVfn5TmQ2dA"
      },
      "source": [
        "nTrain = len(train)\n",
        "train = all_data[:nTrain]\n",
        "test = all_data[nTrain:]"
      ],
      "execution_count": 28,
      "outputs": []
    },
    {
      "cell_type": "code",
      "metadata": {
        "id": "JsEzrHya2Dp3"
      },
      "source": [
        "from xgboost import XGBRegressor\n",
        "from sklearn.ensemble import GradientBoostingRegressor, RandomForestRegressor\n",
        "from sklearn.linear_model import LinearRegression, LogisticRegression\n",
        "\n",
        "from sklearn.tree import DecisionTreeClassifier\n",
        "\n",
        "from sklearn.metrics import mean_squared_error"
      ],
      "execution_count": 39,
      "outputs": []
    },
    {
      "cell_type": "code",
      "metadata": {
        "id": "9MUfxzVw2Hwr"
      },
      "source": [
        "x_train = train[x_col]\n",
        "y_train = train[y_col]\n",
        "x_test = test[x_col]"
      ],
      "execution_count": 29,
      "outputs": []
    },
    {
      "cell_type": "code",
      "metadata": {
        "colab": {
          "base_uri": "https://localhost:8080/",
          "height": 438
        },
        "id": "C2LaxUzp2FnX",
        "outputId": "c6d6df01-d93a-450a-a602-cb795a06bb79"
      },
      "source": [
        "xgb = XGBRegressor(random_state=37)\n",
        "gbr = GradientBoostingRegressor(random_state=37)\n",
        "rfr = RandomForestRegressor(random_state=37)\n",
        "lr = LinearRegression()\n",
        "lgr = LogisticRegression(random_state=37)\n",
        "dtc = DecisionTreeClassifier(random_state=37)\n",
        "\n",
        "\n",
        "#models = [xgb, gbr, rfr, lr]\n",
        "#names = ['xgboost', 'gradientBossting', 'randomForest', 'linearRegression']\n",
        "\n",
        "models = [rfr, lr, dtc]\n",
        "names = ['randomForest', 'linearRegression', 'DecisionTreeClassifier']\n",
        "\n",
        "\n",
        "for m, n in zip(models, names):\n",
        "  m.fit(x_train, y_train)\n",
        "  pred = m.predict(x_test)\n",
        "\n",
        "  leng = len(y_train)\n",
        "  if leng > len(pred):\n",
        "    leng = len(pred)\n",
        "\n",
        "  print(n+\" : \"+(str)(mean_squared_error(y_train[:leng], pred[:leng], squared=False))+\"\\r\\n\")"
      ],
      "execution_count": 44,
      "outputs": [
        {
          "output_type": "stream",
          "name": "stdout",
          "text": [
            "randomForest : 0.8490460782110847\r\n",
            "\n",
            "linearRegression : 0.8314230230129537\r\n",
            "\n"
          ]
        },
        {
          "output_type": "error",
          "ename": "ValueError",
          "evalue": "ignored",
          "traceback": [
            "\u001b[0;31m---------------------------------------------------------------------------\u001b[0m",
            "\u001b[0;31mValueError\u001b[0m                                Traceback (most recent call last)",
            "\u001b[0;32m<ipython-input-44-319088ad2f1d>\u001b[0m in \u001b[0;36m<module>\u001b[0;34m()\u001b[0m\n\u001b[1;32m     15\u001b[0m \u001b[0;34m\u001b[0m\u001b[0m\n\u001b[1;32m     16\u001b[0m \u001b[0;32mfor\u001b[0m \u001b[0mm\u001b[0m\u001b[0;34m,\u001b[0m \u001b[0mn\u001b[0m \u001b[0;32min\u001b[0m \u001b[0mzip\u001b[0m\u001b[0;34m(\u001b[0m\u001b[0mmodels\u001b[0m\u001b[0;34m,\u001b[0m \u001b[0mnames\u001b[0m\u001b[0;34m)\u001b[0m\u001b[0;34m:\u001b[0m\u001b[0;34m\u001b[0m\u001b[0;34m\u001b[0m\u001b[0m\n\u001b[0;32m---> 17\u001b[0;31m   \u001b[0mm\u001b[0m\u001b[0;34m.\u001b[0m\u001b[0mfit\u001b[0m\u001b[0;34m(\u001b[0m\u001b[0mx_train\u001b[0m\u001b[0;34m,\u001b[0m \u001b[0my_train\u001b[0m\u001b[0;34m)\u001b[0m\u001b[0;34m\u001b[0m\u001b[0;34m\u001b[0m\u001b[0m\n\u001b[0m\u001b[1;32m     18\u001b[0m   \u001b[0mpred\u001b[0m \u001b[0;34m=\u001b[0m \u001b[0mm\u001b[0m\u001b[0;34m.\u001b[0m\u001b[0mpredict\u001b[0m\u001b[0;34m(\u001b[0m\u001b[0mx_test\u001b[0m\u001b[0;34m)\u001b[0m\u001b[0;34m\u001b[0m\u001b[0;34m\u001b[0m\u001b[0m\n\u001b[1;32m     19\u001b[0m \u001b[0;34m\u001b[0m\u001b[0m\n",
            "\u001b[0;32m/usr/local/lib/python3.7/dist-packages/sklearn/tree/_classes.py\u001b[0m in \u001b[0;36mfit\u001b[0;34m(self, X, y, sample_weight, check_input, X_idx_sorted)\u001b[0m\n\u001b[1;32m    875\u001b[0m             \u001b[0msample_weight\u001b[0m\u001b[0;34m=\u001b[0m\u001b[0msample_weight\u001b[0m\u001b[0;34m,\u001b[0m\u001b[0;34m\u001b[0m\u001b[0;34m\u001b[0m\u001b[0m\n\u001b[1;32m    876\u001b[0m             \u001b[0mcheck_input\u001b[0m\u001b[0;34m=\u001b[0m\u001b[0mcheck_input\u001b[0m\u001b[0;34m,\u001b[0m\u001b[0;34m\u001b[0m\u001b[0;34m\u001b[0m\u001b[0m\n\u001b[0;32m--> 877\u001b[0;31m             X_idx_sorted=X_idx_sorted)\n\u001b[0m\u001b[1;32m    878\u001b[0m         \u001b[0;32mreturn\u001b[0m \u001b[0mself\u001b[0m\u001b[0;34m\u001b[0m\u001b[0;34m\u001b[0m\u001b[0m\n\u001b[1;32m    879\u001b[0m \u001b[0;34m\u001b[0m\u001b[0m\n",
            "\u001b[0;32m/usr/local/lib/python3.7/dist-packages/sklearn/tree/_classes.py\u001b[0m in \u001b[0;36mfit\u001b[0;34m(self, X, y, sample_weight, check_input, X_idx_sorted)\u001b[0m\n\u001b[1;32m    171\u001b[0m \u001b[0;34m\u001b[0m\u001b[0m\n\u001b[1;32m    172\u001b[0m         \u001b[0;32mif\u001b[0m \u001b[0mis_classification\u001b[0m\u001b[0;34m:\u001b[0m\u001b[0;34m\u001b[0m\u001b[0;34m\u001b[0m\u001b[0m\n\u001b[0;32m--> 173\u001b[0;31m             \u001b[0mcheck_classification_targets\u001b[0m\u001b[0;34m(\u001b[0m\u001b[0my\u001b[0m\u001b[0;34m)\u001b[0m\u001b[0;34m\u001b[0m\u001b[0;34m\u001b[0m\u001b[0m\n\u001b[0m\u001b[1;32m    174\u001b[0m             \u001b[0my\u001b[0m \u001b[0;34m=\u001b[0m \u001b[0mnp\u001b[0m\u001b[0;34m.\u001b[0m\u001b[0mcopy\u001b[0m\u001b[0;34m(\u001b[0m\u001b[0my\u001b[0m\u001b[0;34m)\u001b[0m\u001b[0;34m\u001b[0m\u001b[0;34m\u001b[0m\u001b[0m\n\u001b[1;32m    175\u001b[0m \u001b[0;34m\u001b[0m\u001b[0m\n",
            "\u001b[0;32m/usr/local/lib/python3.7/dist-packages/sklearn/utils/multiclass.py\u001b[0m in \u001b[0;36mcheck_classification_targets\u001b[0;34m(y)\u001b[0m\n\u001b[1;32m    167\u001b[0m     if y_type not in ['binary', 'multiclass', 'multiclass-multioutput',\n\u001b[1;32m    168\u001b[0m                       'multilabel-indicator', 'multilabel-sequences']:\n\u001b[0;32m--> 169\u001b[0;31m         \u001b[0;32mraise\u001b[0m \u001b[0mValueError\u001b[0m\u001b[0;34m(\u001b[0m\u001b[0;34m\"Unknown label type: %r\"\u001b[0m \u001b[0;34m%\u001b[0m \u001b[0my_type\u001b[0m\u001b[0;34m)\u001b[0m\u001b[0;34m\u001b[0m\u001b[0;34m\u001b[0m\u001b[0m\n\u001b[0m\u001b[1;32m    170\u001b[0m \u001b[0;34m\u001b[0m\u001b[0m\n\u001b[1;32m    171\u001b[0m \u001b[0;34m\u001b[0m\u001b[0m\n",
            "\u001b[0;31mValueError\u001b[0m: Unknown label type: 'continuous-multioutput'"
          ]
        }
      ]
    },
    {
      "cell_type": "code",
      "metadata": {
        "colab": {
          "base_uri": "https://localhost:8080/",
          "height": 394
        },
        "id": "--RaswhmI3KC",
        "outputId": "a4af44f6-f6a1-4324-e640-d331f2bbfe26"
      },
      "source": [
        "train.corr()"
      ],
      "execution_count": null,
      "outputs": [
        {
          "output_type": "execute_result",
          "data": {
            "text/html": [
              "<div>\n",
              "<style scoped>\n",
              "    .dataframe tbody tr th:only-of-type {\n",
              "        vertical-align: middle;\n",
              "    }\n",
              "\n",
              "    .dataframe tbody tr th {\n",
              "        vertical-align: top;\n",
              "    }\n",
              "\n",
              "    .dataframe thead th {\n",
              "        text-align: right;\n",
              "    }\n",
              "</style>\n",
              "<table border=\"1\" class=\"dataframe\">\n",
              "  <thead>\n",
              "    <tr style=\"text-align: right;\">\n",
              "      <th></th>\n",
              "      <th>sepal length (cm)</th>\n",
              "      <th>petal length (cm)</th>\n",
              "      <th>sepal width (cm)</th>\n",
              "      <th>petal width (cm)</th>\n",
              "      <th>species(status)</th>\n",
              "      <th>sepal width(ave)</th>\n",
              "      <th>petal width(ave)</th>\n",
              "      <th>sepal (rate)</th>\n",
              "      <th>petal (rate)</th>\n",
              "    </tr>\n",
              "  </thead>\n",
              "  <tbody>\n",
              "    <tr>\n",
              "      <th>sepal length (cm)</th>\n",
              "      <td>1.000000</td>\n",
              "      <td>0.864852</td>\n",
              "      <td>0.027104</td>\n",
              "      <td>0.763597</td>\n",
              "      <td>0.705445</td>\n",
              "      <td>-0.555266</td>\n",
              "      <td>0.727051</td>\n",
              "      <td>-0.918102</td>\n",
              "      <td>0.451606</td>\n",
              "    </tr>\n",
              "    <tr>\n",
              "      <th>petal length (cm)</th>\n",
              "      <td>0.864852</td>\n",
              "      <td>1.000000</td>\n",
              "      <td>-0.274590</td>\n",
              "      <td>0.953549</td>\n",
              "      <td>0.920749</td>\n",
              "      <td>-0.728839</td>\n",
              "      <td>0.949857</td>\n",
              "      <td>-0.907358</td>\n",
              "      <td>0.755078</td>\n",
              "    </tr>\n",
              "    <tr>\n",
              "      <th>sepal width (cm)</th>\n",
              "      <td>0.027104</td>\n",
              "      <td>-0.274590</td>\n",
              "      <td>1.000000</td>\n",
              "      <td>-0.217103</td>\n",
              "      <td>-0.303901</td>\n",
              "      <td>0.529619</td>\n",
              "      <td>-0.377409</td>\n",
              "      <td>0.204403</td>\n",
              "      <td>-0.559515</td>\n",
              "    </tr>\n",
              "    <tr>\n",
              "      <th>petal width (cm)</th>\n",
              "      <td>0.763597</td>\n",
              "      <td>0.953549</td>\n",
              "      <td>-0.217103</td>\n",
              "      <td>1.000000</td>\n",
              "      <td>0.937646</td>\n",
              "      <td>-0.679398</td>\n",
              "      <td>0.953402</td>\n",
              "      <td>-0.828749</td>\n",
              "      <td>0.796922</td>\n",
              "    </tr>\n",
              "    <tr>\n",
              "      <th>species(status)</th>\n",
              "      <td>0.705445</td>\n",
              "      <td>0.920749</td>\n",
              "      <td>-0.303901</td>\n",
              "      <td>0.937646</td>\n",
              "      <td>1.000000</td>\n",
              "      <td>-0.573811</td>\n",
              "      <td>0.983474</td>\n",
              "      <td>-0.744990</td>\n",
              "      <td>0.854648</td>\n",
              "    </tr>\n",
              "    <tr>\n",
              "      <th>sepal width(ave)</th>\n",
              "      <td>-0.555266</td>\n",
              "      <td>-0.728839</td>\n",
              "      <td>0.529619</td>\n",
              "      <td>-0.679398</td>\n",
              "      <td>-0.573811</td>\n",
              "      <td>1.000000</td>\n",
              "      <td>-0.712604</td>\n",
              "      <td>0.825005</td>\n",
              "      <td>-0.772548</td>\n",
              "    </tr>\n",
              "    <tr>\n",
              "      <th>petal width(ave)</th>\n",
              "      <td>0.727051</td>\n",
              "      <td>0.949857</td>\n",
              "      <td>-0.377409</td>\n",
              "      <td>0.953402</td>\n",
              "      <td>0.983474</td>\n",
              "      <td>-0.712604</td>\n",
              "      <td>1.000000</td>\n",
              "      <td>-0.820556</td>\n",
              "      <td>0.902895</td>\n",
              "    </tr>\n",
              "    <tr>\n",
              "      <th>sepal (rate)</th>\n",
              "      <td>-0.918102</td>\n",
              "      <td>-0.907358</td>\n",
              "      <td>0.204403</td>\n",
              "      <td>-0.828749</td>\n",
              "      <td>-0.744990</td>\n",
              "      <td>0.825005</td>\n",
              "      <td>-0.820556</td>\n",
              "      <td>1.000000</td>\n",
              "      <td>-0.670939</td>\n",
              "    </tr>\n",
              "    <tr>\n",
              "      <th>petal (rate)</th>\n",
              "      <td>0.451606</td>\n",
              "      <td>0.755078</td>\n",
              "      <td>-0.559515</td>\n",
              "      <td>0.796922</td>\n",
              "      <td>0.854648</td>\n",
              "      <td>-0.772548</td>\n",
              "      <td>0.902895</td>\n",
              "      <td>-0.670939</td>\n",
              "      <td>1.000000</td>\n",
              "    </tr>\n",
              "  </tbody>\n",
              "</table>\n",
              "</div>"
            ],
            "text/plain": [
              "                   sepal length (cm)  ...  petal (rate)\n",
              "sepal length (cm)           1.000000  ...      0.451606\n",
              "petal length (cm)           0.864852  ...      0.755078\n",
              "sepal width (cm)            0.027104  ...     -0.559515\n",
              "petal width (cm)            0.763597  ...      0.796922\n",
              "species(status)             0.705445  ...      0.854648\n",
              "sepal width(ave)           -0.555266  ...     -0.772548\n",
              "petal width(ave)            0.727051  ...      0.902895\n",
              "sepal (rate)               -0.918102  ...     -0.670939\n",
              "petal (rate)                0.451606  ...      1.000000\n",
              "\n",
              "[9 rows x 9 columns]"
            ]
          },
          "metadata": {},
          "execution_count": 9
        }
      ]
    },
    {
      "cell_type": "code",
      "metadata": {
        "id": "0bPWvlIBVHoZ"
      },
      "source": [
        "x_col = ['sepal length (cm)', 'petal length (cm)', 'species(status)', 'sepal width(ave)', 'sepal (rate)', 'petal (rate)']\n",
        "y_col = ['sepal width (cm)', 'petal width (cm)']\n",
        "\n",
        "x_train = train[x_col]\n",
        "y_train = train[y_col]\n",
        "\n",
        "x_test = test[x_col]"
      ],
      "execution_count": null,
      "outputs": []
    },
    {
      "cell_type": "code",
      "metadata": {
        "id": "swTTNWwrRVEY",
        "colab": {
          "base_uri": "https://localhost:8080/"
        },
        "outputId": "befe40d2-2e38-498f-ddbd-df0d5eda01b4"
      },
      "source": [
        "from xgboost import XGBRegressor\n",
        "from sklearn.ensemble import GradientBoostingRegressor, RandomForestRegressor\n",
        "from sklearn.linear_model import LinearRegression\n",
        "from sklearn.metrics import mean_squared_error\n",
        "\n",
        "\n",
        "xgb = XGBRegressor(random_state=42)\n",
        "gbr = GradientBoostingRegressor(random_state=42)\n",
        "rfr = RandomForestRegressor(random_state=42)\n",
        "lr = LinearRegression()\n",
        "\n",
        "\n",
        "#model_names = ['XGBRegressor', 'GradientBoostingRegressor', 'RandomForestRegressor', 'LinearRegression']\n",
        "#models = [xgb, gbr, rfr, lr]\n",
        "model_names = ['RandomForestRegressor', 'LinearRegression']\n",
        "models = [rfr, lr]\n",
        "\n",
        "\n",
        "for ms, mn in zip(models, model_names):\n",
        "  print(mn)\n",
        "  ms.fit(x_train, y_train)\n",
        "  pred = ms.predict(x_test)\n",
        "\n",
        "  print(mn+\" : \"+(str)(mean_squared_error(y_train, pred, squared=False))+\"\\r\\n\")"
      ],
      "execution_count": null,
      "outputs": [
        {
          "output_type": "stream",
          "name": "stdout",
          "text": [
            "RandomForestRegressor\n",
            "RandomForestRegressor : 0.8372767036494411\r\n",
            "\n",
            "LinearRegression\n",
            "LinearRegression : 0.8496822688189072\r\n",
            "\n"
          ]
        }
      ]
    },
    {
      "cell_type": "code",
      "metadata": {
        "id": "jqFd3RtgSqMf"
      },
      "source": [
        "submission = pd.read_csv(\"/content/drive/MyDrive/Colab Notebooks/identify_Iris/sample_submission.csv\", index_col = 'id')\n"
      ],
      "execution_count": null,
      "outputs": []
    },
    {
      "cell_type": "code",
      "metadata": {
        "id": "j_LHiIl2WPuN"
      },
      "source": [
        "lr.fit(x_train, y_train)\n",
        "pred = lr.predict(x_test)"
      ],
      "execution_count": null,
      "outputs": []
    },
    {
      "cell_type": "code",
      "metadata": {
        "id": "DTQAVzsBWwvG"
      },
      "source": [
        "submission[y_col] = pred"
      ],
      "execution_count": null,
      "outputs": []
    },
    {
      "cell_type": "code",
      "metadata": {
        "id": "94sK5tebW9Mc"
      },
      "source": [
        "submission.to_csv(\"/content/drive/MyDrive/Colab Notebooks/identify_Iris/Iris.csv\", index=True)"
      ],
      "execution_count": null,
      "outputs": []
    },
    {
      "cell_type": "markdown",
      "metadata": {
        "id": "uttMepYVGNk9"
      },
      "source": [
        "# New Section"
      ]
    }
  ]
}