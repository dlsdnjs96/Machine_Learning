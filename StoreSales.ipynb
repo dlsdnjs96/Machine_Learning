{
  "nbformat": 4,
  "nbformat_minor": 0,
  "metadata": {
    "colab": {
      "name": "StoreSales.ipynb",
      "provenance": []
    },
    "kernelspec": {
      "name": "python3",
      "display_name": "Python 3"
    },
    "language_info": {
      "name": "python"
    }
  },
  "cells": [
    {
      "cell_type": "code",
      "metadata": {
        "id": "Le0ZIxhWDXb9"
      },
      "source": [
        "import numpy as np\n",
        "import pandas as pd\n",
        "from sklearn.preprocessing import StandardScaler, MinMaxScaler, RobustScaler, LabelEncoder\n",
        "\n",
        "from sklearn.impute import SimpleImputer"
      ],
      "execution_count": 4,
      "outputs": []
    },
    {
      "cell_type": "code",
      "metadata": {
        "id": "xji-zNEBb4Hr"
      },
      "source": [
        "pd.set_option('display.max_rows', None)\n",
        "pd.set_option('display.max_columns', None)\n",
        "pd.set_option('display.max_seq_items', None)"
      ],
      "execution_count": 27,
      "outputs": []
    },
    {
      "cell_type": "code",
      "metadata": {
        "id": "-6OOjh54EkI8"
      },
      "source": [
        "train = pd.read_csv('/content/drive/MyDrive/Colab Notebooks/StoreSales/train.csv')\n",
        "test = pd.read_csv('/content/drive/MyDrive/Colab Notebooks/StoreSales/test.csv')"
      ],
      "execution_count": 5,
      "outputs": []
    },
    {
      "cell_type": "code",
      "metadata": {
        "id": "yzr6tfGBZtTY"
      },
      "source": [
        "holidays_events = pd.read_csv('/content/drive/MyDrive/Colab Notebooks/StoreSales/holidays_events.csv')\n",
        "oil = pd.read_csv('/content/drive/MyDrive/Colab Notebooks/StoreSales/oil.csv')\n",
        "stores = pd.read_csv('/content/drive/MyDrive/Colab Notebooks/StoreSales/stores.csv')\n",
        "trandsactions = pd.read_csv('/content/drive/MyDrive/Colab Notebooks/StoreSales/transactions.csv')"
      ],
      "execution_count": 6,
      "outputs": []
    },
    {
      "cell_type": "code",
      "metadata": {
        "id": "3ti8pENoByIy"
      },
      "source": [
        "train.set_index('id', inplace=True)\n",
        "test.set_index('id', inplace=True)"
      ],
      "execution_count": 7,
      "outputs": []
    },
    {
      "cell_type": "code",
      "metadata": {
        "id": "nCTPaUqdIWJH"
      },
      "source": [
        "all_data = pd.concat([train, test], sort=False)"
      ],
      "execution_count": 8,
      "outputs": []
    },
    {
      "cell_type": "code",
      "metadata": {
        "colab": {
          "base_uri": "https://localhost:8080/",
          "height": 234
        },
        "id": "ackQ6MyZ6EUJ",
        "outputId": "5002ac88-a4ec-4141-bd51-b004e1cf2a9d"
      },
      "source": [
        "all_data.head()"
      ],
      "execution_count": 247,
      "outputs": [
        {
          "output_type": "execute_result",
          "data": {
            "text/html": [
              "<div>\n",
              "<style scoped>\n",
              "    .dataframe tbody tr th:only-of-type {\n",
              "        vertical-align: middle;\n",
              "    }\n",
              "\n",
              "    .dataframe tbody tr th {\n",
              "        vertical-align: top;\n",
              "    }\n",
              "\n",
              "    .dataframe thead th {\n",
              "        text-align: right;\n",
              "    }\n",
              "</style>\n",
              "<table border=\"1\" class=\"dataframe\">\n",
              "  <thead>\n",
              "    <tr style=\"text-align: right;\">\n",
              "      <th></th>\n",
              "      <th>date</th>\n",
              "      <th>store_nbr</th>\n",
              "      <th>family</th>\n",
              "      <th>sales</th>\n",
              "      <th>onpromotion</th>\n",
              "    </tr>\n",
              "    <tr>\n",
              "      <th>id</th>\n",
              "      <th></th>\n",
              "      <th></th>\n",
              "      <th></th>\n",
              "      <th></th>\n",
              "      <th></th>\n",
              "    </tr>\n",
              "  </thead>\n",
              "  <tbody>\n",
              "    <tr>\n",
              "      <th>0</th>\n",
              "      <td>2013-01-01</td>\n",
              "      <td>1</td>\n",
              "      <td>AUTOMOTIVE</td>\n",
              "      <td>0.0</td>\n",
              "      <td>0.0</td>\n",
              "    </tr>\n",
              "    <tr>\n",
              "      <th>1</th>\n",
              "      <td>2013-01-01</td>\n",
              "      <td>1</td>\n",
              "      <td>BABY CARE</td>\n",
              "      <td>0.0</td>\n",
              "      <td>0.0</td>\n",
              "    </tr>\n",
              "    <tr>\n",
              "      <th>2</th>\n",
              "      <td>2013-01-01</td>\n",
              "      <td>1</td>\n",
              "      <td>BEAUTY</td>\n",
              "      <td>0.0</td>\n",
              "      <td>0.0</td>\n",
              "    </tr>\n",
              "    <tr>\n",
              "      <th>3</th>\n",
              "      <td>2013-01-01</td>\n",
              "      <td>1</td>\n",
              "      <td>BEVERAGES</td>\n",
              "      <td>0.0</td>\n",
              "      <td>0.0</td>\n",
              "    </tr>\n",
              "    <tr>\n",
              "      <th>4</th>\n",
              "      <td>2013-01-01</td>\n",
              "      <td>1</td>\n",
              "      <td>BOOKS</td>\n",
              "      <td>0.0</td>\n",
              "      <td>0.0</td>\n",
              "    </tr>\n",
              "  </tbody>\n",
              "</table>\n",
              "</div>"
            ],
            "text/plain": [
              "          date  store_nbr      family  sales  onpromotion\n",
              "id                                                       \n",
              "0   2013-01-01          1  AUTOMOTIVE    0.0          0.0\n",
              "1   2013-01-01          1   BABY CARE    0.0          0.0\n",
              "2   2013-01-01          1      BEAUTY    0.0          0.0\n",
              "3   2013-01-01          1   BEVERAGES    0.0          0.0\n",
              "4   2013-01-01          1       BOOKS    0.0          0.0"
            ]
          },
          "metadata": {},
          "execution_count": 247
        }
      ]
    },
    {
      "cell_type": "code",
      "metadata": {
        "id": "6SOdHStJ6O8K"
      },
      "source": [
        "# distinguish holiday and it takes around 1min\n",
        "\n",
        "all_data['isHoliday'] = False\n",
        "\n",
        "for i in range(0, len(holidays_events)):\n",
        "  all_data.loc[all_data['date'] == holidays_events['date'][i], 'isHoliday'] = True"
      ],
      "execution_count": 9,
      "outputs": []
    },
    {
      "cell_type": "code",
      "metadata": {
        "colab": {
          "base_uri": "https://localhost:8080/"
        },
        "id": "r76xamno6ul5",
        "outputId": "a9f55399-ae19-45b5-e108-977bea6997db"
      },
      "source": [
        "# There is no NA data\n",
        "\n",
        "na_check = all_data.isna().sum() / len(all_data)\n",
        "na_check = na_check[na_check >= 0.0]\n",
        "na_check"
      ],
      "execution_count": 249,
      "outputs": [
        {
          "output_type": "execute_result",
          "data": {
            "text/plain": [
              "date           0.000000\n",
              "store_nbr      0.000000\n",
              "family         0.000000\n",
              "sales          0.009412\n",
              "onpromotion    0.000000\n",
              "isHoliday      0.000000\n",
              "dtype: float64"
            ]
          },
          "metadata": {},
          "execution_count": 249
        }
      ]
    },
    {
      "cell_type": "code",
      "metadata": {
        "colab": {
          "base_uri": "https://localhost:8080/"
        },
        "id": "I3yZXihmH4GP",
        "outputId": "95950fe4-5fed-4edc-82e6-4971eabd8277"
      },
      "source": [
        "oil['isHoliday'] = False\n",
        "\n",
        "for i in range(0, len(holidays_events)):\n",
        "  oil.loc[oil['date'] == holidays_events['date'][i], 'isHoliday'] = True\n",
        "\n",
        "na_check = oil.isna().sum() / len(oil)\n",
        "na_check"
      ],
      "execution_count": 250,
      "outputs": [
        {
          "output_type": "execute_result",
          "data": {
            "text/plain": [
              "date          0.0\n",
              "dcoilwtico    0.0\n",
              "isHoliday     0.0\n",
              "dtype: float64"
            ]
          },
          "metadata": {},
          "execution_count": 250
        }
      ]
    },
    {
      "cell_type": "code",
      "metadata": {
        "colab": {
          "base_uri": "https://localhost:8080/"
        },
        "id": "kgoirp_QMa2h",
        "outputId": "8cb35ef4-5f46-4a9d-df18-64f6abf25986"
      },
      "source": [
        "oil['dcoilwtico'][0] = oil['dcoilwtico'][1]\n",
        "\n",
        "for i in range(0, len(oil)):\n",
        "  if pd.isna(oil['dcoilwtico'][i]) and i > 0:\n",
        "    oil['dcoilwtico'][i] = oil['dcoilwtico'][i-1]\n",
        "\n",
        "na_check = oil.isna().sum() / len(oil)\n",
        "na_check"
      ],
      "execution_count": 10,
      "outputs": [
        {
          "output_type": "stream",
          "name": "stderr",
          "text": [
            "/usr/local/lib/python3.7/dist-packages/ipykernel_launcher.py:1: SettingWithCopyWarning: \n",
            "A value is trying to be set on a copy of a slice from a DataFrame\n",
            "\n",
            "See the caveats in the documentation: https://pandas.pydata.org/pandas-docs/stable/user_guide/indexing.html#returning-a-view-versus-a-copy\n",
            "  \"\"\"Entry point for launching an IPython kernel.\n",
            "/usr/local/lib/python3.7/dist-packages/ipykernel_launcher.py:5: SettingWithCopyWarning: \n",
            "A value is trying to be set on a copy of a slice from a DataFrame\n",
            "\n",
            "See the caveats in the documentation: https://pandas.pydata.org/pandas-docs/stable/user_guide/indexing.html#returning-a-view-versus-a-copy\n",
            "  \"\"\"\n"
          ]
        },
        {
          "output_type": "execute_result",
          "data": {
            "text/plain": [
              "date          0.0\n",
              "dcoilwtico    0.0\n",
              "dtype: float64"
            ]
          },
          "metadata": {},
          "execution_count": 10
        }
      ]
    },
    {
      "cell_type": "code",
      "metadata": {
        "id": "wOz4AtAtMoLC"
      },
      "source": [
        "# it takes around 4mins\n",
        "\n",
        "all_data['oil_price'] = 0\n",
        "\n",
        "for i in range(0, len(oil)):\n",
        "  dt = oil['date'][i]\n",
        "  price = oil['dcoilwtico'][i]\n",
        "\n",
        "  all_data.loc[all_data['date'] == dt, 'oil_price'] = price\n"
      ],
      "execution_count": 11,
      "outputs": []
    },
    {
      "cell_type": "code",
      "metadata": {
        "colab": {
          "base_uri": "https://localhost:8080/",
          "height": 706
        },
        "id": "o6diX5ydT5JO",
        "outputId": "ece4006b-c69a-455f-dc26-7ca2fc7b03ef"
      },
      "source": [
        "array = []\n",
        "\n",
        "array = pd.DataFrame(array)\n",
        "\n",
        "col1 = all_data['date'].unique()\n",
        "col2 = all_data['store_nbr'].unique()\n",
        "\n",
        "for i in col2:\n",
        "  for j in col1:\n",
        "    col_n = j+' '+(str)(i)\n",
        "    array[col_n] = 0\n",
        "  print(i)\n"
      ],
      "execution_count": 13,
      "outputs": [
        {
          "output_type": "stream",
          "name": "stdout",
          "text": [
            "1\n",
            "10\n",
            "11\n",
            "12\n",
            "13\n",
            "14\n",
            "15\n",
            "16\n",
            "17\n",
            "18\n",
            "19\n",
            "2\n",
            "20\n",
            "21\n",
            "22\n",
            "23\n",
            "24\n",
            "25\n",
            "26\n",
            "27\n",
            "28\n"
          ]
        },
        {
          "output_type": "error",
          "ename": "KeyboardInterrupt",
          "evalue": "ignored",
          "traceback": [
            "\u001b[0;31m---------------------------------------------------------------------------\u001b[0m",
            "\u001b[0;31mKeyboardInterrupt\u001b[0m                         Traceback (most recent call last)",
            "\u001b[0;32m<ipython-input-13-0bfecb148e45>\u001b[0m in \u001b[0;36m<module>\u001b[0;34m()\u001b[0m\n\u001b[1;32m      9\u001b[0m   \u001b[0;32mfor\u001b[0m \u001b[0mj\u001b[0m \u001b[0;32min\u001b[0m \u001b[0mcol1\u001b[0m\u001b[0;34m:\u001b[0m\u001b[0;34m\u001b[0m\u001b[0;34m\u001b[0m\u001b[0m\n\u001b[1;32m     10\u001b[0m     \u001b[0mcol_n\u001b[0m \u001b[0;34m=\u001b[0m \u001b[0mj\u001b[0m\u001b[0;34m+\u001b[0m\u001b[0;34m' '\u001b[0m\u001b[0;34m+\u001b[0m\u001b[0;34m(\u001b[0m\u001b[0mstr\u001b[0m\u001b[0;34m)\u001b[0m\u001b[0;34m(\u001b[0m\u001b[0mi\u001b[0m\u001b[0;34m)\u001b[0m\u001b[0;34m\u001b[0m\u001b[0;34m\u001b[0m\u001b[0m\n\u001b[0;32m---> 11\u001b[0;31m     \u001b[0marray\u001b[0m\u001b[0;34m[\u001b[0m\u001b[0mcol_n\u001b[0m\u001b[0;34m]\u001b[0m \u001b[0;34m=\u001b[0m \u001b[0;36m0\u001b[0m\u001b[0;34m\u001b[0m\u001b[0;34m\u001b[0m\u001b[0m\n\u001b[0m\u001b[1;32m     12\u001b[0m   \u001b[0mprint\u001b[0m\u001b[0;34m(\u001b[0m\u001b[0mi\u001b[0m\u001b[0;34m)\u001b[0m\u001b[0;34m\u001b[0m\u001b[0;34m\u001b[0m\u001b[0m\n",
            "\u001b[0;32m/usr/local/lib/python3.7/dist-packages/pandas/core/frame.py\u001b[0m in \u001b[0;36m__setitem__\u001b[0;34m(self, key, value)\u001b[0m\n\u001b[1;32m   3030\u001b[0m \u001b[0;34m\u001b[0m\u001b[0m\n\u001b[1;32m   3031\u001b[0m         \u001b[0;31m# see if we can slice the rows\u001b[0m\u001b[0;34m\u001b[0m\u001b[0;34m\u001b[0m\u001b[0;34m\u001b[0m\u001b[0m\n\u001b[0;32m-> 3032\u001b[0;31m         \u001b[0mindexer\u001b[0m \u001b[0;34m=\u001b[0m \u001b[0mconvert_to_index_sliceable\u001b[0m\u001b[0;34m(\u001b[0m\u001b[0mself\u001b[0m\u001b[0;34m,\u001b[0m \u001b[0mkey\u001b[0m\u001b[0;34m)\u001b[0m\u001b[0;34m\u001b[0m\u001b[0;34m\u001b[0m\u001b[0m\n\u001b[0m\u001b[1;32m   3033\u001b[0m         \u001b[0;32mif\u001b[0m \u001b[0mindexer\u001b[0m \u001b[0;32mis\u001b[0m \u001b[0;32mnot\u001b[0m \u001b[0;32mNone\u001b[0m\u001b[0;34m:\u001b[0m\u001b[0;34m\u001b[0m\u001b[0;34m\u001b[0m\u001b[0m\n\u001b[1;32m   3034\u001b[0m             \u001b[0;31m# either we have a slice or we have a string that can be converted\u001b[0m\u001b[0;34m\u001b[0m\u001b[0;34m\u001b[0m\u001b[0;34m\u001b[0m\u001b[0m\n",
            "\u001b[0;32m/usr/local/lib/python3.7/dist-packages/pandas/core/indexing.py\u001b[0m in \u001b[0;36mconvert_to_index_sliceable\u001b[0;34m(obj, key)\u001b[0m\n\u001b[1;32m   2135\u001b[0m \u001b[0;34m\u001b[0m\u001b[0m\n\u001b[1;32m   2136\u001b[0m         \u001b[0;31m# we are an actual column\u001b[0m\u001b[0;34m\u001b[0m\u001b[0;34m\u001b[0m\u001b[0;34m\u001b[0m\u001b[0m\n\u001b[0;32m-> 2137\u001b[0;31m         \u001b[0;32mif\u001b[0m \u001b[0mkey\u001b[0m \u001b[0;32min\u001b[0m \u001b[0mobj\u001b[0m\u001b[0;34m.\u001b[0m\u001b[0mcolumns\u001b[0m\u001b[0;34m:\u001b[0m\u001b[0;34m\u001b[0m\u001b[0;34m\u001b[0m\u001b[0m\n\u001b[0m\u001b[1;32m   2138\u001b[0m             \u001b[0;32mreturn\u001b[0m \u001b[0;32mNone\u001b[0m\u001b[0;34m\u001b[0m\u001b[0;34m\u001b[0m\u001b[0m\n\u001b[1;32m   2139\u001b[0m \u001b[0;34m\u001b[0m\u001b[0m\n",
            "\u001b[0;32m/usr/local/lib/python3.7/dist-packages/pandas/core/indexes/base.py\u001b[0m in \u001b[0;36m__contains__\u001b[0;34m(self, key)\u001b[0m\n\u001b[1;32m   4074\u001b[0m         \u001b[0mhash\u001b[0m\u001b[0;34m(\u001b[0m\u001b[0mkey\u001b[0m\u001b[0;34m)\u001b[0m\u001b[0;34m\u001b[0m\u001b[0;34m\u001b[0m\u001b[0m\n\u001b[1;32m   4075\u001b[0m         \u001b[0;32mtry\u001b[0m\u001b[0;34m:\u001b[0m\u001b[0;34m\u001b[0m\u001b[0;34m\u001b[0m\u001b[0m\n\u001b[0;32m-> 4076\u001b[0;31m             \u001b[0;32mreturn\u001b[0m \u001b[0mkey\u001b[0m \u001b[0;32min\u001b[0m \u001b[0mself\u001b[0m\u001b[0;34m.\u001b[0m\u001b[0m_engine\u001b[0m\u001b[0;34m\u001b[0m\u001b[0;34m\u001b[0m\u001b[0m\n\u001b[0m\u001b[1;32m   4077\u001b[0m         \u001b[0;32mexcept\u001b[0m \u001b[0;34m(\u001b[0m\u001b[0mOverflowError\u001b[0m\u001b[0;34m,\u001b[0m \u001b[0mTypeError\u001b[0m\u001b[0;34m,\u001b[0m \u001b[0mValueError\u001b[0m\u001b[0;34m)\u001b[0m\u001b[0;34m:\u001b[0m\u001b[0;34m\u001b[0m\u001b[0;34m\u001b[0m\u001b[0m\n\u001b[1;32m   4078\u001b[0m             \u001b[0;32mreturn\u001b[0m \u001b[0;32mFalse\u001b[0m\u001b[0;34m\u001b[0m\u001b[0;34m\u001b[0m\u001b[0m\n",
            "\u001b[0;31mKeyboardInterrupt\u001b[0m: "
          ]
        }
      ]
    },
    {
      "cell_type": "code",
      "metadata": {
        "colab": {
          "base_uri": "https://localhost:8080/",
          "height": 229
        },
        "id": "ip9s5xVdQKYf",
        "outputId": "316fe7fc-f7f0-49d3-cb8f-c9a21b461492"
      },
      "source": [
        "all_data['transactions'] = None\n",
        "\n",
        "print(len(all_data))\n",
        "for idx, row in all_data.iterrows():\n",
        "  dt = row['date']\n",
        "  nbr = row['store_nbr']\n",
        "\n",
        "  col_n = dt+'_'+(str)(nbr)\n",
        "\n",
        "  try:\n",
        "    tst = pd.to_numeric(array[col_n])\n",
        "    row['transactions'] = tst\n",
        "  except:\n",
        "    tst = None\n",
        "\n",
        "\n",
        "\n",
        "  if idx%100000 == 0:\n",
        "    print(idx)"
      ],
      "execution_count": 1,
      "outputs": [
        {
          "output_type": "error",
          "ename": "NameError",
          "evalue": "ignored",
          "traceback": [
            "\u001b[0;31m---------------------------------------------------------------------------\u001b[0m",
            "\u001b[0;31mNameError\u001b[0m                                 Traceback (most recent call last)",
            "\u001b[0;32m<ipython-input-1-f6f0b138a953>\u001b[0m in \u001b[0;36m<module>\u001b[0;34m()\u001b[0m\n\u001b[0;32m----> 1\u001b[0;31m \u001b[0mall_data\u001b[0m\u001b[0;34m[\u001b[0m\u001b[0;34m'transactions'\u001b[0m\u001b[0;34m]\u001b[0m \u001b[0;34m=\u001b[0m \u001b[0;32mNone\u001b[0m\u001b[0;34m\u001b[0m\u001b[0;34m\u001b[0m\u001b[0m\n\u001b[0m\u001b[1;32m      2\u001b[0m \u001b[0;34m\u001b[0m\u001b[0m\n\u001b[1;32m      3\u001b[0m \u001b[0mprint\u001b[0m\u001b[0;34m(\u001b[0m\u001b[0mlen\u001b[0m\u001b[0;34m(\u001b[0m\u001b[0mall_data\u001b[0m\u001b[0;34m)\u001b[0m\u001b[0;34m)\u001b[0m\u001b[0;34m\u001b[0m\u001b[0;34m\u001b[0m\u001b[0m\n\u001b[1;32m      4\u001b[0m \u001b[0;32mfor\u001b[0m \u001b[0midx\u001b[0m\u001b[0;34m,\u001b[0m \u001b[0mrow\u001b[0m \u001b[0;32min\u001b[0m \u001b[0mall_data\u001b[0m\u001b[0;34m.\u001b[0m\u001b[0miterrows\u001b[0m\u001b[0;34m(\u001b[0m\u001b[0;34m)\u001b[0m\u001b[0;34m:\u001b[0m\u001b[0;34m\u001b[0m\u001b[0;34m\u001b[0m\u001b[0m\n\u001b[1;32m      5\u001b[0m   \u001b[0mdt\u001b[0m \u001b[0;34m=\u001b[0m \u001b[0mrow\u001b[0m\u001b[0;34m[\u001b[0m\u001b[0;34m'date'\u001b[0m\u001b[0;34m]\u001b[0m\u001b[0;34m\u001b[0m\u001b[0;34m\u001b[0m\u001b[0m\n",
            "\u001b[0;31mNameError\u001b[0m: name 'all_data' is not defined"
          ]
        }
      ]
    },
    {
      "cell_type": "code",
      "metadata": {
        "colab": {
          "base_uri": "https://localhost:8080/"
        },
        "id": "G154bdgE7P-s",
        "outputId": "d8fb2348-b3ca-4a6b-9cac-5a9825504c6f"
      },
      "source": [
        "# separate object data and non-object data\n",
        "\n",
        "data_object = all_data.select_dtypes(include=object)\n",
        "data_non_object = all_data.select_dtypes(exclude=object)\n",
        "\n",
        "print(data_object.columns)\n",
        "print(data_non_object.columns)"
      ],
      "execution_count": 14,
      "outputs": [
        {
          "output_type": "stream",
          "name": "stdout",
          "text": [
            "Index(['date', 'family'], dtype='object')\n",
            "Index(['store_nbr', 'sales', 'onpromotion', 'isHoliday', 'oil_price'], dtype='object')\n"
          ]
        }
      ]
    },
    {
      "cell_type": "code",
      "metadata": {
        "id": "uzme4Grp742J"
      },
      "source": [
        "all_data['year'] = pd.to_numeric(all_data['date'].str[:4])\n",
        "all_data['month'] = pd.to_numeric(all_data['date'].str[5:7])\n",
        "all_data['day'] = pd.to_numeric(all_data['date'].str[8:10])\n",
        "\n",
        "all_data['date_'] = (all_data['year']*10000) + (all_data['month']*100) + all_data['day']"
      ],
      "execution_count": 15,
      "outputs": []
    },
    {
      "cell_type": "code",
      "metadata": {
        "id": "pKZRY2tJBeSf"
      },
      "source": [
        "save_point = all_data"
      ],
      "execution_count": 178,
      "outputs": []
    },
    {
      "cell_type": "code",
      "metadata": {
        "colab": {
          "base_uri": "https://localhost:8080/"
        },
        "id": "G4xbzAtrBea5",
        "outputId": "0d1b2ec5-5c8b-487a-ea11-d7c89293eb3b"
      },
      "source": [
        "all_data = save_point\n",
        "len(all_data)"
      ],
      "execution_count": 179,
      "outputs": [
        {
          "output_type": "execute_result",
          "data": {
            "text/plain": [
              "3029400"
            ]
          },
          "metadata": {},
          "execution_count": 179
        }
      ]
    },
    {
      "cell_type": "code",
      "metadata": {
        "id": "YN4hM-CZ8Yg_"
      },
      "source": [
        "all_data_index = all_data.index\n",
        "\n",
        "dummy_data = pd.get_dummies(data_object.drop(['date'], axis=1), drop_first=True)\n",
        "dummy_data.index = all_data_index"
      ],
      "execution_count": 16,
      "outputs": []
    },
    {
      "cell_type": "code",
      "metadata": {
        "id": "BVuu9fQIAmj0"
      },
      "source": [
        "dump = data_non_object\n",
        "dump.index = all_data_index"
      ],
      "execution_count": 17,
      "outputs": []
    },
    {
      "cell_type": "code",
      "metadata": {
        "id": "vYAhZc-7_HVi"
      },
      "source": [
        "all_data = pd.merge(dummy_data, dump, right_index=True, left_index=True)"
      ],
      "execution_count": 18,
      "outputs": []
    },
    {
      "cell_type": "code",
      "metadata": {
        "id": "NS-K3-1PClpc"
      },
      "source": [
        "nTrain = len(train)\n",
        "train = all_data[:nTrain]\n",
        "test = all_data[nTrain:]"
      ],
      "execution_count": 20,
      "outputs": []
    },
    {
      "cell_type": "code",
      "metadata": {
        "id": "ecub1L0Tir2k"
      },
      "source": [
        "col_x = train.columns\n",
        "col_y = 'sales'"
      ],
      "execution_count": 22,
      "outputs": []
    },
    {
      "cell_type": "code",
      "metadata": {
        "colab": {
          "base_uri": "https://localhost:8080/"
        },
        "id": "XLeXKsqJ3Fd0",
        "outputId": "86fde862-b207-42e3-8e19-d06ee77eac90"
      },
      "source": [
        "cormat = train.corr()\n",
        "\n",
        "dump = cormat.index[abs(cormat['sales']) >= 0.1]\n",
        "dump"
      ],
      "execution_count": 23,
      "outputs": [
        {
          "output_type": "execute_result",
          "data": {
            "text/plain": [
              "Index(['family_BEVERAGES', 'family_CLEANING', 'family_GROCERY I',\n",
              "       'family_PRODUCE', 'sales', 'onpromotion'],\n",
              "      dtype='object')"
            ]
          },
          "metadata": {},
          "execution_count": 23
        }
      ]
    },
    {
      "cell_type": "code",
      "metadata": {
        "id": "tV8C0iQxDhs9"
      },
      "source": [
        "from sklearn.model_selection import train_test_split\n",
        "\n",
        "train_x = train.drop(['sales'], axis=1)\n",
        "train_y = np.log1p(train['sales'])\n",
        "\n",
        "train_x, val_x, train_y, val_y = train_test_split(train_x, train_y, test_size=0.2, shuffle=True)\n",
        "\n",
        "test_id_idx = test.index\n",
        "\n",
        "test_x = test.drop(['sales'], axis=1)"
      ],
      "execution_count": 32,
      "outputs": []
    },
    {
      "cell_type": "code",
      "metadata": {
        "colab": {
          "base_uri": "https://localhost:8080/"
        },
        "id": "4r8Gue9cELDr",
        "outputId": "54a297a6-6410-4668-e484-1800c6eaf144"
      },
      "source": [
        "from sklearn.model_selection import GridSearchCV\n",
        "from xgboost import XGBRegressor\n",
        "\n",
        "xgb = XGBRegressor(randome_state = 37)\n",
        "\n",
        "param = {\n",
        "    'max_depth':[2,3,4],\n",
        "    'n_estimators':range(550,700,50),\n",
        "    'colsample_bytree':[0.5,0.7,1],\n",
        "    'colsample_bylevel':[0.5,0.7,1],\n",
        "}\n",
        "grid_search = GridSearchCV(estimator=xgb, param_grid=param, cv=2, \n",
        "                           scoring='neg_mean_squared_error',\n",
        "                           n_jobs=-1)\n",
        "\n",
        "#print(train_x.dtypes)\n",
        "#print(train_y.dtypes)\n",
        "\n",
        "grid_search.fit(train_x, train_y)\n",
        "print(grid_search.best_params_)\n",
        "print(grid_search.best_estimator_)"
      ],
      "execution_count": 25,
      "outputs": [
        {
          "output_type": "stream",
          "name": "stdout",
          "text": [
            "[10:21:26] WARNING: /workspace/src/objective/regression_obj.cu:152: reg:linear is now deprecated in favor of reg:squarederror.\n",
            "{'colsample_bylevel': 1, 'colsample_bytree': 1, 'max_depth': 4, 'n_estimators': 650}\n",
            "XGBRegressor(base_score=0.5, booster='gbtree', colsample_bylevel=1,\n",
            "             colsample_bynode=1, colsample_bytree=1, gamma=0,\n",
            "             importance_type='gain', learning_rate=0.1, max_delta_step=0,\n",
            "             max_depth=4, min_child_weight=1, missing=None, n_estimators=650,\n",
            "             n_jobs=1, nthread=None, objective='reg:linear', random_state=0,\n",
            "             randome_state=37, reg_alpha=0, reg_lambda=1, scale_pos_weight=1,\n",
            "             seed=None, silent=None, subsample=1, verbosity=1)\n"
          ]
        }
      ]
    },
    {
      "cell_type": "code",
      "metadata": {
        "colab": {
          "base_uri": "https://localhost:8080/"
        },
        "id": "_MzREyC7EO6P",
        "outputId": "16f10bb3-cdbe-4f4d-a1f7-3253e5d94dc7"
      },
      "source": [
        "from sklearn.metrics import mean_squared_error, mean_absolute_error\n",
        "pred_train = xgb.predict(train_x)\n",
        "pred_val = xgb.predict(val_x)\n",
        "\n",
        "print('train mae score: ', mean_absolute_error(train_y, pred_train))\n",
        "print('val mae score:', mean_absolute_error(val_y, pred_val))\n",
        "\n",
        "# train mae score:  0.7586943958044394\n",
        "# val mae score: 0.942235584465081\n",
        "# real score : 2.37214\n",
        "\n",
        "# train mae score:  0.466127593673133\n",
        "# val mae score: 0.5367417374485141\n",
        "# real score : 2.47333"
      ],
      "execution_count": 26,
      "outputs": [
        {
          "output_type": "stream",
          "name": "stdout",
          "text": [
            "train mae score:  0.466127593673133\n",
            "val mae score: 0.5367417374485141\n"
          ]
        }
      ]
    },
    {
      "cell_type": "code",
      "metadata": {
        "colab": {
          "base_uri": "https://localhost:8080/"
        },
        "id": "yKAMK3lfe0AP",
        "outputId": "9027450c-6a1a-4c01-a21a-b41822c8f8d6"
      },
      "source": [
        "xgb.fit(train_x, train_y)\n",
        "pred = xgb.predict(test_x)"
      ],
      "execution_count": 33,
      "outputs": [
        {
          "output_type": "stream",
          "name": "stdout",
          "text": [
            "[10:26:10] WARNING: /workspace/src/objective/regression_obj.cu:152: reg:linear is now deprecated in favor of reg:squarederror.\n"
          ]
        }
      ]
    },
    {
      "cell_type": "code",
      "metadata": {
        "id": "nJ19LDTMHQ17"
      },
      "source": [
        "submission = pd.read_csv('/content/drive/MyDrive/Colab Notebooks/StoreSales/sample_submission.csv')"
      ],
      "execution_count": 27,
      "outputs": []
    },
    {
      "cell_type": "code",
      "metadata": {
        "id": "XSpGGQWuGzVS"
      },
      "source": [
        "#pred = grid_search.predict(test_x)\n",
        "submission['sales'] = np.expm1(pred)\n",
        "submission.to_csv('/content/drive/MyDrive/Colab Notebooks/StoreSales/submission.csv', index=False)"
      ],
      "execution_count": 34,
      "outputs": []
    }
  ]
}