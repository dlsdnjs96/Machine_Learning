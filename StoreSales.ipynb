{
  "nbformat": 4,
  "nbformat_minor": 0,
  "metadata": {
    "colab": {
      "name": "StoreSales.ipynb",
      "provenance": []
    },
    "kernelspec": {
      "name": "python3",
      "display_name": "Python 3"
    },
    "language_info": {
      "name": "python"
    }
  },
  "cells": [
    {
      "cell_type": "code",
      "metadata": {
        "id": "Le0ZIxhWDXb9"
      },
      "source": [
        "import numpy as np\n",
        "import pandas as pd\n",
        "from sklearn.preprocessing import StandardScaler, MinMaxScaler, RobustScaler, LabelEncoder"
      ],
      "execution_count": 4,
      "outputs": []
    },
    {
      "cell_type": "code",
      "metadata": {
        "id": "-6OOjh54EkI8"
      },
      "source": [
        "train = pd.read_csv('/content/drive/MyDrive/Colab Notebooks/StoreSales/train.csv')\n",
        "test = pd.read_csv('/content/drive/MyDrive/Colab Notebooks/StoreSales/test.csv')\n",
        "holidays_events = pd.read_csv('/content/drive/MyDrive/Colab Notebooks/StoreSales/holidays_events.csv')\n",
        "oil = pd.read_csv('/content/drive/MyDrive/Colab Notebooks/StoreSales/oil.csv')\n",
        "stores = pd.read_csv('/content/drive/MyDrive/Colab Notebooks/StoreSales/stores.csv')\n",
        "trandsactions = pd.read_csv('/content/drive/MyDrive/Colab Notebooks/StoreSales/transactions.csv')"
      ],
      "execution_count": 34,
      "outputs": []
    },
    {
      "cell_type": "code",
      "metadata": {
        "id": "nCTPaUqdIWJH"
      },
      "source": [
        "stores['predict_sales'] = 0"
      ],
      "execution_count": 35,
      "outputs": []
    },
    {
      "cell_type": "code",
      "metadata": {
        "colab": {
          "base_uri": "https://localhost:8080/",
          "height": 203
        },
        "id": "33nmFPEGFgzx",
        "outputId": "90113599-5140-4af8-dae6-966c799137be"
      },
      "source": [
        "#train['city'] = None\n",
        "\n",
        "for i in range(0, len(stores)):\n",
        "  sum = train.loc[train['store_nbr'] == stores['store_nbr'][i], 'sales'].sum()\n",
        "  count = train.loc[train['store_nbr'] == stores['store_nbr'][i], 'sales'].count()\n",
        "  stores.loc[stores['store_nbr'] == stores['store_nbr'][i], 'predict_sales'] = sum / count\n",
        "  #print(sum)\n",
        "      \n",
        "stores.head()"
      ],
      "execution_count": 36,
      "outputs": [
        {
          "output_type": "execute_result",
          "data": {
            "text/html": [
              "<div>\n",
              "<style scoped>\n",
              "    .dataframe tbody tr th:only-of-type {\n",
              "        vertical-align: middle;\n",
              "    }\n",
              "\n",
              "    .dataframe tbody tr th {\n",
              "        vertical-align: top;\n",
              "    }\n",
              "\n",
              "    .dataframe thead th {\n",
              "        text-align: right;\n",
              "    }\n",
              "</style>\n",
              "<table border=\"1\" class=\"dataframe\">\n",
              "  <thead>\n",
              "    <tr style=\"text-align: right;\">\n",
              "      <th></th>\n",
              "      <th>store_nbr</th>\n",
              "      <th>city</th>\n",
              "      <th>state</th>\n",
              "      <th>type</th>\n",
              "      <th>cluster</th>\n",
              "      <th>predict_sales</th>\n",
              "    </tr>\n",
              "  </thead>\n",
              "  <tbody>\n",
              "    <tr>\n",
              "      <th>0</th>\n",
              "      <td>1</td>\n",
              "      <td>Quito</td>\n",
              "      <td>Pichincha</td>\n",
              "      <td>D</td>\n",
              "      <td>13</td>\n",
              "      <td>254.534889</td>\n",
              "    </tr>\n",
              "    <tr>\n",
              "      <th>1</th>\n",
              "      <td>2</td>\n",
              "      <td>Quito</td>\n",
              "      <td>Pichincha</td>\n",
              "      <td>D</td>\n",
              "      <td>13</td>\n",
              "      <td>387.918172</td>\n",
              "    </tr>\n",
              "    <tr>\n",
              "      <th>2</th>\n",
              "      <td>3</td>\n",
              "      <td>Quito</td>\n",
              "      <td>Pichincha</td>\n",
              "      <td>D</td>\n",
              "      <td>8</td>\n",
              "      <td>908.405495</td>\n",
              "    </tr>\n",
              "    <tr>\n",
              "      <th>3</th>\n",
              "      <td>4</td>\n",
              "      <td>Quito</td>\n",
              "      <td>Pichincha</td>\n",
              "      <td>D</td>\n",
              "      <td>9</td>\n",
              "      <td>340.273886</td>\n",
              "    </tr>\n",
              "    <tr>\n",
              "      <th>4</th>\n",
              "      <td>5</td>\n",
              "      <td>Santo Domingo</td>\n",
              "      <td>Santo Domingo de los Tsachilas</td>\n",
              "      <td>D</td>\n",
              "      <td>4</td>\n",
              "      <td>280.580231</td>\n",
              "    </tr>\n",
              "  </tbody>\n",
              "</table>\n",
              "</div>"
            ],
            "text/plain": [
              "   store_nbr           city  ... cluster predict_sales\n",
              "0          1          Quito  ...      13    254.534889\n",
              "1          2          Quito  ...      13    387.918172\n",
              "2          3          Quito  ...       8    908.405495\n",
              "3          4          Quito  ...       9    340.273886\n",
              "4          5  Santo Domingo  ...       4    280.580231\n",
              "\n",
              "[5 rows x 6 columns]"
            ]
          },
          "metadata": {},
          "execution_count": 36
        }
      ]
    },
    {
      "cell_type": "code",
      "metadata": {
        "colab": {
          "base_uri": "https://localhost:8080/"
        },
        "id": "P3ywyNNNJs3a",
        "outputId": "1066b2d8-0aac-4eca-ea67-a48cc2c266c9"
      },
      "source": [
        "train.loc[train['sales'] == 0, 'sales'].count() / train['sales'].count()"
      ],
      "execution_count": 42,
      "outputs": [
        {
          "output_type": "execute_result",
          "data": {
            "text/plain": [
              "0.3129506999261552"
            ]
          },
          "metadata": {},
          "execution_count": 42
        }
      ]
    }
  ]
}