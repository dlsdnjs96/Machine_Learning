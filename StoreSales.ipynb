{
  "nbformat": 4,
  "nbformat_minor": 0,
  "metadata": {
    "colab": {
      "name": "StoreSales.ipynb",
      "provenance": []
    },
    "kernelspec": {
      "name": "python3",
      "display_name": "Python 3"
    },
    "language_info": {
      "name": "python"
    }
  },
  "cells": [
    {
      "cell_type": "code",
      "metadata": {
        "id": "Le0ZIxhWDXb9"
      },
      "source": [
        "import numpy as np\n",
        "import pandas as pd\n",
        "from sklearn.preprocessing import StandardScaler, MinMaxScaler, RobustScaler, LabelEncoder\n",
        "\n",
        "from sklearn.impute import SimpleImputer"
      ],
      "execution_count": 2,
      "outputs": []
    },
    {
      "cell_type": "code",
      "metadata": {
        "id": "xji-zNEBb4Hr"
      },
      "source": [
        "pd.set_option('display.max_rows', None)\n",
        "pd.set_option('display.max_columns', None)\n",
        "pd.set_option('display.max_seq_items', None)"
      ],
      "execution_count": 3,
      "outputs": []
    },
    {
      "cell_type": "code",
      "metadata": {
        "id": "-6OOjh54EkI8"
      },
      "source": [
        "train = pd.read_csv('/content/drive/MyDrive/Colab Notebooks/StoreSales/train.csv')\n",
        "test = pd.read_csv('/content/drive/MyDrive/Colab Notebooks/StoreSales/test.csv')"
      ],
      "execution_count": 3,
      "outputs": []
    },
    {
      "cell_type": "code",
      "metadata": {
        "id": "yzr6tfGBZtTY"
      },
      "source": [
        "holidays_events = pd.read_csv('/content/drive/MyDrive/Colab Notebooks/StoreSales/holidays_events.csv')\n",
        "oil = pd.read_csv('/content/drive/MyDrive/Colab Notebooks/StoreSales/oil.csv')\n",
        "stores = pd.read_csv('/content/drive/MyDrive/Colab Notebooks/StoreSales/stores.csv')\n",
        "trandsactions = pd.read_csv('/content/drive/MyDrive/Colab Notebooks/StoreSales/transactions.csv')"
      ],
      "execution_count": 4,
      "outputs": []
    },
    {
      "cell_type": "code",
      "metadata": {
        "id": "3ti8pENoByIy"
      },
      "source": [
        "train.set_index('id', inplace=True)\n",
        "test.set_index('id', inplace=True)"
      ],
      "execution_count": null,
      "outputs": []
    },
    {
      "cell_type": "code",
      "metadata": {
        "id": "y14cKCfVDUZK"
      },
      "source": [
        "train['year'] = pd.to_numeric(train['date'].str[:4])\n",
        "train['month'] = pd.to_numeric(train['date'].str[5:7])\n",
        "train['day'] = pd.to_numeric(train['date'].str[8:10])\n",
        "\n",
        "train['date_'] = (train['year']*10000) + (train['month']*100) + train['day']"
      ],
      "execution_count": 5,
      "outputs": []
    },
    {
      "cell_type": "code",
      "metadata": {
        "id": "y5lwPt86DmkY"
      },
      "source": [
        "test['year'] = pd.to_numeric(test['date'].str[:4])\n",
        "test['month'] = pd.to_numeric(test['date'].str[5:7])\n",
        "test['day'] = pd.to_numeric(test['date'].str[8:10])\n",
        "\n",
        "test['date_'] = (test['year']*10000) + (test['month']*100) + test['day']"
      ],
      "execution_count": 6,
      "outputs": []
    },
    {
      "cell_type": "code",
      "metadata": {
        "id": "BOIaLFyDDVFE"
      },
      "source": [
        "trandsactions['year'] = pd.to_numeric(trandsactions['date'].str[:4])\n",
        "trandsactions['month'] = pd.to_numeric(trandsactions['date'].str[5:7])\n",
        "trandsactions['day'] = pd.to_numeric(trandsactions['date'].str[8:10])\n",
        "\n",
        "trandsactions['date_'] = (trandsactions['year']*10000) + (trandsactions['month']*100) + trandsactions['day']"
      ],
      "execution_count": 7,
      "outputs": []
    },
    {
      "cell_type": "code",
      "metadata": {
        "id": "TzHA2qSxx1_q"
      },
      "source": [
        "group_flag = 'store_nbr'"
      ],
      "execution_count": 8,
      "outputs": []
    },
    {
      "cell_type": "code",
      "metadata": {
        "id": "NnE4HZSOlyUn"
      },
      "source": [
        "gb = train.groupby(by=group_flag)\n",
        "gb2 = trandsactions.groupby(by=group_flag)\n",
        "col = trandsactions[group_flag].unique()\n",
        "dump = pd.DataFrame()\n",
        "\n",
        "\n",
        "for i in col:\n",
        "  all_data_ = gb.get_group(i).copy()\n",
        "  trandsactions_ = gb2.get_group(i).copy()\n",
        "\n",
        "  for idx, row in trandsactions_.iterrows():\n",
        "    all_data_.loc[all_data_['date_'] == row['date_'], 'transactions'] = row['transactions']\n",
        "\n",
        "  dump = pd.concat([dump, all_data_], sort=False)\n",
        "    \n",
        "train = dump"
      ],
      "execution_count": 9,
      "outputs": []
    },
    {
      "cell_type": "code",
      "metadata": {
        "colab": {
          "base_uri": "https://localhost:8080/"
        },
        "id": "QBA6MMWT4Ulb",
        "outputId": "61f21e3d-1819-422f-e835-b490f878c364"
      },
      "source": [
        "na_check = train.isna().sum() / len(train)\n",
        "na_check"
      ],
      "execution_count": 10,
      "outputs": [
        {
          "output_type": "execute_result",
          "data": {
            "text/plain": [
              "id              0.000000\n",
              "date            0.000000\n",
              "store_nbr       0.000000\n",
              "family          0.000000\n",
              "sales           0.000000\n",
              "onpromotion     0.000000\n",
              "year            0.000000\n",
              "month           0.000000\n",
              "day             0.000000\n",
              "date_           0.000000\n",
              "transactions    0.081904\n",
              "dtype: float64"
            ]
          },
          "metadata": {},
          "execution_count": 10
        }
      ]
    },
    {
      "cell_type": "code",
      "metadata": {
        "id": "YrM96tN88aU4"
      },
      "source": [
        "all_data = pd.concat([train, test], sort=False)"
      ],
      "execution_count": 11,
      "outputs": []
    },
    {
      "cell_type": "code",
      "metadata": {
        "colab": {
          "base_uri": "https://localhost:8080/"
        },
        "id": "-1AZNh3Z9hAT",
        "outputId": "2c6563aa-c1e1-4849-b401-2bc3e47fa200"
      },
      "source": [
        "na_check = all_data.isna().sum() / len(all_data)\n",
        "na_check"
      ],
      "execution_count": 43,
      "outputs": [
        {
          "output_type": "execute_result",
          "data": {
            "text/plain": [
              "id              0.000000\n",
              "date            0.000000\n",
              "store_nbr       0.000000\n",
              "family          0.000000\n",
              "sales           0.009412\n",
              "onpromotion     0.000000\n",
              "year            0.000000\n",
              "month           0.000000\n",
              "day             0.000000\n",
              "date_           0.000000\n",
              "transactions    0.059488\n",
              "family_value    0.000000\n",
              "isHoliday       0.000000\n",
              "oil_price       0.000000\n",
              "dtype: float64"
            ]
          },
          "metadata": {},
          "execution_count": 43
        }
      ]
    },
    {
      "cell_type": "code",
      "metadata": {
        "colab": {
          "base_uri": "https://localhost:8080/"
        },
        "id": "FnhNQ3Mz932v",
        "outputId": "483da010-9c70-41f6-b495-de8f3306b6e1"
      },
      "source": [
        "all_data.dtypes"
      ],
      "execution_count": 19,
      "outputs": [
        {
          "output_type": "execute_result",
          "data": {
            "text/plain": [
              "id                int64\n",
              "date             object\n",
              "store_nbr         int64\n",
              "family           object\n",
              "sales           float64\n",
              "onpromotion     float64\n",
              "year              int64\n",
              "month             int64\n",
              "day               int64\n",
              "date_             int64\n",
              "transactions    float64\n",
              "dtype: object"
            ]
          },
          "metadata": {},
          "execution_count": 19
        }
      ]
    },
    {
      "cell_type": "code",
      "metadata": {
        "colab": {
          "base_uri": "https://localhost:8080/",
          "height": 420
        },
        "id": "dYVrGWE896Ja",
        "outputId": "5930ca61-39f8-4cbf-d299-5deaf5593c2b"
      },
      "source": [
        "group_flag = 'year'\n",
        "\n",
        "col = all_data['year'].unique()\n",
        "col2 = all_data['family'].unique()\n",
        "\n",
        "gb = all_data.groupby(by=group_flag)\n",
        "\n",
        "all_data['family_value'] = 0\n",
        "\n",
        "for i in col:\n",
        "  all_data_ = gb.get_group(i).copy()\n",
        "\n",
        "\n",
        "  for j in col2:\n",
        "    sum = all_data_.loc[(all_data_['family'] == j) & (all_data_['sales'] > 0), 'sales'].sum()\n",
        "    cnt = all_data_.loc[(all_data_['family'] == j) & (all_data_['sales'] > 0), 'sales'].count()\n",
        "\n",
        "    all_data.loc[(all_data['family'] == j) & (all_data['year'] == i), 'family_value'] = sum / cnt\n",
        "\n",
        "all_data.head()"
      ],
      "execution_count": 13,
      "outputs": [
        {
          "output_type": "stream",
          "name": "stderr",
          "text": [
            "/usr/local/lib/python3.7/dist-packages/ipykernel_launcher.py:18: RuntimeWarning: invalid value encountered in double_scalars\n",
            "/usr/local/lib/python3.7/dist-packages/ipykernel_launcher.py:18: RuntimeWarning: invalid value encountered in double_scalars\n",
            "/usr/local/lib/python3.7/dist-packages/ipykernel_launcher.py:18: RuntimeWarning: invalid value encountered in double_scalars\n",
            "/usr/local/lib/python3.7/dist-packages/ipykernel_launcher.py:18: RuntimeWarning: invalid value encountered in double_scalars\n",
            "/usr/local/lib/python3.7/dist-packages/ipykernel_launcher.py:18: RuntimeWarning: invalid value encountered in double_scalars\n",
            "/usr/local/lib/python3.7/dist-packages/ipykernel_launcher.py:18: RuntimeWarning: invalid value encountered in double_scalars\n",
            "/usr/local/lib/python3.7/dist-packages/ipykernel_launcher.py:18: RuntimeWarning: invalid value encountered in double_scalars\n",
            "/usr/local/lib/python3.7/dist-packages/ipykernel_launcher.py:18: RuntimeWarning: invalid value encountered in double_scalars\n",
            "/usr/local/lib/python3.7/dist-packages/ipykernel_launcher.py:18: RuntimeWarning: invalid value encountered in double_scalars\n",
            "/usr/local/lib/python3.7/dist-packages/ipykernel_launcher.py:18: RuntimeWarning: invalid value encountered in double_scalars\n",
            "/usr/local/lib/python3.7/dist-packages/ipykernel_launcher.py:18: RuntimeWarning: invalid value encountered in double_scalars\n",
            "/usr/local/lib/python3.7/dist-packages/ipykernel_launcher.py:18: RuntimeWarning: invalid value encountered in double_scalars\n",
            "/usr/local/lib/python3.7/dist-packages/ipykernel_launcher.py:18: RuntimeWarning: invalid value encountered in double_scalars\n"
          ]
        },
        {
          "output_type": "execute_result",
          "data": {
            "text/html": [
              "<div>\n",
              "<style scoped>\n",
              "    .dataframe tbody tr th:only-of-type {\n",
              "        vertical-align: middle;\n",
              "    }\n",
              "\n",
              "    .dataframe tbody tr th {\n",
              "        vertical-align: top;\n",
              "    }\n",
              "\n",
              "    .dataframe thead th {\n",
              "        text-align: right;\n",
              "    }\n",
              "</style>\n",
              "<table border=\"1\" class=\"dataframe\">\n",
              "  <thead>\n",
              "    <tr style=\"text-align: right;\">\n",
              "      <th></th>\n",
              "      <th>id</th>\n",
              "      <th>date</th>\n",
              "      <th>store_nbr</th>\n",
              "      <th>family</th>\n",
              "      <th>sales</th>\n",
              "      <th>onpromotion</th>\n",
              "      <th>year</th>\n",
              "      <th>month</th>\n",
              "      <th>day</th>\n",
              "      <th>date_</th>\n",
              "      <th>transactions</th>\n",
              "      <th>family_value</th>\n",
              "    </tr>\n",
              "  </thead>\n",
              "  <tbody>\n",
              "    <tr>\n",
              "      <th>561</th>\n",
              "      <td>561</td>\n",
              "      <td>2013-01-01</td>\n",
              "      <td>25</td>\n",
              "      <td>AUTOMOTIVE</td>\n",
              "      <td>0.0</td>\n",
              "      <td>0.0</td>\n",
              "      <td>2013</td>\n",
              "      <td>1</td>\n",
              "      <td>1</td>\n",
              "      <td>20130101</td>\n",
              "      <td>770.0</td>\n",
              "      <td>5.947114</td>\n",
              "    </tr>\n",
              "    <tr>\n",
              "      <th>562</th>\n",
              "      <td>562</td>\n",
              "      <td>2013-01-01</td>\n",
              "      <td>25</td>\n",
              "      <td>BABY CARE</td>\n",
              "      <td>0.0</td>\n",
              "      <td>0.0</td>\n",
              "      <td>2013</td>\n",
              "      <td>1</td>\n",
              "      <td>1</td>\n",
              "      <td>20130101</td>\n",
              "      <td>770.0</td>\n",
              "      <td>NaN</td>\n",
              "    </tr>\n",
              "    <tr>\n",
              "      <th>563</th>\n",
              "      <td>563</td>\n",
              "      <td>2013-01-01</td>\n",
              "      <td>25</td>\n",
              "      <td>BEAUTY</td>\n",
              "      <td>2.0</td>\n",
              "      <td>0.0</td>\n",
              "      <td>2013</td>\n",
              "      <td>1</td>\n",
              "      <td>1</td>\n",
              "      <td>20130101</td>\n",
              "      <td>770.0</td>\n",
              "      <td>3.660048</td>\n",
              "    </tr>\n",
              "    <tr>\n",
              "      <th>564</th>\n",
              "      <td>564</td>\n",
              "      <td>2013-01-01</td>\n",
              "      <td>25</td>\n",
              "      <td>BEVERAGES</td>\n",
              "      <td>810.0</td>\n",
              "      <td>0.0</td>\n",
              "      <td>2013</td>\n",
              "      <td>1</td>\n",
              "      <td>1</td>\n",
              "      <td>20130101</td>\n",
              "      <td>770.0</td>\n",
              "      <td>1287.717597</td>\n",
              "    </tr>\n",
              "    <tr>\n",
              "      <th>565</th>\n",
              "      <td>565</td>\n",
              "      <td>2013-01-01</td>\n",
              "      <td>25</td>\n",
              "      <td>BOOKS</td>\n",
              "      <td>0.0</td>\n",
              "      <td>0.0</td>\n",
              "      <td>2013</td>\n",
              "      <td>1</td>\n",
              "      <td>1</td>\n",
              "      <td>20130101</td>\n",
              "      <td>770.0</td>\n",
              "      <td>NaN</td>\n",
              "    </tr>\n",
              "  </tbody>\n",
              "</table>\n",
              "</div>"
            ],
            "text/plain": [
              "      id        date  store_nbr  ...     date_  transactions  family_value\n",
              "561  561  2013-01-01         25  ...  20130101         770.0      5.947114\n",
              "562  562  2013-01-01         25  ...  20130101         770.0           NaN\n",
              "563  563  2013-01-01         25  ...  20130101         770.0      3.660048\n",
              "564  564  2013-01-01         25  ...  20130101         770.0   1287.717597\n",
              "565  565  2013-01-01         25  ...  20130101         770.0           NaN\n",
              "\n",
              "[5 rows x 12 columns]"
            ]
          },
          "metadata": {},
          "execution_count": 13
        }
      ]
    },
    {
      "cell_type": "code",
      "metadata": {
        "id": "mVAk6Ner8S_A",
        "colab": {
          "base_uri": "https://localhost:8080/"
        },
        "outputId": "132e620f-8615-41dc-8ffd-250f16552821"
      },
      "source": [
        "group_flag = 'year'\n",
        "\n",
        "col = all_data['year'].unique()\n",
        "col2 = all_data['store_nbr'].unique()\n",
        "\n",
        "gb = all_data.groupby(by=group_flag)\n",
        "\n",
        "\n",
        "for i in col:\n",
        "  all_data_ = gb.get_group(i).copy()\n",
        "\n",
        "  for j in col2:\n",
        "    sum = all_data_.loc[all_data_['store_nbr'] == j, 'transactions'].sum()\n",
        "    cnt = all_data_.loc[all_data_['store_nbr'] == j, 'transactions'].count()\n",
        "\n",
        "    all_data.loc[(all_data['transactions'].isna()) & (all_data['year'] == i) & (all_data['store_nbr'] == j), 'transactions'] = sum / cnt\n",
        "\n",
        "\n",
        "for i in col:\n",
        "  all_data_ = gb.get_group(i).copy()\n",
        "\n",
        "  sum = all_data_['transactions'].sum()\n",
        "  cnt = all_data_['transactions'].count()\n",
        "\n",
        "  all_data.loc[(all_data['transactions'].isna()) & (all_data['year'] == i), 'transactions'] = sum / cnt"
      ],
      "execution_count": 14,
      "outputs": [
        {
          "output_type": "stream",
          "name": "stderr",
          "text": [
            "/usr/local/lib/python3.7/dist-packages/ipykernel_launcher.py:16: RuntimeWarning: invalid value encountered in double_scalars\n",
            "  app.launch_new_instance()\n",
            "/usr/local/lib/python3.7/dist-packages/ipykernel_launcher.py:16: RuntimeWarning: invalid value encountered in double_scalars\n",
            "  app.launch_new_instance()\n",
            "/usr/local/lib/python3.7/dist-packages/ipykernel_launcher.py:16: RuntimeWarning: invalid value encountered in double_scalars\n",
            "  app.launch_new_instance()\n",
            "/usr/local/lib/python3.7/dist-packages/ipykernel_launcher.py:16: RuntimeWarning: invalid value encountered in double_scalars\n",
            "  app.launch_new_instance()\n",
            "/usr/local/lib/python3.7/dist-packages/ipykernel_launcher.py:16: RuntimeWarning: invalid value encountered in double_scalars\n",
            "  app.launch_new_instance()\n",
            "/usr/local/lib/python3.7/dist-packages/ipykernel_launcher.py:16: RuntimeWarning: invalid value encountered in double_scalars\n",
            "  app.launch_new_instance()\n",
            "/usr/local/lib/python3.7/dist-packages/ipykernel_launcher.py:16: RuntimeWarning: invalid value encountered in double_scalars\n",
            "  app.launch_new_instance()\n",
            "/usr/local/lib/python3.7/dist-packages/ipykernel_launcher.py:16: RuntimeWarning: invalid value encountered in double_scalars\n",
            "  app.launch_new_instance()\n",
            "/usr/local/lib/python3.7/dist-packages/ipykernel_launcher.py:16: RuntimeWarning: invalid value encountered in double_scalars\n",
            "  app.launch_new_instance()\n",
            "/usr/local/lib/python3.7/dist-packages/ipykernel_launcher.py:16: RuntimeWarning: invalid value encountered in double_scalars\n",
            "  app.launch_new_instance()\n",
            "/usr/local/lib/python3.7/dist-packages/ipykernel_launcher.py:16: RuntimeWarning: invalid value encountered in double_scalars\n",
            "  app.launch_new_instance()\n",
            "/usr/local/lib/python3.7/dist-packages/ipykernel_launcher.py:16: RuntimeWarning: invalid value encountered in double_scalars\n",
            "  app.launch_new_instance()\n",
            "/usr/local/lib/python3.7/dist-packages/ipykernel_launcher.py:16: RuntimeWarning: invalid value encountered in double_scalars\n",
            "  app.launch_new_instance()\n",
            "/usr/local/lib/python3.7/dist-packages/ipykernel_launcher.py:16: RuntimeWarning: invalid value encountered in double_scalars\n",
            "  app.launch_new_instance()\n",
            "/usr/local/lib/python3.7/dist-packages/ipykernel_launcher.py:16: RuntimeWarning: invalid value encountered in double_scalars\n",
            "  app.launch_new_instance()\n"
          ]
        }
      ]
    },
    {
      "cell_type": "code",
      "metadata": {
        "id": "mFQGdQSOGea-"
      },
      "source": [
        "# distinguish holiday and it takes around 1min\n",
        "\n",
        "all_data['isHoliday'] = False\n",
        "\n",
        "for i in range(0, len(holidays_events)):\n",
        "  all_data.loc[all_data['date'] == holidays_events['date'][i], 'isHoliday'] = True"
      ],
      "execution_count": 15,
      "outputs": []
    },
    {
      "cell_type": "code",
      "metadata": {
        "id": "I0gOAxAyGkdj"
      },
      "source": [
        "oil['year'] = pd.to_numeric(oil['date'].str[:4])\n",
        "oil['month'] = pd.to_numeric(oil['date'].str[5:7])\n",
        "oil['day'] = pd.to_numeric(oil['date'].str[8:10])\n",
        "oil['date_'] = (oil['year']*10000) + (oil['month']*100) + oil['day']\n",
        "\n",
        "\n",
        "oil = oil[oil['dcoilwtico'].notna()]"
      ],
      "execution_count": 16,
      "outputs": []
    },
    {
      "cell_type": "code",
      "metadata": {
        "id": "VhTSBafTGni4"
      },
      "source": [
        "# it takes around half-min\n",
        "\n",
        "all_data['oil_price'] = 0\n",
        "\n",
        "for idx, row in oil.iterrows():\n",
        "  all_data.loc[all_data['date_'] == row['date_'], 'oil_price'] = row['dcoilwtico']"
      ],
      "execution_count": 17,
      "outputs": []
    },
    {
      "cell_type": "code",
      "metadata": {
        "colab": {
          "base_uri": "https://localhost:8080/"
        },
        "id": "2LzY61T3NjJS",
        "outputId": "ca07ce9c-dd12-4375-e6c7-b08170374370"
      },
      "source": [
        "group_flag = 'year'\n",
        "\n",
        "col = all_data['year'].unique()\n",
        "col2 = all_data['month'].unique()\n",
        "\n",
        "gb = all_data.groupby(by=group_flag)\n",
        "\n",
        "\n",
        "for i in col:\n",
        "  all_data_ = gb.get_group(i).copy()\n",
        "\n",
        "  for j in col2:\n",
        "    sum = all_data_.loc[all_data_['month'] == j, 'oil_price'].sum()\n",
        "    cnt = all_data_.loc[all_data_['month'] == j, 'oil_price'].count()\n",
        "\n",
        "    all_data.loc[(all_data['oil_price'] == 0) & (all_data['year'] == i) & (all_data['month'] == j), 'oil_price'] = sum / cnt\n",
        "\n"
      ],
      "execution_count": 18,
      "outputs": [
        {
          "output_type": "stream",
          "name": "stderr",
          "text": [
            "/usr/local/lib/python3.7/dist-packages/ipykernel_launcher.py:16: RuntimeWarning: invalid value encountered in double_scalars\n",
            "  app.launch_new_instance()\n",
            "/usr/local/lib/python3.7/dist-packages/ipykernel_launcher.py:16: RuntimeWarning: invalid value encountered in double_scalars\n",
            "  app.launch_new_instance()\n",
            "/usr/local/lib/python3.7/dist-packages/ipykernel_launcher.py:16: RuntimeWarning: invalid value encountered in double_scalars\n",
            "  app.launch_new_instance()\n",
            "/usr/local/lib/python3.7/dist-packages/ipykernel_launcher.py:16: RuntimeWarning: invalid value encountered in double_scalars\n",
            "  app.launch_new_instance()\n"
          ]
        }
      ]
    },
    {
      "cell_type": "code",
      "metadata": {
        "colab": {
          "base_uri": "https://localhost:8080/",
          "height": 294
        },
        "id": "jv_1O5IHHbFe",
        "outputId": "e850a351-24f6-481d-ed59-27a68ad7c61b"
      },
      "source": [
        "all_data.describe()"
      ],
      "execution_count": 19,
      "outputs": [
        {
          "output_type": "execute_result",
          "data": {
            "text/html": [
              "<div>\n",
              "<style scoped>\n",
              "    .dataframe tbody tr th:only-of-type {\n",
              "        vertical-align: middle;\n",
              "    }\n",
              "\n",
              "    .dataframe tbody tr th {\n",
              "        vertical-align: top;\n",
              "    }\n",
              "\n",
              "    .dataframe thead th {\n",
              "        text-align: right;\n",
              "    }\n",
              "</style>\n",
              "<table border=\"1\" class=\"dataframe\">\n",
              "  <thead>\n",
              "    <tr style=\"text-align: right;\">\n",
              "      <th></th>\n",
              "      <th>id</th>\n",
              "      <th>store_nbr</th>\n",
              "      <th>sales</th>\n",
              "      <th>onpromotion</th>\n",
              "      <th>year</th>\n",
              "      <th>month</th>\n",
              "      <th>day</th>\n",
              "      <th>date_</th>\n",
              "      <th>transactions</th>\n",
              "      <th>family_value</th>\n",
              "      <th>oil_price</th>\n",
              "    </tr>\n",
              "  </thead>\n",
              "  <tbody>\n",
              "    <tr>\n",
              "      <th>count</th>\n",
              "      <td>3.029400e+06</td>\n",
              "      <td>3.029400e+06</td>\n",
              "      <td>3.000888e+06</td>\n",
              "      <td>3.029400e+06</td>\n",
              "      <td>3.029400e+06</td>\n",
              "      <td>3.029400e+06</td>\n",
              "      <td>3.029400e+06</td>\n",
              "      <td>3.029400e+06</td>\n",
              "      <td>3.029400e+06</td>\n",
              "      <td>2.773872e+06</td>\n",
              "      <td>3.029400e+06</td>\n",
              "    </tr>\n",
              "    <tr>\n",
              "      <th>mean</th>\n",
              "      <td>1.514700e+06</td>\n",
              "      <td>2.750000e+01</td>\n",
              "      <td>3.577757e+02</td>\n",
              "      <td>3.538980e+01</td>\n",
              "      <td>2.014858e+03</td>\n",
              "      <td>6.224706e+00</td>\n",
              "      <td>1.570412e+01</td>\n",
              "      <td>2.014922e+07</td>\n",
              "      <td>1.687701e+03</td>\n",
              "      <td>4.305747e+02</td>\n",
              "      <td>6.117558e+01</td>\n",
              "    </tr>\n",
              "    <tr>\n",
              "      <th>std</th>\n",
              "      <td>8.745126e+05</td>\n",
              "      <td>1.558579e+01</td>\n",
              "      <td>1.101998e+03</td>\n",
              "      <td>1.020395e+02</td>\n",
              "      <td>1.355346e+00</td>\n",
              "      <td>3.374138e+00</td>\n",
              "      <td>8.797600e+00</td>\n",
              "      <td>1.351257e+04</td>\n",
              "      <td>9.283779e+02</td>\n",
              "      <td>9.044406e+02</td>\n",
              "      <td>2.544930e+01</td>\n",
              "    </tr>\n",
              "    <tr>\n",
              "      <th>min</th>\n",
              "      <td>0.000000e+00</td>\n",
              "      <td>1.000000e+00</td>\n",
              "      <td>0.000000e+00</td>\n",
              "      <td>0.000000e+00</td>\n",
              "      <td>2.013000e+03</td>\n",
              "      <td>1.000000e+00</td>\n",
              "      <td>1.000000e+00</td>\n",
              "      <td>2.013010e+07</td>\n",
              "      <td>5.000000e+00</td>\n",
              "      <td>1.639904e+00</td>\n",
              "      <td>1.941871e+01</td>\n",
              "    </tr>\n",
              "    <tr>\n",
              "      <th>25%</th>\n",
              "      <td>7.573498e+05</td>\n",
              "      <td>1.400000e+01</td>\n",
              "      <td>0.000000e+00</td>\n",
              "      <td>0.000000e+00</td>\n",
              "      <td>2.014000e+03</td>\n",
              "      <td>3.000000e+00</td>\n",
              "      <td>8.000000e+00</td>\n",
              "      <td>2.014030e+07</td>\n",
              "      <td>1.069469e+03</td>\n",
              "      <td>8.564115e+00</td>\n",
              "      <td>4.252750e+01</td>\n",
              "    </tr>\n",
              "    <tr>\n",
              "      <th>50%</th>\n",
              "      <td>1.514700e+06</td>\n",
              "      <td>2.750000e+01</td>\n",
              "      <td>1.100000e+01</td>\n",
              "      <td>1.000000e+00</td>\n",
              "      <td>2.015000e+03</td>\n",
              "      <td>6.000000e+00</td>\n",
              "      <td>1.600000e+01</td>\n",
              "      <td>2.015050e+07</td>\n",
              "      <td>1.435000e+03</td>\n",
              "      <td>3.069819e+01</td>\n",
              "      <td>5.142500e+01</td>\n",
              "    </tr>\n",
              "    <tr>\n",
              "      <th>75%</th>\n",
              "      <td>2.272049e+06</td>\n",
              "      <td>4.100000e+01</td>\n",
              "      <td>1.958473e+02</td>\n",
              "      <td>1.600000e+01</td>\n",
              "      <td>2.016000e+03</td>\n",
              "      <td>9.000000e+00</td>\n",
              "      <td>2.300000e+01</td>\n",
              "      <td>2.016070e+07</td>\n",
              "      <td>1.993000e+03</td>\n",
              "      <td>3.646729e+02</td>\n",
              "      <td>9.126250e+01</td>\n",
              "    </tr>\n",
              "    <tr>\n",
              "      <th>max</th>\n",
              "      <td>3.029399e+06</td>\n",
              "      <td>5.400000e+01</td>\n",
              "      <td>1.247170e+05</td>\n",
              "      <td>1.277000e+03</td>\n",
              "      <td>2.017000e+03</td>\n",
              "      <td>1.200000e+01</td>\n",
              "      <td>3.100000e+01</td>\n",
              "      <td>2.017083e+07</td>\n",
              "      <td>8.359000e+03</td>\n",
              "      <td>4.723563e+03</td>\n",
              "      <td>1.106200e+02</td>\n",
              "    </tr>\n",
              "  </tbody>\n",
              "</table>\n",
              "</div>"
            ],
            "text/plain": [
              "                 id     store_nbr  ...  family_value     oil_price\n",
              "count  3.029400e+06  3.029400e+06  ...  2.773872e+06  3.029400e+06\n",
              "mean   1.514700e+06  2.750000e+01  ...  4.305747e+02  6.117558e+01\n",
              "std    8.745126e+05  1.558579e+01  ...  9.044406e+02  2.544930e+01\n",
              "min    0.000000e+00  1.000000e+00  ...  1.639904e+00  1.941871e+01\n",
              "25%    7.573498e+05  1.400000e+01  ...  8.564115e+00  4.252750e+01\n",
              "50%    1.514700e+06  2.750000e+01  ...  3.069819e+01  5.142500e+01\n",
              "75%    2.272049e+06  4.100000e+01  ...  3.646729e+02  9.126250e+01\n",
              "max    3.029399e+06  5.400000e+01  ...  4.723563e+03  1.106200e+02\n",
              "\n",
              "[8 rows x 11 columns]"
            ]
          },
          "metadata": {},
          "execution_count": 19
        }
      ]
    },
    {
      "cell_type": "code",
      "metadata": {
        "colab": {
          "base_uri": "https://localhost:8080/",
          "height": 638
        },
        "id": "JlX_k9Uwycmk",
        "outputId": "dbe093c5-df0a-49f9-802c-74f3c180152b"
      },
      "source": [
        "cormat = all_data.corr()\n",
        "cormat = cormat.index[abs(cormat['sales']) > 0]\n",
        "all_data[cormat].corr()"
      ],
      "execution_count": 20,
      "outputs": [
        {
          "output_type": "execute_result",
          "data": {
            "text/html": [
              "<div>\n",
              "<style scoped>\n",
              "    .dataframe tbody tr th:only-of-type {\n",
              "        vertical-align: middle;\n",
              "    }\n",
              "\n",
              "    .dataframe tbody tr th {\n",
              "        vertical-align: top;\n",
              "    }\n",
              "\n",
              "    .dataframe thead th {\n",
              "        text-align: right;\n",
              "    }\n",
              "</style>\n",
              "<table border=\"1\" class=\"dataframe\">\n",
              "  <thead>\n",
              "    <tr style=\"text-align: right;\">\n",
              "      <th></th>\n",
              "      <th>id</th>\n",
              "      <th>store_nbr</th>\n",
              "      <th>sales</th>\n",
              "      <th>onpromotion</th>\n",
              "      <th>year</th>\n",
              "      <th>month</th>\n",
              "      <th>day</th>\n",
              "      <th>date_</th>\n",
              "      <th>transactions</th>\n",
              "      <th>family_value</th>\n",
              "      <th>isHoliday</th>\n",
              "      <th>oil_price</th>\n",
              "    </tr>\n",
              "  </thead>\n",
              "  <tbody>\n",
              "    <tr>\n",
              "      <th>id</th>\n",
              "      <td>1.000000</td>\n",
              "      <td>2.984948e-04</td>\n",
              "      <td>0.085784</td>\n",
              "      <td>0.217817</td>\n",
              "      <td>9.780918e-01</td>\n",
              "      <td>7.497339e-02</td>\n",
              "      <td>2.029427e-02</td>\n",
              "      <td>9.829371e-01</td>\n",
              "      <td>-0.027479</td>\n",
              "      <td>3.904830e-02</td>\n",
              "      <td>4.068479e-02</td>\n",
              "      <td>-7.620231e-01</td>\n",
              "    </tr>\n",
              "    <tr>\n",
              "      <th>store_nbr</th>\n",
              "      <td>0.000298</td>\n",
              "      <td>1.000000e+00</td>\n",
              "      <td>0.041196</td>\n",
              "      <td>0.002359</td>\n",
              "      <td>2.332439e-13</td>\n",
              "      <td>1.727664e-14</td>\n",
              "      <td>-2.137703e-14</td>\n",
              "      <td>6.252647e-14</td>\n",
              "      <td>0.180463</td>\n",
              "      <td>-1.869935e-16</td>\n",
              "      <td>-5.799331e-15</td>\n",
              "      <td>9.404365e-15</td>\n",
              "    </tr>\n",
              "    <tr>\n",
              "      <th>sales</th>\n",
              "      <td>0.085784</td>\n",
              "      <td>4.119605e-02</td>\n",
              "      <td>1.000000</td>\n",
              "      <td>0.755648</td>\n",
              "      <td>8.109275e-02</td>\n",
              "      <td>1.978967e-02</td>\n",
              "      <td>-1.188702e-02</td>\n",
              "      <td>8.185325e-02</td>\n",
              "      <td>0.214843</td>\n",
              "      <td>7.313260e-01</td>\n",
              "      <td>1.214959e-02</td>\n",
              "      <td>-8.550749e-02</td>\n",
              "    </tr>\n",
              "    <tr>\n",
              "      <th>onpromotion</th>\n",
              "      <td>0.217817</td>\n",
              "      <td>2.358618e-03</td>\n",
              "      <td>0.755648</td>\n",
              "      <td>1.000000</td>\n",
              "      <td>2.096830e-01</td>\n",
              "      <td>3.245951e-02</td>\n",
              "      <td>4.929654e-03</td>\n",
              "      <td>2.111313e-01</td>\n",
              "      <td>0.067396</td>\n",
              "      <td>8.003703e-01</td>\n",
              "      <td>1.235057e-02</td>\n",
              "      <td>-1.785673e-01</td>\n",
              "    </tr>\n",
              "    <tr>\n",
              "      <th>year</th>\n",
              "      <td>0.978092</td>\n",
              "      <td>2.332439e-13</td>\n",
              "      <td>0.081093</td>\n",
              "      <td>0.209683</td>\n",
              "      <td>1.000000e+00</td>\n",
              "      <td>-1.334969e-01</td>\n",
              "      <td>9.714814e-04</td>\n",
              "      <td>9.996934e-01</td>\n",
              "      <td>-0.035294</td>\n",
              "      <td>4.002995e-02</td>\n",
              "      <td>1.690913e-02</td>\n",
              "      <td>-7.617620e-01</td>\n",
              "    </tr>\n",
              "    <tr>\n",
              "      <th>month</th>\n",
              "      <td>0.074973</td>\n",
              "      <td>1.727664e-14</td>\n",
              "      <td>0.019790</td>\n",
              "      <td>0.032460</td>\n",
              "      <td>-1.334969e-01</td>\n",
              "      <td>1.000000e+00</td>\n",
              "      <td>7.035349e-03</td>\n",
              "      <td>-1.089259e-01</td>\n",
              "      <td>0.039132</td>\n",
              "      <td>-5.829734e-03</td>\n",
              "      <td>1.195910e-01</td>\n",
              "      <td>2.088600e-02</td>\n",
              "    </tr>\n",
              "    <tr>\n",
              "      <th>day</th>\n",
              "      <td>0.020294</td>\n",
              "      <td>-2.137703e-14</td>\n",
              "      <td>-0.011887</td>\n",
              "      <td>0.004930</td>\n",
              "      <td>9.714814e-04</td>\n",
              "      <td>7.035349e-03</td>\n",
              "      <td>1.000000e+00</td>\n",
              "      <td>1.801165e-03</td>\n",
              "      <td>-0.019434</td>\n",
              "      <td>4.002206e-05</td>\n",
              "      <td>-7.122672e-02</td>\n",
              "      <td>-3.040164e-03</td>\n",
              "    </tr>\n",
              "    <tr>\n",
              "      <th>date_</th>\n",
              "      <td>0.982937</td>\n",
              "      <td>6.252647e-14</td>\n",
              "      <td>0.081853</td>\n",
              "      <td>0.211131</td>\n",
              "      <td>9.996934e-01</td>\n",
              "      <td>-1.089259e-01</td>\n",
              "      <td>1.801165e-03</td>\n",
              "      <td>1.000000e+00</td>\n",
              "      <td>-0.034437</td>\n",
              "      <td>4.001187e-02</td>\n",
              "      <td>1.990016e-02</td>\n",
              "      <td>-7.635477e-01</td>\n",
              "    </tr>\n",
              "    <tr>\n",
              "      <th>transactions</th>\n",
              "      <td>-0.027479</td>\n",
              "      <td>1.804627e-01</td>\n",
              "      <td>0.214843</td>\n",
              "      <td>0.067396</td>\n",
              "      <td>-3.529432e-02</td>\n",
              "      <td>3.913153e-02</td>\n",
              "      <td>-1.943352e-02</td>\n",
              "      <td>-3.443666e-02</td>\n",
              "      <td>1.000000</td>\n",
              "      <td>-1.471078e-03</td>\n",
              "      <td>4.238282e-02</td>\n",
              "      <td>-2.015575e-02</td>\n",
              "    </tr>\n",
              "    <tr>\n",
              "      <th>family_value</th>\n",
              "      <td>0.039048</td>\n",
              "      <td>-1.869935e-16</td>\n",
              "      <td>0.731326</td>\n",
              "      <td>0.800370</td>\n",
              "      <td>4.002995e-02</td>\n",
              "      <td>-5.829734e-03</td>\n",
              "      <td>4.002206e-05</td>\n",
              "      <td>4.001187e-02</td>\n",
              "      <td>-0.001471</td>\n",
              "      <td>1.000000e+00</td>\n",
              "      <td>3.977631e-04</td>\n",
              "      <td>-2.951015e-02</td>\n",
              "    </tr>\n",
              "    <tr>\n",
              "      <th>isHoliday</th>\n",
              "      <td>0.040685</td>\n",
              "      <td>-5.799331e-15</td>\n",
              "      <td>0.012150</td>\n",
              "      <td>0.012351</td>\n",
              "      <td>1.690913e-02</td>\n",
              "      <td>1.195910e-01</td>\n",
              "      <td>-7.122672e-02</td>\n",
              "      <td>1.990016e-02</td>\n",
              "      <td>0.042383</td>\n",
              "      <td>3.977631e-04</td>\n",
              "      <td>1.000000e+00</td>\n",
              "      <td>-4.214206e-02</td>\n",
              "    </tr>\n",
              "    <tr>\n",
              "      <th>oil_price</th>\n",
              "      <td>-0.762023</td>\n",
              "      <td>9.404365e-15</td>\n",
              "      <td>-0.085507</td>\n",
              "      <td>-0.178567</td>\n",
              "      <td>-7.617620e-01</td>\n",
              "      <td>2.088600e-02</td>\n",
              "      <td>-3.040164e-03</td>\n",
              "      <td>-7.635477e-01</td>\n",
              "      <td>-0.020156</td>\n",
              "      <td>-2.951015e-02</td>\n",
              "      <td>-4.214206e-02</td>\n",
              "      <td>1.000000e+00</td>\n",
              "    </tr>\n",
              "  </tbody>\n",
              "</table>\n",
              "</div>"
            ],
            "text/plain": [
              "                    id     store_nbr  ...     isHoliday     oil_price\n",
              "id            1.000000  2.984948e-04  ...  4.068479e-02 -7.620231e-01\n",
              "store_nbr     0.000298  1.000000e+00  ... -5.799331e-15  9.404365e-15\n",
              "sales         0.085784  4.119605e-02  ...  1.214959e-02 -8.550749e-02\n",
              "onpromotion   0.217817  2.358618e-03  ...  1.235057e-02 -1.785673e-01\n",
              "year          0.978092  2.332439e-13  ...  1.690913e-02 -7.617620e-01\n",
              "month         0.074973  1.727664e-14  ...  1.195910e-01  2.088600e-02\n",
              "day           0.020294 -2.137703e-14  ... -7.122672e-02 -3.040164e-03\n",
              "date_         0.982937  6.252647e-14  ...  1.990016e-02 -7.635477e-01\n",
              "transactions -0.027479  1.804627e-01  ...  4.238282e-02 -2.015575e-02\n",
              "family_value  0.039048 -1.869935e-16  ...  3.977631e-04 -2.951015e-02\n",
              "isHoliday     0.040685 -5.799331e-15  ...  1.000000e+00 -4.214206e-02\n",
              "oil_price    -0.762023  9.404365e-15  ... -4.214206e-02  1.000000e+00\n",
              "\n",
              "[12 rows x 12 columns]"
            ]
          },
          "metadata": {},
          "execution_count": 20
        }
      ]
    },
    {
      "cell_type": "code",
      "metadata": {
        "colab": {
          "base_uri": "https://localhost:8080/",
          "height": 202
        },
        "id": "ackQ6MyZ6EUJ",
        "outputId": "29bc715a-05b3-48d1-f067-c06f0a4adb7c"
      },
      "source": [
        "all_data.head()"
      ],
      "execution_count": 21,
      "outputs": [
        {
          "output_type": "execute_result",
          "data": {
            "text/html": [
              "<div>\n",
              "<style scoped>\n",
              "    .dataframe tbody tr th:only-of-type {\n",
              "        vertical-align: middle;\n",
              "    }\n",
              "\n",
              "    .dataframe tbody tr th {\n",
              "        vertical-align: top;\n",
              "    }\n",
              "\n",
              "    .dataframe thead th {\n",
              "        text-align: right;\n",
              "    }\n",
              "</style>\n",
              "<table border=\"1\" class=\"dataframe\">\n",
              "  <thead>\n",
              "    <tr style=\"text-align: right;\">\n",
              "      <th></th>\n",
              "      <th>id</th>\n",
              "      <th>date</th>\n",
              "      <th>store_nbr</th>\n",
              "      <th>family</th>\n",
              "      <th>sales</th>\n",
              "      <th>onpromotion</th>\n",
              "      <th>year</th>\n",
              "      <th>month</th>\n",
              "      <th>day</th>\n",
              "      <th>date_</th>\n",
              "      <th>transactions</th>\n",
              "      <th>family_value</th>\n",
              "      <th>isHoliday</th>\n",
              "      <th>oil_price</th>\n",
              "    </tr>\n",
              "  </thead>\n",
              "  <tbody>\n",
              "    <tr>\n",
              "      <th>561</th>\n",
              "      <td>561</td>\n",
              "      <td>2013-01-01</td>\n",
              "      <td>25</td>\n",
              "      <td>AUTOMOTIVE</td>\n",
              "      <td>0.0</td>\n",
              "      <td>0.0</td>\n",
              "      <td>2013</td>\n",
              "      <td>1</td>\n",
              "      <td>1</td>\n",
              "      <td>20130101</td>\n",
              "      <td>770.0</td>\n",
              "      <td>5.947114</td>\n",
              "      <td>True</td>\n",
              "      <td>64.19</td>\n",
              "    </tr>\n",
              "    <tr>\n",
              "      <th>562</th>\n",
              "      <td>562</td>\n",
              "      <td>2013-01-01</td>\n",
              "      <td>25</td>\n",
              "      <td>BABY CARE</td>\n",
              "      <td>0.0</td>\n",
              "      <td>0.0</td>\n",
              "      <td>2013</td>\n",
              "      <td>1</td>\n",
              "      <td>1</td>\n",
              "      <td>20130101</td>\n",
              "      <td>770.0</td>\n",
              "      <td>NaN</td>\n",
              "      <td>True</td>\n",
              "      <td>64.19</td>\n",
              "    </tr>\n",
              "    <tr>\n",
              "      <th>563</th>\n",
              "      <td>563</td>\n",
              "      <td>2013-01-01</td>\n",
              "      <td>25</td>\n",
              "      <td>BEAUTY</td>\n",
              "      <td>2.0</td>\n",
              "      <td>0.0</td>\n",
              "      <td>2013</td>\n",
              "      <td>1</td>\n",
              "      <td>1</td>\n",
              "      <td>20130101</td>\n",
              "      <td>770.0</td>\n",
              "      <td>3.660048</td>\n",
              "      <td>True</td>\n",
              "      <td>64.19</td>\n",
              "    </tr>\n",
              "    <tr>\n",
              "      <th>564</th>\n",
              "      <td>564</td>\n",
              "      <td>2013-01-01</td>\n",
              "      <td>25</td>\n",
              "      <td>BEVERAGES</td>\n",
              "      <td>810.0</td>\n",
              "      <td>0.0</td>\n",
              "      <td>2013</td>\n",
              "      <td>1</td>\n",
              "      <td>1</td>\n",
              "      <td>20130101</td>\n",
              "      <td>770.0</td>\n",
              "      <td>1287.717597</td>\n",
              "      <td>True</td>\n",
              "      <td>64.19</td>\n",
              "    </tr>\n",
              "    <tr>\n",
              "      <th>565</th>\n",
              "      <td>565</td>\n",
              "      <td>2013-01-01</td>\n",
              "      <td>25</td>\n",
              "      <td>BOOKS</td>\n",
              "      <td>0.0</td>\n",
              "      <td>0.0</td>\n",
              "      <td>2013</td>\n",
              "      <td>1</td>\n",
              "      <td>1</td>\n",
              "      <td>20130101</td>\n",
              "      <td>770.0</td>\n",
              "      <td>NaN</td>\n",
              "      <td>True</td>\n",
              "      <td>64.19</td>\n",
              "    </tr>\n",
              "  </tbody>\n",
              "</table>\n",
              "</div>"
            ],
            "text/plain": [
              "      id        date  store_nbr  ... family_value  isHoliday  oil_price\n",
              "561  561  2013-01-01         25  ...     5.947114       True      64.19\n",
              "562  562  2013-01-01         25  ...          NaN       True      64.19\n",
              "563  563  2013-01-01         25  ...     3.660048       True      64.19\n",
              "564  564  2013-01-01         25  ...  1287.717597       True      64.19\n",
              "565  565  2013-01-01         25  ...          NaN       True      64.19\n",
              "\n",
              "[5 rows x 14 columns]"
            ]
          },
          "metadata": {},
          "execution_count": 21
        }
      ]
    },
    {
      "cell_type": "code",
      "metadata": {
        "id": "pKZRY2tJBeSf"
      },
      "source": [
        "save_point = all_data\n",
        "save_point.to_csv('/content/drive/MyDrive/Colab Notebooks/StoreSales/save_point.csv')"
      ],
      "execution_count": null,
      "outputs": []
    },
    {
      "cell_type": "code",
      "metadata": {
        "id": "JdDEIUBkHEPc"
      },
      "source": [
        "save_point = pd.read_csv('/content/drive/MyDrive/Colab Notebooks/StoreSales/save_point.csv')"
      ],
      "execution_count": null,
      "outputs": []
    },
    {
      "cell_type": "code",
      "metadata": {
        "id": "G4xbzAtrBea5"
      },
      "source": [
        "all_data = save_point"
      ],
      "execution_count": null,
      "outputs": []
    },
    {
      "cell_type": "code",
      "metadata": {
        "colab": {
          "base_uri": "https://localhost:8080/"
        },
        "id": "I2-V8ffCKksR",
        "outputId": "aa996565-fa5c-4b29-86bb-b22f373f54fa"
      },
      "source": [
        "# separate object data and non-object data\n",
        "\n",
        "data_object = all_data.select_dtypes(include=object)\n",
        "data_non_object = all_data.select_dtypes(exclude=object)\n",
        "\n",
        "print(data_object.columns)\n",
        "print(data_non_object.columns)"
      ],
      "execution_count": null,
      "outputs": [
        {
          "output_type": "stream",
          "name": "stdout",
          "text": [
            "Index(['date', 'family', 'idx'], dtype='object')\n",
            "Index(['Unnamed: 0', 'id', 'store_nbr', 'sales', 'onpromotion', 'isHoliday',\n",
            "       'oil_price', 'transactions', 'year', 'month', 'day', 'date_'],\n",
            "      dtype='object')\n"
          ]
        }
      ]
    },
    {
      "cell_type": "code",
      "metadata": {
        "id": "YN4hM-CZ8Yg_"
      },
      "source": [
        "all_data_index = all_data.index\n",
        "\n",
        "dummy_data = pd.get_dummies(data_object.drop(['date'], axis=1), drop_first=True)\n",
        "dummy_data.index = all_data_index"
      ],
      "execution_count": null,
      "outputs": []
    },
    {
      "cell_type": "code",
      "metadata": {
        "id": "vYAhZc-7_HVi",
        "colab": {
          "base_uri": "https://localhost:8080/",
          "height": 161
        },
        "outputId": "634fe3b3-6d3c-4c57-ec10-e12e018ea7f1"
      },
      "source": [
        "all_data = pd.merge(dummy_data, data_non_object, right_index=True, left_index=True)"
      ],
      "execution_count": null,
      "outputs": [
        {
          "output_type": "error",
          "ename": "NameError",
          "evalue": "ignored",
          "traceback": [
            "\u001b[0;31m---------------------------------------------------------------------------\u001b[0m",
            "\u001b[0;31mNameError\u001b[0m                                 Traceback (most recent call last)",
            "\u001b[0;32m<ipython-input-1-c893c61ddafe>\u001b[0m in \u001b[0;36m<module>\u001b[0;34m()\u001b[0m\n\u001b[0;32m----> 1\u001b[0;31m \u001b[0mall_data\u001b[0m \u001b[0;34m=\u001b[0m \u001b[0mpd\u001b[0m\u001b[0;34m.\u001b[0m\u001b[0mmerge\u001b[0m\u001b[0;34m(\u001b[0m\u001b[0mdummy_data\u001b[0m\u001b[0;34m,\u001b[0m \u001b[0mdata_non_object\u001b[0m\u001b[0;34m,\u001b[0m \u001b[0mright_index\u001b[0m\u001b[0;34m=\u001b[0m\u001b[0;32mTrue\u001b[0m\u001b[0;34m,\u001b[0m \u001b[0mleft_index\u001b[0m\u001b[0;34m=\u001b[0m\u001b[0;32mTrue\u001b[0m\u001b[0;34m)\u001b[0m\u001b[0;34m\u001b[0m\u001b[0;34m\u001b[0m\u001b[0m\n\u001b[0m",
            "\u001b[0;31mNameError\u001b[0m: name 'pd' is not defined"
          ]
        }
      ]
    },
    {
      "cell_type": "code",
      "metadata": {
        "id": "NS-K3-1PClpc",
        "colab": {
          "base_uri": "https://localhost:8080/",
          "height": 202
        },
        "outputId": "8af81eae-e5e2-44d8-b494-fcb3003a112f"
      },
      "source": [
        "nTrain = len(train)\n",
        "train = all_data[:nTrain]\n",
        "test = all_data[nTrain:]\n",
        "\n",
        "all_data.head()"
      ],
      "execution_count": 22,
      "outputs": [
        {
          "output_type": "execute_result",
          "data": {
            "text/html": [
              "<div>\n",
              "<style scoped>\n",
              "    .dataframe tbody tr th:only-of-type {\n",
              "        vertical-align: middle;\n",
              "    }\n",
              "\n",
              "    .dataframe tbody tr th {\n",
              "        vertical-align: top;\n",
              "    }\n",
              "\n",
              "    .dataframe thead th {\n",
              "        text-align: right;\n",
              "    }\n",
              "</style>\n",
              "<table border=\"1\" class=\"dataframe\">\n",
              "  <thead>\n",
              "    <tr style=\"text-align: right;\">\n",
              "      <th></th>\n",
              "      <th>id</th>\n",
              "      <th>date</th>\n",
              "      <th>store_nbr</th>\n",
              "      <th>family</th>\n",
              "      <th>sales</th>\n",
              "      <th>onpromotion</th>\n",
              "      <th>year</th>\n",
              "      <th>month</th>\n",
              "      <th>day</th>\n",
              "      <th>date_</th>\n",
              "      <th>transactions</th>\n",
              "      <th>family_value</th>\n",
              "      <th>isHoliday</th>\n",
              "      <th>oil_price</th>\n",
              "    </tr>\n",
              "  </thead>\n",
              "  <tbody>\n",
              "    <tr>\n",
              "      <th>561</th>\n",
              "      <td>561</td>\n",
              "      <td>2013-01-01</td>\n",
              "      <td>25</td>\n",
              "      <td>AUTOMOTIVE</td>\n",
              "      <td>0.0</td>\n",
              "      <td>0.0</td>\n",
              "      <td>2013</td>\n",
              "      <td>1</td>\n",
              "      <td>1</td>\n",
              "      <td>20130101</td>\n",
              "      <td>770.0</td>\n",
              "      <td>5.947114</td>\n",
              "      <td>True</td>\n",
              "      <td>64.19</td>\n",
              "    </tr>\n",
              "    <tr>\n",
              "      <th>562</th>\n",
              "      <td>562</td>\n",
              "      <td>2013-01-01</td>\n",
              "      <td>25</td>\n",
              "      <td>BABY CARE</td>\n",
              "      <td>0.0</td>\n",
              "      <td>0.0</td>\n",
              "      <td>2013</td>\n",
              "      <td>1</td>\n",
              "      <td>1</td>\n",
              "      <td>20130101</td>\n",
              "      <td>770.0</td>\n",
              "      <td>NaN</td>\n",
              "      <td>True</td>\n",
              "      <td>64.19</td>\n",
              "    </tr>\n",
              "    <tr>\n",
              "      <th>563</th>\n",
              "      <td>563</td>\n",
              "      <td>2013-01-01</td>\n",
              "      <td>25</td>\n",
              "      <td>BEAUTY</td>\n",
              "      <td>2.0</td>\n",
              "      <td>0.0</td>\n",
              "      <td>2013</td>\n",
              "      <td>1</td>\n",
              "      <td>1</td>\n",
              "      <td>20130101</td>\n",
              "      <td>770.0</td>\n",
              "      <td>3.660048</td>\n",
              "      <td>True</td>\n",
              "      <td>64.19</td>\n",
              "    </tr>\n",
              "    <tr>\n",
              "      <th>564</th>\n",
              "      <td>564</td>\n",
              "      <td>2013-01-01</td>\n",
              "      <td>25</td>\n",
              "      <td>BEVERAGES</td>\n",
              "      <td>810.0</td>\n",
              "      <td>0.0</td>\n",
              "      <td>2013</td>\n",
              "      <td>1</td>\n",
              "      <td>1</td>\n",
              "      <td>20130101</td>\n",
              "      <td>770.0</td>\n",
              "      <td>1287.717597</td>\n",
              "      <td>True</td>\n",
              "      <td>64.19</td>\n",
              "    </tr>\n",
              "    <tr>\n",
              "      <th>565</th>\n",
              "      <td>565</td>\n",
              "      <td>2013-01-01</td>\n",
              "      <td>25</td>\n",
              "      <td>BOOKS</td>\n",
              "      <td>0.0</td>\n",
              "      <td>0.0</td>\n",
              "      <td>2013</td>\n",
              "      <td>1</td>\n",
              "      <td>1</td>\n",
              "      <td>20130101</td>\n",
              "      <td>770.0</td>\n",
              "      <td>NaN</td>\n",
              "      <td>True</td>\n",
              "      <td>64.19</td>\n",
              "    </tr>\n",
              "  </tbody>\n",
              "</table>\n",
              "</div>"
            ],
            "text/plain": [
              "      id        date  store_nbr  ... family_value  isHoliday  oil_price\n",
              "561  561  2013-01-01         25  ...     5.947114       True      64.19\n",
              "562  562  2013-01-01         25  ...          NaN       True      64.19\n",
              "563  563  2013-01-01         25  ...     3.660048       True      64.19\n",
              "564  564  2013-01-01         25  ...  1287.717597       True      64.19\n",
              "565  565  2013-01-01         25  ...          NaN       True      64.19\n",
              "\n",
              "[5 rows x 14 columns]"
            ]
          },
          "metadata": {},
          "execution_count": 22
        }
      ]
    },
    {
      "cell_type": "code",
      "metadata": {
        "colab": {
          "base_uri": "https://localhost:8080/"
        },
        "id": "cQYG26DLKkOU",
        "outputId": "e8a85548-47c5-4c63-9821-17ebc76c01b6"
      },
      "source": [
        "all_data.columns"
      ],
      "execution_count": 23,
      "outputs": [
        {
          "output_type": "execute_result",
          "data": {
            "text/plain": [
              "Index(['id', 'date', 'store_nbr', 'family', 'sales', 'onpromotion', 'year',\n",
              "       'month', 'day', 'date_', 'transactions', 'family_value', 'isHoliday',\n",
              "       'oil_price'],\n",
              "      dtype='object')"
            ]
          },
          "metadata": {},
          "execution_count": 23
        }
      ]
    },
    {
      "cell_type": "code",
      "metadata": {
        "id": "ecub1L0Tir2k",
        "colab": {
          "base_uri": "https://localhost:8080/"
        },
        "outputId": "45b4f62a-fa12-4962-bdeb-90f2d987406b"
      },
      "source": [
        "col_x = ['store_nbr', 'onpromotion', 'year',\n",
        "       'month', 'day', 'date_', 'transactions', 'family_value', 'isHoliday',\n",
        "       'oil_price']\n",
        "col_y = 'sales'\n",
        "\n",
        "col_x"
      ],
      "execution_count": 28,
      "outputs": [
        {
          "output_type": "execute_result",
          "data": {
            "text/plain": [
              "['store_nbr',\n",
              " 'onpromotion',\n",
              " 'year',\n",
              " 'month',\n",
              " 'day',\n",
              " 'date_',\n",
              " 'transactions',\n",
              " 'family_value',\n",
              " 'isHoliday',\n",
              " 'oil_price']"
            ]
          },
          "metadata": {},
          "execution_count": 28
        }
      ]
    },
    {
      "cell_type": "code",
      "metadata": {
        "colab": {
          "base_uri": "https://localhost:8080/"
        },
        "id": "XLeXKsqJ3Fd0",
        "outputId": "e6959cfe-96b4-44be-dc4b-6c4ce7257d64"
      },
      "source": [
        "cormat = all_data.corr()\n",
        "\n",
        "dump = cormat.index[abs(cormat['sales']) >= 0.1]\n",
        "dump"
      ],
      "execution_count": 55,
      "outputs": [
        {
          "output_type": "execute_result",
          "data": {
            "text/plain": [
              "Index(['sales', 'onpromotion', 'transactions', 'family_value'], dtype='object')"
            ]
          },
          "metadata": {},
          "execution_count": 55
        }
      ]
    },
    {
      "cell_type": "code",
      "metadata": {
        "id": "tV8C0iQxDhs9"
      },
      "source": [
        "from sklearn.model_selection import train_test_split\n",
        "\n",
        "train_x = train[col_x]\n",
        "#train_y = train['sales']\n",
        "train_y = np.log1p(train['sales'])\n",
        "\n",
        "train_x, val_x, train_y, val_y = train_test_split(train_x, train_y, test_size=0.2, shuffle=True)\n",
        "\n",
        "test_id_idx = test.index\n",
        "\n",
        "test_x = test[col_x]"
      ],
      "execution_count": 35,
      "outputs": []
    },
    {
      "cell_type": "code",
      "metadata": {
        "colab": {
          "base_uri": "https://localhost:8080/"
        },
        "id": "40u3i1zXjqax",
        "outputId": "b9b8f7b5-4422-4ddd-e838-991c1f1c5ff2"
      },
      "source": [
        "from sklearn.model_selection import GridSearchCV\n",
        "from xgboost import XGBRegressor\n",
        "\n",
        "xgb = XGBRegressor(randome_state = 37)\n",
        "xgb.fit(train_x, train_y)\n",
        "#train_x.dtypes"
      ],
      "execution_count": 36,
      "outputs": [
        {
          "output_type": "stream",
          "name": "stdout",
          "text": [
            "[07:56:09] WARNING: /workspace/src/objective/regression_obj.cu:152: reg:linear is now deprecated in favor of reg:squarederror.\n"
          ]
        },
        {
          "output_type": "execute_result",
          "data": {
            "text/plain": [
              "XGBRegressor(base_score=0.5, booster='gbtree', colsample_bylevel=1,\n",
              "             colsample_bynode=1, colsample_bytree=1, gamma=0,\n",
              "             importance_type='gain', learning_rate=0.1, max_delta_step=0,\n",
              "             max_depth=3, min_child_weight=1, missing=None, n_estimators=100,\n",
              "             n_jobs=1, nthread=None, objective='reg:linear', random_state=0,\n",
              "             randome_state=37, reg_alpha=0, reg_lambda=1, scale_pos_weight=1,\n",
              "             seed=None, silent=None, subsample=1, verbosity=1)"
            ]
          },
          "metadata": {},
          "execution_count": 36
        }
      ]
    },
    {
      "cell_type": "code",
      "metadata": {
        "colab": {
          "base_uri": "https://localhost:8080/",
          "height": 369
        },
        "id": "4r8Gue9cELDr",
        "outputId": "a5f8c8ac-938f-4e7f-a60d-c76662713828"
      },
      "source": [
        "param = {\n",
        "    'max_depth':[2,3,4],\n",
        "    'n_estimators':range(550,700,50),\n",
        "    'colsample_bytree':[0.5,0.7,1],\n",
        "    'colsample_bylevel':[0.5,0.7,1],\n",
        "}\n",
        "grid_search = GridSearchCV(estimator=xgb, param_grid=param, cv=2, \n",
        "                           scoring='neg_mean_squared_error',\n",
        "                           n_jobs=-1)\n",
        "\n",
        "#print(train_x.dtypes)\n",
        "#print(train_y.dtypes)\n",
        "\n",
        "grid_search.fit(train_x, train_y)\n",
        "print(grid_search.best_params_)\n",
        "print(grid_search.best_estimator_)"
      ],
      "execution_count": null,
      "outputs": [
        {
          "output_type": "error",
          "ename": "KeyboardInterrupt",
          "evalue": "ignored",
          "traceback": [
            "\u001b[0;31m---------------------------------------------------------------------------\u001b[0m",
            "\u001b[0;31mKeyboardInterrupt\u001b[0m                         Traceback (most recent call last)",
            "\u001b[0;32m<ipython-input-14-291769fcd7d0>\u001b[0m in \u001b[0;36m<module>\u001b[0;34m()\u001b[0m\n\u001b[1;32m     17\u001b[0m \u001b[0;31m#print(train_y.dtypes)\u001b[0m\u001b[0;34m\u001b[0m\u001b[0;34m\u001b[0m\u001b[0;34m\u001b[0m\u001b[0m\n\u001b[1;32m     18\u001b[0m \u001b[0;34m\u001b[0m\u001b[0m\n\u001b[0;32m---> 19\u001b[0;31m \u001b[0mgrid_search\u001b[0m\u001b[0;34m.\u001b[0m\u001b[0mfit\u001b[0m\u001b[0;34m(\u001b[0m\u001b[0mtrain_x\u001b[0m\u001b[0;34m,\u001b[0m \u001b[0mtrain_y\u001b[0m\u001b[0;34m)\u001b[0m\u001b[0;34m\u001b[0m\u001b[0;34m\u001b[0m\u001b[0m\n\u001b[0m\u001b[1;32m     20\u001b[0m \u001b[0mprint\u001b[0m\u001b[0;34m(\u001b[0m\u001b[0mgrid_search\u001b[0m\u001b[0;34m.\u001b[0m\u001b[0mbest_params_\u001b[0m\u001b[0;34m)\u001b[0m\u001b[0;34m\u001b[0m\u001b[0;34m\u001b[0m\u001b[0m\n\u001b[1;32m     21\u001b[0m \u001b[0mprint\u001b[0m\u001b[0;34m(\u001b[0m\u001b[0mgrid_search\u001b[0m\u001b[0;34m.\u001b[0m\u001b[0mbest_estimator_\u001b[0m\u001b[0;34m)\u001b[0m\u001b[0;34m\u001b[0m\u001b[0;34m\u001b[0m\u001b[0m\n",
            "\u001b[0;32m/usr/local/lib/python3.7/dist-packages/sklearn/model_selection/_search.py\u001b[0m in \u001b[0;36mfit\u001b[0;34m(self, X, y, groups, **fit_params)\u001b[0m\n\u001b[1;32m    708\u001b[0m                 \u001b[0;32mreturn\u001b[0m \u001b[0mresults\u001b[0m\u001b[0;34m\u001b[0m\u001b[0;34m\u001b[0m\u001b[0m\n\u001b[1;32m    709\u001b[0m \u001b[0;34m\u001b[0m\u001b[0m\n\u001b[0;32m--> 710\u001b[0;31m             \u001b[0mself\u001b[0m\u001b[0;34m.\u001b[0m\u001b[0m_run_search\u001b[0m\u001b[0;34m(\u001b[0m\u001b[0mevaluate_candidates\u001b[0m\u001b[0;34m)\u001b[0m\u001b[0;34m\u001b[0m\u001b[0;34m\u001b[0m\u001b[0m\n\u001b[0m\u001b[1;32m    711\u001b[0m \u001b[0;34m\u001b[0m\u001b[0m\n\u001b[1;32m    712\u001b[0m         \u001b[0;31m# For multi-metric evaluation, store the best_index_, best_params_ and\u001b[0m\u001b[0;34m\u001b[0m\u001b[0;34m\u001b[0m\u001b[0;34m\u001b[0m\u001b[0m\n",
            "\u001b[0;32m/usr/local/lib/python3.7/dist-packages/sklearn/model_selection/_search.py\u001b[0m in \u001b[0;36m_run_search\u001b[0;34m(self, evaluate_candidates)\u001b[0m\n\u001b[1;32m   1149\u001b[0m     \u001b[0;32mdef\u001b[0m \u001b[0m_run_search\u001b[0m\u001b[0;34m(\u001b[0m\u001b[0mself\u001b[0m\u001b[0;34m,\u001b[0m \u001b[0mevaluate_candidates\u001b[0m\u001b[0;34m)\u001b[0m\u001b[0;34m:\u001b[0m\u001b[0;34m\u001b[0m\u001b[0;34m\u001b[0m\u001b[0m\n\u001b[1;32m   1150\u001b[0m         \u001b[0;34m\"\"\"Search all candidates in param_grid\"\"\"\u001b[0m\u001b[0;34m\u001b[0m\u001b[0;34m\u001b[0m\u001b[0m\n\u001b[0;32m-> 1151\u001b[0;31m         \u001b[0mevaluate_candidates\u001b[0m\u001b[0;34m(\u001b[0m\u001b[0mParameterGrid\u001b[0m\u001b[0;34m(\u001b[0m\u001b[0mself\u001b[0m\u001b[0;34m.\u001b[0m\u001b[0mparam_grid\u001b[0m\u001b[0;34m)\u001b[0m\u001b[0;34m)\u001b[0m\u001b[0;34m\u001b[0m\u001b[0;34m\u001b[0m\u001b[0m\n\u001b[0m\u001b[1;32m   1152\u001b[0m \u001b[0;34m\u001b[0m\u001b[0m\n\u001b[1;32m   1153\u001b[0m \u001b[0;34m\u001b[0m\u001b[0m\n",
            "\u001b[0;32m/usr/local/lib/python3.7/dist-packages/sklearn/model_selection/_search.py\u001b[0m in \u001b[0;36mevaluate_candidates\u001b[0;34m(candidate_params)\u001b[0m\n\u001b[1;32m    687\u001b[0m                                \u001b[0;32mfor\u001b[0m \u001b[0mparameters\u001b[0m\u001b[0;34m,\u001b[0m \u001b[0;34m(\u001b[0m\u001b[0mtrain\u001b[0m\u001b[0;34m,\u001b[0m \u001b[0mtest\u001b[0m\u001b[0;34m)\u001b[0m\u001b[0;34m\u001b[0m\u001b[0;34m\u001b[0m\u001b[0m\n\u001b[1;32m    688\u001b[0m                                in product(candidate_params,\n\u001b[0;32m--> 689\u001b[0;31m                                           cv.split(X, y, groups)))\n\u001b[0m\u001b[1;32m    690\u001b[0m \u001b[0;34m\u001b[0m\u001b[0m\n\u001b[1;32m    691\u001b[0m                 \u001b[0;32mif\u001b[0m \u001b[0mlen\u001b[0m\u001b[0;34m(\u001b[0m\u001b[0mout\u001b[0m\u001b[0;34m)\u001b[0m \u001b[0;34m<\u001b[0m \u001b[0;36m1\u001b[0m\u001b[0;34m:\u001b[0m\u001b[0;34m\u001b[0m\u001b[0;34m\u001b[0m\u001b[0m\n",
            "\u001b[0;32m/usr/local/lib/python3.7/dist-packages/joblib/parallel.py\u001b[0m in \u001b[0;36m__call__\u001b[0;34m(self, iterable)\u001b[0m\n\u001b[1;32m   1052\u001b[0m \u001b[0;34m\u001b[0m\u001b[0m\n\u001b[1;32m   1053\u001b[0m             \u001b[0;32mwith\u001b[0m \u001b[0mself\u001b[0m\u001b[0;34m.\u001b[0m\u001b[0m_backend\u001b[0m\u001b[0;34m.\u001b[0m\u001b[0mretrieval_context\u001b[0m\u001b[0;34m(\u001b[0m\u001b[0;34m)\u001b[0m\u001b[0;34m:\u001b[0m\u001b[0;34m\u001b[0m\u001b[0;34m\u001b[0m\u001b[0m\n\u001b[0;32m-> 1054\u001b[0;31m                 \u001b[0mself\u001b[0m\u001b[0;34m.\u001b[0m\u001b[0mretrieve\u001b[0m\u001b[0;34m(\u001b[0m\u001b[0;34m)\u001b[0m\u001b[0;34m\u001b[0m\u001b[0;34m\u001b[0m\u001b[0m\n\u001b[0m\u001b[1;32m   1055\u001b[0m             \u001b[0;31m# Make sure that we get a last message telling us we are done\u001b[0m\u001b[0;34m\u001b[0m\u001b[0;34m\u001b[0m\u001b[0;34m\u001b[0m\u001b[0m\n\u001b[1;32m   1056\u001b[0m             \u001b[0melapsed_time\u001b[0m \u001b[0;34m=\u001b[0m \u001b[0mtime\u001b[0m\u001b[0;34m.\u001b[0m\u001b[0mtime\u001b[0m\u001b[0;34m(\u001b[0m\u001b[0;34m)\u001b[0m \u001b[0;34m-\u001b[0m \u001b[0mself\u001b[0m\u001b[0;34m.\u001b[0m\u001b[0m_start_time\u001b[0m\u001b[0;34m\u001b[0m\u001b[0;34m\u001b[0m\u001b[0m\n",
            "\u001b[0;32m/usr/local/lib/python3.7/dist-packages/joblib/parallel.py\u001b[0m in \u001b[0;36mretrieve\u001b[0;34m(self)\u001b[0m\n\u001b[1;32m    931\u001b[0m             \u001b[0;32mtry\u001b[0m\u001b[0;34m:\u001b[0m\u001b[0;34m\u001b[0m\u001b[0;34m\u001b[0m\u001b[0m\n\u001b[1;32m    932\u001b[0m                 \u001b[0;32mif\u001b[0m \u001b[0mgetattr\u001b[0m\u001b[0;34m(\u001b[0m\u001b[0mself\u001b[0m\u001b[0;34m.\u001b[0m\u001b[0m_backend\u001b[0m\u001b[0;34m,\u001b[0m \u001b[0;34m'supports_timeout'\u001b[0m\u001b[0;34m,\u001b[0m \u001b[0;32mFalse\u001b[0m\u001b[0;34m)\u001b[0m\u001b[0;34m:\u001b[0m\u001b[0;34m\u001b[0m\u001b[0;34m\u001b[0m\u001b[0m\n\u001b[0;32m--> 933\u001b[0;31m                     \u001b[0mself\u001b[0m\u001b[0;34m.\u001b[0m\u001b[0m_output\u001b[0m\u001b[0;34m.\u001b[0m\u001b[0mextend\u001b[0m\u001b[0;34m(\u001b[0m\u001b[0mjob\u001b[0m\u001b[0;34m.\u001b[0m\u001b[0mget\u001b[0m\u001b[0;34m(\u001b[0m\u001b[0mtimeout\u001b[0m\u001b[0;34m=\u001b[0m\u001b[0mself\u001b[0m\u001b[0;34m.\u001b[0m\u001b[0mtimeout\u001b[0m\u001b[0;34m)\u001b[0m\u001b[0;34m)\u001b[0m\u001b[0;34m\u001b[0m\u001b[0;34m\u001b[0m\u001b[0m\n\u001b[0m\u001b[1;32m    934\u001b[0m                 \u001b[0;32melse\u001b[0m\u001b[0;34m:\u001b[0m\u001b[0;34m\u001b[0m\u001b[0;34m\u001b[0m\u001b[0m\n\u001b[1;32m    935\u001b[0m                     \u001b[0mself\u001b[0m\u001b[0;34m.\u001b[0m\u001b[0m_output\u001b[0m\u001b[0;34m.\u001b[0m\u001b[0mextend\u001b[0m\u001b[0;34m(\u001b[0m\u001b[0mjob\u001b[0m\u001b[0;34m.\u001b[0m\u001b[0mget\u001b[0m\u001b[0;34m(\u001b[0m\u001b[0;34m)\u001b[0m\u001b[0;34m)\u001b[0m\u001b[0;34m\u001b[0m\u001b[0;34m\u001b[0m\u001b[0m\n",
            "\u001b[0;32m/usr/local/lib/python3.7/dist-packages/joblib/_parallel_backends.py\u001b[0m in \u001b[0;36mwrap_future_result\u001b[0;34m(future, timeout)\u001b[0m\n\u001b[1;32m    540\u001b[0m         AsyncResults.get from multiprocessing.\"\"\"\n\u001b[1;32m    541\u001b[0m         \u001b[0;32mtry\u001b[0m\u001b[0;34m:\u001b[0m\u001b[0;34m\u001b[0m\u001b[0;34m\u001b[0m\u001b[0m\n\u001b[0;32m--> 542\u001b[0;31m             \u001b[0;32mreturn\u001b[0m \u001b[0mfuture\u001b[0m\u001b[0;34m.\u001b[0m\u001b[0mresult\u001b[0m\u001b[0;34m(\u001b[0m\u001b[0mtimeout\u001b[0m\u001b[0;34m=\u001b[0m\u001b[0mtimeout\u001b[0m\u001b[0;34m)\u001b[0m\u001b[0;34m\u001b[0m\u001b[0;34m\u001b[0m\u001b[0m\n\u001b[0m\u001b[1;32m    543\u001b[0m         \u001b[0;32mexcept\u001b[0m \u001b[0mCfTimeoutError\u001b[0m \u001b[0;32mas\u001b[0m \u001b[0me\u001b[0m\u001b[0;34m:\u001b[0m\u001b[0;34m\u001b[0m\u001b[0;34m\u001b[0m\u001b[0m\n\u001b[1;32m    544\u001b[0m             \u001b[0;32mraise\u001b[0m \u001b[0mTimeoutError\u001b[0m \u001b[0;32mfrom\u001b[0m \u001b[0me\u001b[0m\u001b[0;34m\u001b[0m\u001b[0;34m\u001b[0m\u001b[0m\n",
            "\u001b[0;32m/usr/lib/python3.7/concurrent/futures/_base.py\u001b[0m in \u001b[0;36mresult\u001b[0;34m(self, timeout)\u001b[0m\n\u001b[1;32m    428\u001b[0m                 \u001b[0;32mreturn\u001b[0m \u001b[0mself\u001b[0m\u001b[0;34m.\u001b[0m\u001b[0m__get_result\u001b[0m\u001b[0;34m(\u001b[0m\u001b[0;34m)\u001b[0m\u001b[0;34m\u001b[0m\u001b[0;34m\u001b[0m\u001b[0m\n\u001b[1;32m    429\u001b[0m \u001b[0;34m\u001b[0m\u001b[0m\n\u001b[0;32m--> 430\u001b[0;31m             \u001b[0mself\u001b[0m\u001b[0;34m.\u001b[0m\u001b[0m_condition\u001b[0m\u001b[0;34m.\u001b[0m\u001b[0mwait\u001b[0m\u001b[0;34m(\u001b[0m\u001b[0mtimeout\u001b[0m\u001b[0;34m)\u001b[0m\u001b[0;34m\u001b[0m\u001b[0;34m\u001b[0m\u001b[0m\n\u001b[0m\u001b[1;32m    431\u001b[0m \u001b[0;34m\u001b[0m\u001b[0m\n\u001b[1;32m    432\u001b[0m             \u001b[0;32mif\u001b[0m \u001b[0mself\u001b[0m\u001b[0;34m.\u001b[0m\u001b[0m_state\u001b[0m \u001b[0;32min\u001b[0m \u001b[0;34m[\u001b[0m\u001b[0mCANCELLED\u001b[0m\u001b[0;34m,\u001b[0m \u001b[0mCANCELLED_AND_NOTIFIED\u001b[0m\u001b[0;34m]\u001b[0m\u001b[0;34m:\u001b[0m\u001b[0;34m\u001b[0m\u001b[0;34m\u001b[0m\u001b[0m\n",
            "\u001b[0;32m/usr/lib/python3.7/threading.py\u001b[0m in \u001b[0;36mwait\u001b[0;34m(self, timeout)\u001b[0m\n\u001b[1;32m    294\u001b[0m         \u001b[0;32mtry\u001b[0m\u001b[0;34m:\u001b[0m    \u001b[0;31m# restore state no matter what (e.g., KeyboardInterrupt)\u001b[0m\u001b[0;34m\u001b[0m\u001b[0;34m\u001b[0m\u001b[0m\n\u001b[1;32m    295\u001b[0m             \u001b[0;32mif\u001b[0m \u001b[0mtimeout\u001b[0m \u001b[0;32mis\u001b[0m \u001b[0;32mNone\u001b[0m\u001b[0;34m:\u001b[0m\u001b[0;34m\u001b[0m\u001b[0;34m\u001b[0m\u001b[0m\n\u001b[0;32m--> 296\u001b[0;31m                 \u001b[0mwaiter\u001b[0m\u001b[0;34m.\u001b[0m\u001b[0macquire\u001b[0m\u001b[0;34m(\u001b[0m\u001b[0;34m)\u001b[0m\u001b[0;34m\u001b[0m\u001b[0;34m\u001b[0m\u001b[0m\n\u001b[0m\u001b[1;32m    297\u001b[0m                 \u001b[0mgotit\u001b[0m \u001b[0;34m=\u001b[0m \u001b[0;32mTrue\u001b[0m\u001b[0;34m\u001b[0m\u001b[0;34m\u001b[0m\u001b[0m\n\u001b[1;32m    298\u001b[0m             \u001b[0;32melse\u001b[0m\u001b[0;34m:\u001b[0m\u001b[0;34m\u001b[0m\u001b[0;34m\u001b[0m\u001b[0m\n",
            "\u001b[0;31mKeyboardInterrupt\u001b[0m: "
          ]
        }
      ]
    },
    {
      "cell_type": "code",
      "metadata": {
        "colab": {
          "base_uri": "https://localhost:8080/"
        },
        "id": "_MzREyC7EO6P",
        "outputId": "5dd98e83-548a-4da4-a7df-94347f629e5d"
      },
      "source": [
        "from sklearn.metrics import mean_squared_error, mean_absolute_error\n",
        "pred_train = xgb.predict(train_x)\n",
        "pred_val = xgb.predict(val_x)\n",
        "\n",
        "print('train mae score: ', mean_absolute_error(train_y, pred_train))\n",
        "print('val mae score:', mean_absolute_error(val_y, pred_val))\n",
        "\n",
        "# train mae score:  0.7586943958044394\n",
        "# val mae score: 0.942235584465081\n",
        "# real score : 2.37214\n",
        "\n",
        "#train mae score:  0.46167023974496696\n",
        "#val mae score: 0.46239828427624574\n",
        "# real score : 1.26987"
      ],
      "execution_count": 37,
      "outputs": [
        {
          "output_type": "stream",
          "name": "stdout",
          "text": [
            "train mae score:  111.75417544210275\n",
            "val mae score: 111.83387995595268\n"
          ]
        }
      ]
    },
    {
      "cell_type": "code",
      "metadata": {
        "id": "yKAMK3lfe0AP"
      },
      "source": [
        "#xgb.fit(train_x, train_y)\n",
        "pred = xgb.predict(test_x)"
      ],
      "execution_count": 38,
      "outputs": []
    },
    {
      "cell_type": "code",
      "metadata": {
        "id": "nJ19LDTMHQ17"
      },
      "source": [
        "submission = pd.read_csv('/content/drive/MyDrive/Colab Notebooks/StoreSales/sample_submission.csv')"
      ],
      "execution_count": 39,
      "outputs": []
    },
    {
      "cell_type": "code",
      "metadata": {
        "id": "XSpGGQWuGzVS"
      },
      "source": [
        "#pred = grid_search.predict(test_x)\n",
        "#submission['sales'] = pred\n",
        "submission['sales'] = np.expm1(pred)\n",
        "submission.to_csv('/content/drive/MyDrive/Colab Notebooks/StoreSales/submission.csv', index=False)"
      ],
      "execution_count": 40,
      "outputs": []
    }
  ]
}