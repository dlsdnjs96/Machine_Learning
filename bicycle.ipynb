{
  "nbformat": 4,
  "nbformat_minor": 0,
  "metadata": {
    "colab": {
      "name": "bicycle.ipynb",
      "provenance": []
    },
    "kernelspec": {
      "name": "python3",
      "display_name": "Python 3"
    },
    "language_info": {
      "name": "python"
    }
  },
  "cells": [
    {
      "cell_type": "code",
      "metadata": {
        "id": "zzyCIv5hxkx4"
      },
      "source": [
        "import numpy as np\n",
        "import pandas as pd"
      ],
      "execution_count": 1,
      "outputs": []
    },
    {
      "cell_type": "code",
      "metadata": {
        "id": "TmQ2nH00xrCj"
      },
      "source": [
        "train = pd.read_csv('/content/drive/MyDrive/Colab Notebooks/Bicycle_Rental_Prediction/train.csv', parse_dates=['date_time'], infer_datetime_format=True)\n",
        "test = pd.read_csv('/content/drive/MyDrive/Colab Notebooks/Bicycle_Rental_Prediction/test.csv', parse_dates=['date_time'], infer_datetime_format=True)\n",
        "submission = pd.read_csv('/content/drive/MyDrive/Colab Notebooks/Bicycle_Rental_Prediction/sample_submission.csv')"
      ],
      "execution_count": 176,
      "outputs": []
    },
    {
      "cell_type": "code",
      "metadata": {
        "id": "HavLd_vmCSig"
      },
      "source": [
        ""
      ],
      "execution_count": null,
      "outputs": []
    },
    {
      "cell_type": "code",
      "metadata": {
        "id": "I3aqBXQOzsLE"
      },
      "source": [
        "all_data = pd.concat([train, test], ignore_index=True)\n",
        "all_data_index = all_data.index"
      ],
      "execution_count": 177,
      "outputs": []
    },
    {
      "cell_type": "code",
      "metadata": {
        "colab": {
          "base_uri": "https://localhost:8080/",
          "height": 294
        },
        "id": "lDVWcv5055gA",
        "outputId": "6a5a4527-3fcc-4857-9b92-6904e4b3bc39"
      },
      "source": [
        "all_data.describe()"
      ],
      "execution_count": 178,
      "outputs": [
        {
          "output_type": "execute_result",
          "data": {
            "text/html": [
              "<div>\n",
              "<style scoped>\n",
              "    .dataframe tbody tr th:only-of-type {\n",
              "        vertical-align: middle;\n",
              "    }\n",
              "\n",
              "    .dataframe tbody tr th {\n",
              "        vertical-align: top;\n",
              "    }\n",
              "\n",
              "    .dataframe thead th {\n",
              "        text-align: right;\n",
              "    }\n",
              "</style>\n",
              "<table border=\"1\" class=\"dataframe\">\n",
              "  <thead>\n",
              "    <tr style=\"text-align: right;\">\n",
              "      <th></th>\n",
              "      <th>wind_direction</th>\n",
              "      <th>sky_condition</th>\n",
              "      <th>precipitation_form</th>\n",
              "      <th>wind_speed</th>\n",
              "      <th>humidity</th>\n",
              "      <th>low_temp</th>\n",
              "      <th>high_temp</th>\n",
              "      <th>Precipitation_Probability</th>\n",
              "      <th>number_of_rentals</th>\n",
              "    </tr>\n",
              "  </thead>\n",
              "  <tbody>\n",
              "    <tr>\n",
              "      <th>count</th>\n",
              "      <td>364.000000</td>\n",
              "      <td>364.000000</td>\n",
              "      <td>364.000000</td>\n",
              "      <td>364.000000</td>\n",
              "      <td>364.000000</td>\n",
              "      <td>364.000000</td>\n",
              "      <td>364.000000</td>\n",
              "      <td>364.000000</td>\n",
              "      <td>273.000000</td>\n",
              "    </tr>\n",
              "    <tr>\n",
              "      <th>mean</th>\n",
              "      <td>198.634725</td>\n",
              "      <td>2.319503</td>\n",
              "      <td>0.121179</td>\n",
              "      <td>2.383970</td>\n",
              "      <td>58.386926</td>\n",
              "      <td>13.891959</td>\n",
              "      <td>23.356146</td>\n",
              "      <td>17.328552</td>\n",
              "      <td>59574.978022</td>\n",
              "    </tr>\n",
              "    <tr>\n",
              "      <th>std</th>\n",
              "      <td>56.845031</td>\n",
              "      <td>0.976251</td>\n",
              "      <td>0.230958</td>\n",
              "      <td>0.868715</td>\n",
              "      <td>12.396575</td>\n",
              "      <td>4.980942</td>\n",
              "      <td>4.969229</td>\n",
              "      <td>16.315020</td>\n",
              "      <td>27659.575774</td>\n",
              "    </tr>\n",
              "    <tr>\n",
              "      <th>min</th>\n",
              "      <td>44.123000</td>\n",
              "      <td>1.000000</td>\n",
              "      <td>0.000000</td>\n",
              "      <td>0.753000</td>\n",
              "      <td>24.831000</td>\n",
              "      <td>1.938000</td>\n",
              "      <td>9.895000</td>\n",
              "      <td>0.000000</td>\n",
              "      <td>1037.000000</td>\n",
              "    </tr>\n",
              "    <tr>\n",
              "      <th>25%</th>\n",
              "      <td>168.287250</td>\n",
              "      <td>1.405000</td>\n",
              "      <td>0.000000</td>\n",
              "      <td>1.743500</td>\n",
              "      <td>48.809000</td>\n",
              "      <td>10.172250</td>\n",
              "      <td>19.895000</td>\n",
              "      <td>4.357750</td>\n",
              "      <td>36761.000000</td>\n",
              "    </tr>\n",
              "    <tr>\n",
              "      <th>50%</th>\n",
              "      <td>205.729500</td>\n",
              "      <td>2.196000</td>\n",
              "      <td>0.000000</td>\n",
              "      <td>2.310500</td>\n",
              "      <td>58.784000</td>\n",
              "      <td>14.500000</td>\n",
              "      <td>24.000000</td>\n",
              "      <td>13.209500</td>\n",
              "      <td>63032.000000</td>\n",
              "    </tr>\n",
              "    <tr>\n",
              "      <th>75%</th>\n",
              "      <td>234.637250</td>\n",
              "      <td>3.143750</td>\n",
              "      <td>0.142000</td>\n",
              "      <td>2.800000</td>\n",
              "      <td>68.446000</td>\n",
              "      <td>18.000000</td>\n",
              "      <td>27.526000</td>\n",
              "      <td>25.608500</td>\n",
              "      <td>81515.000000</td>\n",
              "    </tr>\n",
              "    <tr>\n",
              "      <th>max</th>\n",
              "      <td>321.622000</td>\n",
              "      <td>4.000000</td>\n",
              "      <td>1.514000</td>\n",
              "      <td>5.607000</td>\n",
              "      <td>88.885000</td>\n",
              "      <td>22.312000</td>\n",
              "      <td>33.421000</td>\n",
              "      <td>82.162000</td>\n",
              "      <td>110377.000000</td>\n",
              "    </tr>\n",
              "  </tbody>\n",
              "</table>\n",
              "</div>"
            ],
            "text/plain": [
              "       wind_direction  ...  number_of_rentals\n",
              "count      364.000000  ...         273.000000\n",
              "mean       198.634725  ...       59574.978022\n",
              "std         56.845031  ...       27659.575774\n",
              "min         44.123000  ...        1037.000000\n",
              "25%        168.287250  ...       36761.000000\n",
              "50%        205.729500  ...       63032.000000\n",
              "75%        234.637250  ...       81515.000000\n",
              "max        321.622000  ...      110377.000000\n",
              "\n",
              "[8 rows x 9 columns]"
            ]
          },
          "metadata": {},
          "execution_count": 178
        }
      ]
    },
    {
      "cell_type": "code",
      "metadata": {
        "colab": {
          "base_uri": "https://localhost:8080/"
        },
        "id": "EZeafc18yWFm",
        "outputId": "a08e5ee5-ad38-4b3e-98c2-63c3e912863d"
      },
      "source": [
        "na_check = all_data.isna().sum() / len(all_data)\n",
        "na_check"
      ],
      "execution_count": 179,
      "outputs": [
        {
          "output_type": "execute_result",
          "data": {
            "text/plain": [
              "date_time                    0.00\n",
              "wind_direction               0.00\n",
              "sky_condition                0.00\n",
              "precipitation_form           0.00\n",
              "wind_speed                   0.00\n",
              "humidity                     0.00\n",
              "low_temp                     0.00\n",
              "high_temp                    0.00\n",
              "Precipitation_Probability    0.00\n",
              "number_of_rentals            0.25\n",
              "dtype: float64"
            ]
          },
          "metadata": {},
          "execution_count": 179
        }
      ]
    },
    {
      "cell_type": "code",
      "metadata": {
        "id": "H-ONp_5Pyuea"
      },
      "source": [
        "for i in range(1, 9):\n",
        "  all_data['wind_direc_'+(str)(i)] = False\n",
        "\n",
        "for i in range(1, 9):\n",
        "  all_data.loc[(all_data['wind_direction'] >= (45*(i-1))) & (all_data['wind_direction'] < (45*i)), 'wind_direc_'+(str)(i)] = True"
      ],
      "execution_count": 180,
      "outputs": []
    },
    {
      "cell_type": "code",
      "metadata": {
        "id": "uwZi8cuX02UK"
      },
      "source": [
        "all_data = all_data.drop(['wind_direction'], axis=1)"
      ],
      "execution_count": 181,
      "outputs": []
    },
    {
      "cell_type": "code",
      "metadata": {
        "id": "AjWqRVNd1R_Z"
      },
      "source": [
        "col_l = ['sky_condition', 'precipitation_form', 'wind_speed',\n",
        "       'humidity', 'low_temp', 'high_temp', 'Precipitation_Probability']\n",
        "col_r = all_data.columns.drop(col_l)"
      ],
      "execution_count": 182,
      "outputs": []
    },
    {
      "cell_type": "code",
      "metadata": {
        "colab": {
          "base_uri": "https://localhost:8080/",
          "height": 294
        },
        "id": "aVhzCi9n0g5L",
        "outputId": "9856d56a-0c79-4d0a-ecca-b90c5f05e1ab"
      },
      "source": [
        "from sklearn.preprocessing import MinMaxScaler\n",
        "\n",
        "scaler = MinMaxScaler()\n",
        "\n",
        "scaler.fit(all_data[col_l])\n",
        "left_data = scaler.transform(all_data[col_l])\n",
        "left_data = pd.DataFrame(left_data, columns=col, index=all_data_index)\n",
        "left_data.describe()"
      ],
      "execution_count": 183,
      "outputs": [
        {
          "output_type": "execute_result",
          "data": {
            "text/html": [
              "<div>\n",
              "<style scoped>\n",
              "    .dataframe tbody tr th:only-of-type {\n",
              "        vertical-align: middle;\n",
              "    }\n",
              "\n",
              "    .dataframe tbody tr th {\n",
              "        vertical-align: top;\n",
              "    }\n",
              "\n",
              "    .dataframe thead th {\n",
              "        text-align: right;\n",
              "    }\n",
              "</style>\n",
              "<table border=\"1\" class=\"dataframe\">\n",
              "  <thead>\n",
              "    <tr style=\"text-align: right;\">\n",
              "      <th></th>\n",
              "      <th>sky_condition</th>\n",
              "      <th>precipitation_form</th>\n",
              "      <th>wind_speed</th>\n",
              "      <th>humidity</th>\n",
              "      <th>low_temp</th>\n",
              "      <th>high_temp</th>\n",
              "      <th>Precipitation_Probability</th>\n",
              "    </tr>\n",
              "  </thead>\n",
              "  <tbody>\n",
              "    <tr>\n",
              "      <th>count</th>\n",
              "      <td>364.000000</td>\n",
              "      <td>364.000000</td>\n",
              "      <td>364.000000</td>\n",
              "      <td>364.000000</td>\n",
              "      <td>364.000000</td>\n",
              "      <td>364.000000</td>\n",
              "      <td>364.000000</td>\n",
              "    </tr>\n",
              "    <tr>\n",
              "      <th>mean</th>\n",
              "      <td>0.439834</td>\n",
              "      <td>0.080039</td>\n",
              "      <td>0.336005</td>\n",
              "      <td>0.523869</td>\n",
              "      <td>0.586726</td>\n",
              "      <td>0.572182</td>\n",
              "      <td>0.210907</td>\n",
              "    </tr>\n",
              "    <tr>\n",
              "      <th>std</th>\n",
              "      <td>0.325417</td>\n",
              "      <td>0.152548</td>\n",
              "      <td>0.178969</td>\n",
              "      <td>0.193533</td>\n",
              "      <td>0.244475</td>\n",
              "      <td>0.211223</td>\n",
              "      <td>0.198571</td>\n",
              "    </tr>\n",
              "    <tr>\n",
              "      <th>min</th>\n",
              "      <td>0.000000</td>\n",
              "      <td>0.000000</td>\n",
              "      <td>0.000000</td>\n",
              "      <td>0.000000</td>\n",
              "      <td>0.000000</td>\n",
              "      <td>0.000000</td>\n",
              "      <td>0.000000</td>\n",
              "    </tr>\n",
              "    <tr>\n",
              "      <th>25%</th>\n",
              "      <td>0.135000</td>\n",
              "      <td>0.000000</td>\n",
              "      <td>0.204059</td>\n",
              "      <td>0.374340</td>\n",
              "      <td>0.404155</td>\n",
              "      <td>0.425062</td>\n",
              "      <td>0.053039</td>\n",
              "    </tr>\n",
              "    <tr>\n",
              "      <th>50%</th>\n",
              "      <td>0.398667</td>\n",
              "      <td>0.000000</td>\n",
              "      <td>0.320869</td>\n",
              "      <td>0.530068</td>\n",
              "      <td>0.616570</td>\n",
              "      <td>0.599549</td>\n",
              "      <td>0.160774</td>\n",
              "    </tr>\n",
              "    <tr>\n",
              "      <th>75%</th>\n",
              "      <td>0.714583</td>\n",
              "      <td>0.093791</td>\n",
              "      <td>0.421714</td>\n",
              "      <td>0.680910</td>\n",
              "      <td>0.788358</td>\n",
              "      <td>0.749426</td>\n",
              "      <td>0.311683</td>\n",
              "    </tr>\n",
              "    <tr>\n",
              "      <th>max</th>\n",
              "      <td>1.000000</td>\n",
              "      <td>1.000000</td>\n",
              "      <td>1.000000</td>\n",
              "      <td>1.000000</td>\n",
              "      <td>1.000000</td>\n",
              "      <td>1.000000</td>\n",
              "      <td>1.000000</td>\n",
              "    </tr>\n",
              "  </tbody>\n",
              "</table>\n",
              "</div>"
            ],
            "text/plain": [
              "       sky_condition  precipitation_form  ...   high_temp  Precipitation_Probability\n",
              "count     364.000000          364.000000  ...  364.000000                 364.000000\n",
              "mean        0.439834            0.080039  ...    0.572182                   0.210907\n",
              "std         0.325417            0.152548  ...    0.211223                   0.198571\n",
              "min         0.000000            0.000000  ...    0.000000                   0.000000\n",
              "25%         0.135000            0.000000  ...    0.425062                   0.053039\n",
              "50%         0.398667            0.000000  ...    0.599549                   0.160774\n",
              "75%         0.714583            0.093791  ...    0.749426                   0.311683\n",
              "max         1.000000            1.000000  ...    1.000000                   1.000000\n",
              "\n",
              "[8 rows x 7 columns]"
            ]
          },
          "metadata": {},
          "execution_count": 183
        }
      ]
    },
    {
      "cell_type": "code",
      "metadata": {
        "colab": {
          "base_uri": "https://localhost:8080/"
        },
        "id": "3kHXlI8O3TnO",
        "outputId": "80831607-a421-4434-9d9e-06cf468096b8"
      },
      "source": [
        "right_data = all_data[col_r]\n",
        "\n",
        "right_data['year'] = right_data['date_time'].dt.year\n",
        "right_data['month'] = right_data['date_time'].dt.month\n",
        "right_data['day'] = right_data['date_time'].dt.day\n",
        "right_data['wDay'] = right_data['date_time'].dt.weekday\n",
        "right_data.index = all_data_index"
      ],
      "execution_count": 184,
      "outputs": [
        {
          "output_type": "stream",
          "name": "stderr",
          "text": [
            "/usr/local/lib/python3.7/dist-packages/ipykernel_launcher.py:3: SettingWithCopyWarning: \n",
            "A value is trying to be set on a copy of a slice from a DataFrame.\n",
            "Try using .loc[row_indexer,col_indexer] = value instead\n",
            "\n",
            "See the caveats in the documentation: https://pandas.pydata.org/pandas-docs/stable/user_guide/indexing.html#returning-a-view-versus-a-copy\n",
            "  This is separate from the ipykernel package so we can avoid doing imports until\n",
            "/usr/local/lib/python3.7/dist-packages/ipykernel_launcher.py:4: SettingWithCopyWarning: \n",
            "A value is trying to be set on a copy of a slice from a DataFrame.\n",
            "Try using .loc[row_indexer,col_indexer] = value instead\n",
            "\n",
            "See the caveats in the documentation: https://pandas.pydata.org/pandas-docs/stable/user_guide/indexing.html#returning-a-view-versus-a-copy\n",
            "  after removing the cwd from sys.path.\n",
            "/usr/local/lib/python3.7/dist-packages/ipykernel_launcher.py:5: SettingWithCopyWarning: \n",
            "A value is trying to be set on a copy of a slice from a DataFrame.\n",
            "Try using .loc[row_indexer,col_indexer] = value instead\n",
            "\n",
            "See the caveats in the documentation: https://pandas.pydata.org/pandas-docs/stable/user_guide/indexing.html#returning-a-view-versus-a-copy\n",
            "  \"\"\"\n",
            "/usr/local/lib/python3.7/dist-packages/ipykernel_launcher.py:6: SettingWithCopyWarning: \n",
            "A value is trying to be set on a copy of a slice from a DataFrame.\n",
            "Try using .loc[row_indexer,col_indexer] = value instead\n",
            "\n",
            "See the caveats in the documentation: https://pandas.pydata.org/pandas-docs/stable/user_guide/indexing.html#returning-a-view-versus-a-copy\n",
            "  \n"
          ]
        }
      ]
    },
    {
      "cell_type": "code",
      "metadata": {
        "id": "ovqSVvTi4JdF"
      },
      "source": [
        "all_data_ = pd.merge(left_data, right_data, left_index=True, right_index=True)#, on='id', how='outer')\n",
        "#all_data_ = left_data.join(right_data, how='inner')"
      ],
      "execution_count": 185,
      "outputs": []
    },
    {
      "cell_type": "code",
      "metadata": {
        "id": "lpCiX0db4gSL"
      },
      "source": [
        "all_data = all_data_"
      ],
      "execution_count": 186,
      "outputs": []
    },
    {
      "cell_type": "code",
      "metadata": {
        "id": "jwdwkurK3SRW"
      },
      "source": [
        "nTrain = len(train)\n",
        "train = all_data[:nTrain]\n",
        "test = all_data[nTrain:]"
      ],
      "execution_count": 187,
      "outputs": []
    },
    {
      "cell_type": "code",
      "metadata": {
        "colab": {
          "base_uri": "https://localhost:8080/"
        },
        "id": "MiempW3H_jz3",
        "outputId": "d90e1c8c-fe1c-4214-a300-dbf4a81ae450"
      },
      "source": [
        "all_data.columns"
      ],
      "execution_count": 190,
      "outputs": [
        {
          "output_type": "execute_result",
          "data": {
            "text/plain": [
              "Index(['sky_condition', 'precipitation_form', 'wind_speed', 'humidity',\n",
              "       'low_temp', 'high_temp', 'Precipitation_Probability', 'date_time',\n",
              "       'number_of_rentals', 'wind_direc_1', 'wind_direc_2', 'wind_direc_3',\n",
              "       'wind_direc_4', 'wind_direc_5', 'wind_direc_6', 'wind_direc_7',\n",
              "       'wind_direc_8', 'year', 'month', 'day', 'wDay'],\n",
              "      dtype='object')"
            ]
          },
          "metadata": {},
          "execution_count": 190
        }
      ]
    },
    {
      "cell_type": "code",
      "metadata": {
        "id": "EuB1igTvF_OC"
      },
      "source": [
        "col_x = ['sky_condition', 'precipitation_form', 'wind_speed', 'humidity',\n",
        "       'low_temp', 'high_temp', 'Precipitation_Probability',\n",
        "       'wind_direc_1', 'wind_direc_2', 'wind_direc_3',\n",
        "       'wind_direc_4', 'wind_direc_5', 'wind_direc_6', 'wind_direc_7',\n",
        "       'wind_direc_8', 'year', 'month', 'day', 'wDay']\n",
        "col_y = ['number_of_rentals']"
      ],
      "execution_count": 194,
      "outputs": []
    },
    {
      "cell_type": "code",
      "metadata": {
        "id": "m-jTa-gC_3s9"
      },
      "source": [
        "from sklearn.model_selection import train_test_split\n",
        "\n",
        "train_x = train[col_x]\n",
        "train_y = np.log1p(train['number_of_rentals'])\n",
        "\n",
        "train_x, val_x, train_y, val_y = train_test_split(train_x, train_y, test_size=0.2, shuffle=True)\n",
        "\n",
        "test_id_idx = test.index\n",
        "\n",
        "test_x = test[col_x]"
      ],
      "execution_count": 195,
      "outputs": []
    },
    {
      "cell_type": "code",
      "metadata": {
        "colab": {
          "base_uri": "https://localhost:8080/"
        },
        "id": "3PdzPZ65GJOE",
        "outputId": "2050b937-6213-467d-da2b-b2f10925cdec"
      },
      "source": [
        "from sklearn.linear_model import LinearRegression\n",
        "\n",
        "lr = LinearRegression()\n",
        "lr.fit(train_x, train_y)"
      ],
      "execution_count": 196,
      "outputs": [
        {
          "output_type": "execute_result",
          "data": {
            "text/plain": [
              "LinearRegression(copy_X=True, fit_intercept=True, n_jobs=None, normalize=False)"
            ]
          },
          "metadata": {},
          "execution_count": 196
        }
      ]
    },
    {
      "cell_type": "code",
      "metadata": {
        "colab": {
          "base_uri": "https://localhost:8080/"
        },
        "id": "KYyPsV1PGRbK",
        "outputId": "c04faf38-9eb8-4638-ae65-9d6c5f848012"
      },
      "source": [
        "from sklearn.metrics import mean_squared_error, mean_absolute_error\n",
        "pred_train = lr.predict(train_x)\n",
        "pred_val = lr.predict(val_x)\n",
        "\n",
        "print('train mae score: ', mean_absolute_error(train_y, pred_train))\n",
        "print('val mae score:', mean_absolute_error(val_y, pred_val))\n",
        "\n",
        "# train mae score:  0.18014674463649302\n",
        "# val mae score: 0.19129551489260352"
      ],
      "execution_count": 198,
      "outputs": [
        {
          "output_type": "stream",
          "name": "stdout",
          "text": [
            "train mae score:  0.18014674463649302\n",
            "val mae score: 0.19129551489260352\n"
          ]
        }
      ]
    },
    {
      "cell_type": "code",
      "metadata": {
        "id": "W9_bdFYUGU2Q"
      },
      "source": [
        "pred = lr.predict(test_x)"
      ],
      "execution_count": 199,
      "outputs": []
    },
    {
      "cell_type": "code",
      "metadata": {
        "id": "SKc5kEg0GaZW"
      },
      "source": [
        "submission[col_y] = np.expm1(pred)"
      ],
      "execution_count": 207,
      "outputs": []
    },
    {
      "cell_type": "code",
      "metadata": {
        "id": "KlpE5gxSGjv8"
      },
      "source": [
        "submission.to_csv('/content/drive/MyDrive/Colab Notebooks/Bicycle_Rental_Prediction/submission.csv', index=False)"
      ],
      "execution_count": 208,
      "outputs": []
    }
  ]
}