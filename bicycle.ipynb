{
  "nbformat": 4,
  "nbformat_minor": 0,
  "metadata": {
    "colab": {
      "name": "bicycle.ipynb",
      "provenance": [],
      "collapsed_sections": []
    },
    "kernelspec": {
      "name": "python3",
      "display_name": "Python 3"
    },
    "language_info": {
      "name": "python"
    }
  },
  "cells": [
    {
      "cell_type": "code",
      "metadata": {
        "id": "zzyCIv5hxkx4"
      },
      "source": [
        "import numpy as np\n",
        "import pandas as pd"
      ],
      "execution_count": 1,
      "outputs": []
    },
    {
      "cell_type": "code",
      "metadata": {
        "id": "TmQ2nH00xrCj"
      },
      "source": [
        "train = pd.read_csv('/content/drive/MyDrive/Colab Notebooks/Bicycle_Rental_Prediction/train.csv', parse_dates=['date_time'], infer_datetime_format=True)\n",
        "test = pd.read_csv('/content/drive/MyDrive/Colab Notebooks/Bicycle_Rental_Prediction/test.csv', parse_dates=['date_time'], infer_datetime_format=True)\n",
        "submission = pd.read_csv('/content/drive/MyDrive/Colab Notebooks/Bicycle_Rental_Prediction/sample_submission.csv')"
      ],
      "execution_count": 92,
      "outputs": []
    },
    {
      "cell_type": "code",
      "metadata": {
        "id": "I3aqBXQOzsLE"
      },
      "source": [
        "all_data = pd.concat([train, test], ignore_index=True)\n",
        "all_data_index = all_data.index"
      ],
      "execution_count": 93,
      "outputs": []
    },
    {
      "cell_type": "code",
      "metadata": {
        "colab": {
          "base_uri": "https://localhost:8080/",
          "height": 296
        },
        "id": "lDVWcv5055gA",
        "outputId": "115003cd-951b-439d-be6b-7d93b0f74baa"
      },
      "source": [
        "all_data.describe()"
      ],
      "execution_count": 94,
      "outputs": [
        {
          "output_type": "execute_result",
          "data": {
            "text/html": [
              "<div>\n",
              "<style scoped>\n",
              "    .dataframe tbody tr th:only-of-type {\n",
              "        vertical-align: middle;\n",
              "    }\n",
              "\n",
              "    .dataframe tbody tr th {\n",
              "        vertical-align: top;\n",
              "    }\n",
              "\n",
              "    .dataframe thead th {\n",
              "        text-align: right;\n",
              "    }\n",
              "</style>\n",
              "<table border=\"1\" class=\"dataframe\">\n",
              "  <thead>\n",
              "    <tr style=\"text-align: right;\">\n",
              "      <th></th>\n",
              "      <th>wind_direction</th>\n",
              "      <th>sky_condition</th>\n",
              "      <th>precipitation_form</th>\n",
              "      <th>wind_speed</th>\n",
              "      <th>humidity</th>\n",
              "      <th>low_temp</th>\n",
              "      <th>high_temp</th>\n",
              "      <th>Precipitation_Probability</th>\n",
              "      <th>number_of_rentals</th>\n",
              "    </tr>\n",
              "  </thead>\n",
              "  <tbody>\n",
              "    <tr>\n",
              "      <th>count</th>\n",
              "      <td>364.000000</td>\n",
              "      <td>364.000000</td>\n",
              "      <td>364.000000</td>\n",
              "      <td>364.000000</td>\n",
              "      <td>364.000000</td>\n",
              "      <td>364.000000</td>\n",
              "      <td>364.000000</td>\n",
              "      <td>364.000000</td>\n",
              "      <td>273.000000</td>\n",
              "    </tr>\n",
              "    <tr>\n",
              "      <th>mean</th>\n",
              "      <td>198.634725</td>\n",
              "      <td>2.319503</td>\n",
              "      <td>0.121179</td>\n",
              "      <td>2.383970</td>\n",
              "      <td>58.386926</td>\n",
              "      <td>13.891959</td>\n",
              "      <td>23.356146</td>\n",
              "      <td>17.328552</td>\n",
              "      <td>59574.978022</td>\n",
              "    </tr>\n",
              "    <tr>\n",
              "      <th>std</th>\n",
              "      <td>56.845031</td>\n",
              "      <td>0.976251</td>\n",
              "      <td>0.230958</td>\n",
              "      <td>0.868715</td>\n",
              "      <td>12.396575</td>\n",
              "      <td>4.980942</td>\n",
              "      <td>4.969229</td>\n",
              "      <td>16.315020</td>\n",
              "      <td>27659.575774</td>\n",
              "    </tr>\n",
              "    <tr>\n",
              "      <th>min</th>\n",
              "      <td>44.123000</td>\n",
              "      <td>1.000000</td>\n",
              "      <td>0.000000</td>\n",
              "      <td>0.753000</td>\n",
              "      <td>24.831000</td>\n",
              "      <td>1.938000</td>\n",
              "      <td>9.895000</td>\n",
              "      <td>0.000000</td>\n",
              "      <td>1037.000000</td>\n",
              "    </tr>\n",
              "    <tr>\n",
              "      <th>25%</th>\n",
              "      <td>168.287250</td>\n",
              "      <td>1.405000</td>\n",
              "      <td>0.000000</td>\n",
              "      <td>1.743500</td>\n",
              "      <td>48.809000</td>\n",
              "      <td>10.172250</td>\n",
              "      <td>19.895000</td>\n",
              "      <td>4.357750</td>\n",
              "      <td>36761.000000</td>\n",
              "    </tr>\n",
              "    <tr>\n",
              "      <th>50%</th>\n",
              "      <td>205.729500</td>\n",
              "      <td>2.196000</td>\n",
              "      <td>0.000000</td>\n",
              "      <td>2.310500</td>\n",
              "      <td>58.784000</td>\n",
              "      <td>14.500000</td>\n",
              "      <td>24.000000</td>\n",
              "      <td>13.209500</td>\n",
              "      <td>63032.000000</td>\n",
              "    </tr>\n",
              "    <tr>\n",
              "      <th>75%</th>\n",
              "      <td>234.637250</td>\n",
              "      <td>3.143750</td>\n",
              "      <td>0.142000</td>\n",
              "      <td>2.800000</td>\n",
              "      <td>68.446000</td>\n",
              "      <td>18.000000</td>\n",
              "      <td>27.526000</td>\n",
              "      <td>25.608500</td>\n",
              "      <td>81515.000000</td>\n",
              "    </tr>\n",
              "    <tr>\n",
              "      <th>max</th>\n",
              "      <td>321.622000</td>\n",
              "      <td>4.000000</td>\n",
              "      <td>1.514000</td>\n",
              "      <td>5.607000</td>\n",
              "      <td>88.885000</td>\n",
              "      <td>22.312000</td>\n",
              "      <td>33.421000</td>\n",
              "      <td>82.162000</td>\n",
              "      <td>110377.000000</td>\n",
              "    </tr>\n",
              "  </tbody>\n",
              "</table>\n",
              "</div>"
            ],
            "text/plain": [
              "       wind_direction  ...  number_of_rentals\n",
              "count      364.000000  ...         273.000000\n",
              "mean       198.634725  ...       59574.978022\n",
              "std         56.845031  ...       27659.575774\n",
              "min         44.123000  ...        1037.000000\n",
              "25%        168.287250  ...       36761.000000\n",
              "50%        205.729500  ...       63032.000000\n",
              "75%        234.637250  ...       81515.000000\n",
              "max        321.622000  ...      110377.000000\n",
              "\n",
              "[8 rows x 9 columns]"
            ]
          },
          "metadata": {},
          "execution_count": 94
        }
      ]
    },
    {
      "cell_type": "code",
      "metadata": {
        "colab": {
          "base_uri": "https://localhost:8080/"
        },
        "id": "EZeafc18yWFm",
        "outputId": "49594450-e615-4de8-941b-3b65887626cb"
      },
      "source": [
        "na_check = all_data.isna().sum() / len(all_data)\n",
        "na_check"
      ],
      "execution_count": 95,
      "outputs": [
        {
          "output_type": "execute_result",
          "data": {
            "text/plain": [
              "date_time                    0.00\n",
              "wind_direction               0.00\n",
              "sky_condition                0.00\n",
              "precipitation_form           0.00\n",
              "wind_speed                   0.00\n",
              "humidity                     0.00\n",
              "low_temp                     0.00\n",
              "high_temp                    0.00\n",
              "Precipitation_Probability    0.00\n",
              "number_of_rentals            0.25\n",
              "dtype: float64"
            ]
          },
          "metadata": {},
          "execution_count": 95
        }
      ]
    },
    {
      "cell_type": "code",
      "metadata": {
        "id": "H-ONp_5Pyuea"
      },
      "source": [
        "for i in range(1, 9):\n",
        "  all_data['wind_direc_'+(str)(i)] = False\n",
        "\n",
        "for i in range(1, 9):\n",
        "  all_data.loc[(all_data['wind_direction'] >= (45*(i-1))) & (all_data['wind_direction'] < (45*i)), 'wind_direc_'+(str)(i)] = True"
      ],
      "execution_count": 96,
      "outputs": []
    },
    {
      "cell_type": "code",
      "metadata": {
        "id": "uwZi8cuX02UK"
      },
      "source": [
        "all_data = all_data.drop(['wind_direction'], axis=1)"
      ],
      "execution_count": 42,
      "outputs": []
    },
    {
      "cell_type": "code",
      "metadata": {
        "id": "HbiPNyh6tDRI"
      },
      "source": [
        "all_data['daily_temp_range'] = all_data['high_temp'] - all_data['low_temp']"
      ],
      "execution_count": 97,
      "outputs": []
    },
    {
      "cell_type": "code",
      "metadata": {
        "id": "AeLIOiLJtrIj"
      },
      "source": [
        "all_data['average_temp'] = (all_data['high_temp'] + all_data['low_temp']) / 2"
      ],
      "execution_count": 98,
      "outputs": []
    },
    {
      "cell_type": "code",
      "metadata": {
        "id": "AjWqRVNd1R_Z"
      },
      "source": [
        "col_l = ['sky_condition', 'precipitation_form', 'wind_speed',\n",
        "       'humidity', 'low_temp', 'high_temp', 'Precipitation_Probability', 'daily_temp_range']\n",
        "col_r = all_data.columns.drop(col_l)"
      ],
      "execution_count": 99,
      "outputs": []
    },
    {
      "cell_type": "code",
      "metadata": {
        "id": "yZxYRoIdtVJ8"
      },
      "source": [
        "left_data = all_data[col_l]"
      ],
      "execution_count": 100,
      "outputs": []
    },
    {
      "cell_type": "code",
      "metadata": {
        "colab": {
          "base_uri": "https://localhost:8080/",
          "height": 296
        },
        "id": "aVhzCi9n0g5L",
        "outputId": "6a89fe1b-cc1e-46e9-c450-65df755c94d4"
      },
      "source": [
        "from sklearn.preprocessing import MinMaxScaler\n",
        "\n",
        "scaler = MinMaxScaler()\n",
        "\n",
        "scaler.fit(all_data[col_l])\n",
        "left_data = scaler.transform(all_data[col_l])\n",
        "left_data = pd.DataFrame(left_data, columns=col_l, index=all_data_index)\n",
        "left_data.describe()"
      ],
      "execution_count": 101,
      "outputs": [
        {
          "output_type": "execute_result",
          "data": {
            "text/html": [
              "<div>\n",
              "<style scoped>\n",
              "    .dataframe tbody tr th:only-of-type {\n",
              "        vertical-align: middle;\n",
              "    }\n",
              "\n",
              "    .dataframe tbody tr th {\n",
              "        vertical-align: top;\n",
              "    }\n",
              "\n",
              "    .dataframe thead th {\n",
              "        text-align: right;\n",
              "    }\n",
              "</style>\n",
              "<table border=\"1\" class=\"dataframe\">\n",
              "  <thead>\n",
              "    <tr style=\"text-align: right;\">\n",
              "      <th></th>\n",
              "      <th>sky_condition</th>\n",
              "      <th>precipitation_form</th>\n",
              "      <th>wind_speed</th>\n",
              "      <th>humidity</th>\n",
              "      <th>low_temp</th>\n",
              "      <th>high_temp</th>\n",
              "      <th>Precipitation_Probability</th>\n",
              "      <th>daily_temp_range</th>\n",
              "    </tr>\n",
              "  </thead>\n",
              "  <tbody>\n",
              "    <tr>\n",
              "      <th>count</th>\n",
              "      <td>364.000000</td>\n",
              "      <td>364.000000</td>\n",
              "      <td>364.000000</td>\n",
              "      <td>364.000000</td>\n",
              "      <td>364.000000</td>\n",
              "      <td>364.000000</td>\n",
              "      <td>364.000000</td>\n",
              "      <td>364.000000</td>\n",
              "    </tr>\n",
              "    <tr>\n",
              "      <th>mean</th>\n",
              "      <td>0.439834</td>\n",
              "      <td>0.080039</td>\n",
              "      <td>0.336005</td>\n",
              "      <td>0.523869</td>\n",
              "      <td>0.586726</td>\n",
              "      <td>0.572182</td>\n",
              "      <td>0.210907</td>\n",
              "      <td>0.576087</td>\n",
              "    </tr>\n",
              "    <tr>\n",
              "      <th>std</th>\n",
              "      <td>0.325417</td>\n",
              "      <td>0.152548</td>\n",
              "      <td>0.178969</td>\n",
              "      <td>0.193533</td>\n",
              "      <td>0.244475</td>\n",
              "      <td>0.211223</td>\n",
              "      <td>0.198571</td>\n",
              "      <td>0.188621</td>\n",
              "    </tr>\n",
              "    <tr>\n",
              "      <th>min</th>\n",
              "      <td>0.000000</td>\n",
              "      <td>0.000000</td>\n",
              "      <td>0.000000</td>\n",
              "      <td>0.000000</td>\n",
              "      <td>0.000000</td>\n",
              "      <td>0.000000</td>\n",
              "      <td>0.000000</td>\n",
              "      <td>0.000000</td>\n",
              "    </tr>\n",
              "    <tr>\n",
              "      <th>25%</th>\n",
              "      <td>0.135000</td>\n",
              "      <td>0.000000</td>\n",
              "      <td>0.204059</td>\n",
              "      <td>0.374340</td>\n",
              "      <td>0.404155</td>\n",
              "      <td>0.425062</td>\n",
              "      <td>0.053039</td>\n",
              "      <td>0.465181</td>\n",
              "    </tr>\n",
              "    <tr>\n",
              "      <th>50%</th>\n",
              "      <td>0.398667</td>\n",
              "      <td>0.000000</td>\n",
              "      <td>0.320869</td>\n",
              "      <td>0.530068</td>\n",
              "      <td>0.616570</td>\n",
              "      <td>0.599549</td>\n",
              "      <td>0.160774</td>\n",
              "      <td>0.578260</td>\n",
              "    </tr>\n",
              "    <tr>\n",
              "      <th>75%</th>\n",
              "      <td>0.714583</td>\n",
              "      <td>0.093791</td>\n",
              "      <td>0.421714</td>\n",
              "      <td>0.680910</td>\n",
              "      <td>0.788358</td>\n",
              "      <td>0.749426</td>\n",
              "      <td>0.311683</td>\n",
              "      <td>0.708988</td>\n",
              "    </tr>\n",
              "    <tr>\n",
              "      <th>max</th>\n",
              "      <td>1.000000</td>\n",
              "      <td>1.000000</td>\n",
              "      <td>1.000000</td>\n",
              "      <td>1.000000</td>\n",
              "      <td>1.000000</td>\n",
              "      <td>1.000000</td>\n",
              "      <td>1.000000</td>\n",
              "      <td>1.000000</td>\n",
              "    </tr>\n",
              "  </tbody>\n",
              "</table>\n",
              "</div>"
            ],
            "text/plain": [
              "       sky_condition  ...  daily_temp_range\n",
              "count     364.000000  ...        364.000000\n",
              "mean        0.439834  ...          0.576087\n",
              "std         0.325417  ...          0.188621\n",
              "min         0.000000  ...          0.000000\n",
              "25%         0.135000  ...          0.465181\n",
              "50%         0.398667  ...          0.578260\n",
              "75%         0.714583  ...          0.708988\n",
              "max         1.000000  ...          1.000000\n",
              "\n",
              "[8 rows x 8 columns]"
            ]
          },
          "metadata": {},
          "execution_count": 101
        }
      ]
    },
    {
      "cell_type": "code",
      "metadata": {
        "colab": {
          "base_uri": "https://localhost:8080/"
        },
        "id": "3kHXlI8O3TnO",
        "outputId": "424779a8-a5c7-467d-9b6a-ffc949135dac"
      },
      "source": [
        "right_data = all_data[col_r]\n",
        "\n",
        "right_data['year'] = right_data['date_time'].dt.year\n",
        "right_data['month'] = right_data['date_time'].dt.month\n",
        "right_data['day'] = right_data['date_time'].dt.day\n",
        "right_data['wDay'] = right_data['date_time'].dt.weekday\n",
        "right_data.index = all_data_index"
      ],
      "execution_count": 102,
      "outputs": [
        {
          "output_type": "stream",
          "name": "stderr",
          "text": [
            "/usr/local/lib/python3.7/dist-packages/ipykernel_launcher.py:3: SettingWithCopyWarning: \n",
            "A value is trying to be set on a copy of a slice from a DataFrame.\n",
            "Try using .loc[row_indexer,col_indexer] = value instead\n",
            "\n",
            "See the caveats in the documentation: https://pandas.pydata.org/pandas-docs/stable/user_guide/indexing.html#returning-a-view-versus-a-copy\n",
            "  This is separate from the ipykernel package so we can avoid doing imports until\n",
            "/usr/local/lib/python3.7/dist-packages/ipykernel_launcher.py:4: SettingWithCopyWarning: \n",
            "A value is trying to be set on a copy of a slice from a DataFrame.\n",
            "Try using .loc[row_indexer,col_indexer] = value instead\n",
            "\n",
            "See the caveats in the documentation: https://pandas.pydata.org/pandas-docs/stable/user_guide/indexing.html#returning-a-view-versus-a-copy\n",
            "  after removing the cwd from sys.path.\n",
            "/usr/local/lib/python3.7/dist-packages/ipykernel_launcher.py:5: SettingWithCopyWarning: \n",
            "A value is trying to be set on a copy of a slice from a DataFrame.\n",
            "Try using .loc[row_indexer,col_indexer] = value instead\n",
            "\n",
            "See the caveats in the documentation: https://pandas.pydata.org/pandas-docs/stable/user_guide/indexing.html#returning-a-view-versus-a-copy\n",
            "  \"\"\"\n",
            "/usr/local/lib/python3.7/dist-packages/ipykernel_launcher.py:6: SettingWithCopyWarning: \n",
            "A value is trying to be set on a copy of a slice from a DataFrame.\n",
            "Try using .loc[row_indexer,col_indexer] = value instead\n",
            "\n",
            "See the caveats in the documentation: https://pandas.pydata.org/pandas-docs/stable/user_guide/indexing.html#returning-a-view-versus-a-copy\n",
            "  \n"
          ]
        }
      ]
    },
    {
      "cell_type": "code",
      "metadata": {
        "id": "ovqSVvTi4JdF"
      },
      "source": [
        "all_data_ = pd.merge(left_data, right_data, left_index=True, right_index=True)#, on='id', how='outer')\n",
        "#all_data_ = left_data.join(right_data, how='inner')"
      ],
      "execution_count": 103,
      "outputs": []
    },
    {
      "cell_type": "code",
      "metadata": {
        "id": "lpCiX0db4gSL"
      },
      "source": [
        "all_data = all_data_"
      ],
      "execution_count": 104,
      "outputs": []
    },
    {
      "cell_type": "code",
      "metadata": {
        "id": "EOmxym91ubxP"
      },
      "source": [
        "all_data['YeMoWd'] = (pd.to_numeric(all_data['year'])*1000)+(pd.to_numeric(all_data['month'])*10)+all_data['wDay']"
      ],
      "execution_count": 105,
      "outputs": []
    },
    {
      "cell_type": "code",
      "metadata": {
        "id": "jwdwkurK3SRW"
      },
      "source": [
        "nTrain = len(train)\n",
        "train = all_data[:nTrain]\n",
        "test = all_data[nTrain:]"
      ],
      "execution_count": 106,
      "outputs": []
    },
    {
      "cell_type": "code",
      "metadata": {
        "colab": {
          "base_uri": "https://localhost:8080/"
        },
        "id": "MiempW3H_jz3",
        "outputId": "9def102c-be7f-42b1-85cc-2c144f8c225d"
      },
      "source": [
        "all_data.columns"
      ],
      "execution_count": 72,
      "outputs": [
        {
          "output_type": "execute_result",
          "data": {
            "text/plain": [
              "Index(['sky_condition', 'precipitation_form', 'wind_speed', 'humidity',\n",
              "       'low_temp', 'high_temp', 'Precipitation_Probability',\n",
              "       'daily_temp_range', 'date_time', 'wind_direction', 'number_of_rentals',\n",
              "       'wind_direc_1', 'wind_direc_2', 'wind_direc_3', 'wind_direc_4',\n",
              "       'wind_direc_5', 'wind_direc_6', 'wind_direc_7', 'wind_direc_8',\n",
              "       'average_temp', 'year', 'month', 'day', 'wDay'],\n",
              "      dtype='object')"
            ]
          },
          "metadata": {},
          "execution_count": 72
        }
      ]
    },
    {
      "cell_type": "code",
      "metadata": {
        "colab": {
          "base_uri": "https://localhost:8080/"
        },
        "id": "WICE4w0dq730",
        "outputId": "5e07909f-8bc4-4576-8317-46a5ed6f7f22"
      },
      "source": [
        "cormat = all_data.corr()\n",
        "cormat = cormat.index[abs(cormat['number_of_rentals']) > 0.1]\n",
        "cormat"
      ],
      "execution_count": 112,
      "outputs": [
        {
          "output_type": "execute_result",
          "data": {
            "text/plain": [
              "Index(['sky_condition', 'precipitation_form', 'wind_speed', 'humidity',\n",
              "       'low_temp', 'high_temp', 'Precipitation_Probability',\n",
              "       'daily_temp_range', 'wind_direction', 'number_of_rentals',\n",
              "       'wind_direc_2', 'wind_direc_3', 'wind_direc_4', 'wind_direc_5',\n",
              "       'wind_direc_6', 'average_temp', 'year', 'month', 'YeMoWd'],\n",
              "      dtype='object')"
            ]
          },
          "metadata": {},
          "execution_count": 112
        }
      ]
    },
    {
      "cell_type": "code",
      "metadata": {
        "id": "EuB1igTvF_OC"
      },
      "source": [
        "col_x = ['sky_condition', 'precipitation_form', 'wind_speed', 'humidity',\n",
        "       'Precipitation_Probability', 'average_temp', 'YeMoWd']\n",
        "col_y = ['number_of_rentals']"
      ],
      "execution_count": 147,
      "outputs": []
    },
    {
      "cell_type": "code",
      "metadata": {
        "id": "m-jTa-gC_3s9"
      },
      "source": [
        "from sklearn.model_selection import train_test_split\n",
        "\n",
        "train_x = train[col_x]\n",
        "train_y = np.log1p(train['number_of_rentals'])\n",
        "\n",
        "train_x, val_x, train_y, val_y = train_test_split(train_x, train_y, test_size=0.2, shuffle=True)\n",
        "\n",
        "test_id_idx = test.index\n",
        "\n",
        "test_x = test[col_x]"
      ],
      "execution_count": 148,
      "outputs": []
    },
    {
      "cell_type": "code",
      "metadata": {
        "colab": {
          "base_uri": "https://localhost:8080/"
        },
        "id": "3PdzPZ65GJOE",
        "outputId": "e40ac4fa-a34b-4487-ad95-da5eca92bcab"
      },
      "source": [
        "from xgboost import XGBRegressor\n",
        "\n",
        "xgb = XGBRegressor(random_state = 1)\n",
        "xgb.fit(train_x, train_y)"
      ],
      "execution_count": 149,
      "outputs": [
        {
          "output_type": "stream",
          "name": "stdout",
          "text": [
            "[07:20:45] WARNING: /workspace/src/objective/regression_obj.cu:152: reg:linear is now deprecated in favor of reg:squarederror.\n"
          ]
        },
        {
          "output_type": "execute_result",
          "data": {
            "text/plain": [
              "XGBRegressor(base_score=0.5, booster='gbtree', colsample_bylevel=1,\n",
              "             colsample_bynode=1, colsample_bytree=1, gamma=0,\n",
              "             importance_type='gain', learning_rate=0.1, max_delta_step=0,\n",
              "             max_depth=3, min_child_weight=1, missing=None, n_estimators=100,\n",
              "             n_jobs=1, nthread=None, objective='reg:linear', random_state=1,\n",
              "             reg_alpha=0, reg_lambda=1, scale_pos_weight=1, seed=None,\n",
              "             silent=None, subsample=1, verbosity=1)"
            ]
          },
          "metadata": {},
          "execution_count": 149
        }
      ]
    },
    {
      "cell_type": "code",
      "metadata": {
        "colab": {
          "base_uri": "https://localhost:8080/"
        },
        "id": "KYyPsV1PGRbK",
        "outputId": "cebe0936-739b-4130-a361-4d5e3fe9156f"
      },
      "source": [
        "from sklearn.metrics import mean_squared_error, mean_absolute_error\n",
        "pred_train = xgb.predict(train_x)\n",
        "pred_val = xgb.predict(val_x)\n",
        "\n",
        "print('train mae score: ', mean_squared_error(train_y, pred_train))\n",
        "print('val mae score:', mean_squared_error(val_y, pred_val))\n",
        "\n",
        "# train mae score : 0.06544029142977467\n",
        "# val mae score : 0.11464889851539106\n",
        "# real score : 0.7983113151\n",
        "\n",
        "# train mae score:  0.0697602397088063\n",
        "# val mae score: 0.10759365201564267"
      ],
      "execution_count": 150,
      "outputs": [
        {
          "output_type": "stream",
          "name": "stdout",
          "text": [
            "train mae score:  0.007751978156959145\n",
            "val mae score: 0.15287299797381826\n"
          ]
        }
      ]
    },
    {
      "cell_type": "code",
      "metadata": {
        "id": "W9_bdFYUGU2Q"
      },
      "source": [
        "pred = xgb.predict(test_x)"
      ],
      "execution_count": 151,
      "outputs": []
    },
    {
      "cell_type": "code",
      "metadata": {
        "id": "SKc5kEg0GaZW"
      },
      "source": [
        "submission[col_y] = np.expm1(pred).astype(int)"
      ],
      "execution_count": 152,
      "outputs": []
    },
    {
      "cell_type": "code",
      "metadata": {
        "colab": {
          "base_uri": "https://localhost:8080/",
          "height": 418
        },
        "id": "ezkft1M2qIgf",
        "outputId": "f0531b21-deb9-4ddc-dfe2-89afee85515b"
      },
      "source": [
        "submission"
      ],
      "execution_count": 153,
      "outputs": [
        {
          "output_type": "execute_result",
          "data": {
            "text/html": [
              "<div>\n",
              "<style scoped>\n",
              "    .dataframe tbody tr th:only-of-type {\n",
              "        vertical-align: middle;\n",
              "    }\n",
              "\n",
              "    .dataframe tbody tr th {\n",
              "        vertical-align: top;\n",
              "    }\n",
              "\n",
              "    .dataframe thead th {\n",
              "        text-align: right;\n",
              "    }\n",
              "</style>\n",
              "<table border=\"1\" class=\"dataframe\">\n",
              "  <thead>\n",
              "    <tr style=\"text-align: right;\">\n",
              "      <th></th>\n",
              "      <th>date_time</th>\n",
              "      <th>number_of_rentals</th>\n",
              "    </tr>\n",
              "  </thead>\n",
              "  <tbody>\n",
              "    <tr>\n",
              "      <th>0</th>\n",
              "      <td>2021-04-01</td>\n",
              "      <td>83945</td>\n",
              "    </tr>\n",
              "    <tr>\n",
              "      <th>1</th>\n",
              "      <td>2021-04-02</td>\n",
              "      <td>73119</td>\n",
              "    </tr>\n",
              "    <tr>\n",
              "      <th>2</th>\n",
              "      <td>2021-04-03</td>\n",
              "      <td>49941</td>\n",
              "    </tr>\n",
              "    <tr>\n",
              "      <th>3</th>\n",
              "      <td>2021-04-04</td>\n",
              "      <td>49219</td>\n",
              "    </tr>\n",
              "    <tr>\n",
              "      <th>4</th>\n",
              "      <td>2021-04-05</td>\n",
              "      <td>97794</td>\n",
              "    </tr>\n",
              "    <tr>\n",
              "      <th>...</th>\n",
              "      <td>...</td>\n",
              "      <td>...</td>\n",
              "    </tr>\n",
              "    <tr>\n",
              "      <th>86</th>\n",
              "      <td>2021-06-26</td>\n",
              "      <td>93903</td>\n",
              "    </tr>\n",
              "    <tr>\n",
              "      <th>87</th>\n",
              "      <td>2021-06-27</td>\n",
              "      <td>99996</td>\n",
              "    </tr>\n",
              "    <tr>\n",
              "      <th>88</th>\n",
              "      <td>2021-06-28</td>\n",
              "      <td>17633</td>\n",
              "    </tr>\n",
              "    <tr>\n",
              "      <th>89</th>\n",
              "      <td>2021-06-29</td>\n",
              "      <td>56704</td>\n",
              "    </tr>\n",
              "    <tr>\n",
              "      <th>90</th>\n",
              "      <td>2021-06-30</td>\n",
              "      <td>24871</td>\n",
              "    </tr>\n",
              "  </tbody>\n",
              "</table>\n",
              "<p>91 rows × 2 columns</p>\n",
              "</div>"
            ],
            "text/plain": [
              "     date_time  number_of_rentals\n",
              "0   2021-04-01              83945\n",
              "1   2021-04-02              73119\n",
              "2   2021-04-03              49941\n",
              "3   2021-04-04              49219\n",
              "4   2021-04-05              97794\n",
              "..         ...                ...\n",
              "86  2021-06-26              93903\n",
              "87  2021-06-27              99996\n",
              "88  2021-06-28              17633\n",
              "89  2021-06-29              56704\n",
              "90  2021-06-30              24871\n",
              "\n",
              "[91 rows x 2 columns]"
            ]
          },
          "metadata": {},
          "execution_count": 153
        }
      ]
    },
    {
      "cell_type": "code",
      "metadata": {
        "id": "KlpE5gxSGjv8"
      },
      "source": [
        "submission.to_csv('/content/drive/MyDrive/Colab Notebooks/Bicycle_Rental_Prediction/submission.csv', index=False)"
      ],
      "execution_count": 154,
      "outputs": []
    }
  ]
}